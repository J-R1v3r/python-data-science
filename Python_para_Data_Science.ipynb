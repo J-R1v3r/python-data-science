{
  "nbformat": 4,
  "nbformat_minor": 0,
  "metadata": {
    "colab": {
      "provenance": [],
      "include_colab_link": true
    },
    "kernelspec": {
      "name": "python3",
      "display_name": "Python 3"
    },
    "language_info": {
      "name": "python"
    }
  },
  "cells": [
    {
      "cell_type": "markdown",
      "metadata": {
        "id": "view-in-github",
        "colab_type": "text"
      },
      "source": [
        "<a href=\"https://colab.research.google.com/github/J-R1v3r/python-data-science/blob/main/Python_para_Data_Science.ipynb\" target=\"_parent\"><img src=\"https://colab.research.google.com/assets/colab-badge.svg\" alt=\"Open In Colab\"/></a>"
      ]
    },
    {
      "cell_type": "markdown",
      "source": [
        "# <font color=green> **PYTHON PARA DATA SCIENCE**\n",
        "---"
      ],
      "metadata": {
        "id": "AGc2Cf4cBwd7"
      }
    },
    {
      "cell_type": "markdown",
      "source": [
        "## <font color=green> 1. BIBLIOTECAS\n",
        "---"
      ],
      "metadata": {
        "id": "fH2br9y9CYZ8"
      }
    },
    {
      "cell_type": "markdown",
      "source": [
        "## 1.1 Instalación e importación de bibliotecas\n",
        "\n",
        "En el lenguaje Python se utiliza bastante el concepto de bibliotecas como un conjunto de módulos y funciones útiles para el usuario. Estas favorecen la reducción del uso de códigos en el proyecto, manteniendo únicamente los recursos necesarios para la tarea que deseamos realizar."
      ],
      "metadata": {
        "id": "jjEKgfiuFzHz"
      }
    },
    {
      "cell_type": "markdown",
      "source": [
        "### Instalando una biblioteca"
      ],
      "metadata": {
        "id": "JjpazCgqDRfZ"
      }
    },
    {
      "cell_type": "markdown",
      "source": [
        "Para instalar o actualizar una biblioteca en Python, podemos acudir a `pip` que es un gestor de bibliotecas en Python."
      ],
      "metadata": {
        "id": "_qnuIo7oIQYx"
      }
    },
    {
      "cell_type": "markdown",
      "source": [
        "Existe también PYPI que es un repositorio de bibliotecas Python que contiene las bibliotecas más utilizadas por la comunidad junto a su respectiva documentación.\n",
        "\n",
        "- PYPI ([https://pypi.org/](https://pypi.org/))"
      ],
      "metadata": {
        "id": "IHTmQnlXInD1"
      }
    },
    {
      "cell_type": "code",
      "source": [
        "# !pip install matplotlib"
      ],
      "metadata": {
        "id": "Rv5sIo7NM5VS",
        "outputId": "1ebada87-f1ef-4ea8-e83f-84890f359f99",
        "colab": {
          "base_uri": "https://localhost:8080/"
        }
      },
      "execution_count": null,
      "outputs": [
        {
          "output_type": "stream",
          "name": "stdout",
          "text": [
            "Requirement already satisfied: matplotlib in /usr/local/lib/python3.11/dist-packages (3.10.0)\n",
            "Requirement already satisfied: contourpy>=1.0.1 in /usr/local/lib/python3.11/dist-packages (from matplotlib) (1.3.1)\n",
            "Requirement already satisfied: cycler>=0.10 in /usr/local/lib/python3.11/dist-packages (from matplotlib) (0.12.1)\n",
            "Requirement already satisfied: fonttools>=4.22.0 in /usr/local/lib/python3.11/dist-packages (from matplotlib) (4.57.0)\n",
            "Requirement already satisfied: kiwisolver>=1.3.1 in /usr/local/lib/python3.11/dist-packages (from matplotlib) (1.4.8)\n",
            "Requirement already satisfied: numpy>=1.23 in /usr/local/lib/python3.11/dist-packages (from matplotlib) (2.0.2)\n",
            "Requirement already satisfied: packaging>=20.0 in /usr/local/lib/python3.11/dist-packages (from matplotlib) (24.2)\n",
            "Requirement already satisfied: pillow>=8 in /usr/local/lib/python3.11/dist-packages (from matplotlib) (11.1.0)\n",
            "Requirement already satisfied: pyparsing>=2.3.1 in /usr/local/lib/python3.11/dist-packages (from matplotlib) (3.2.3)\n",
            "Requirement already satisfied: python-dateutil>=2.7 in /usr/local/lib/python3.11/dist-packages (from matplotlib) (2.8.2)\n",
            "Requirement already satisfied: six>=1.5 in /usr/local/lib/python3.11/dist-packages (from python-dateutil>=2.7->matplotlib) (1.17.0)\n"
          ]
        }
      ]
    },
    {
      "cell_type": "markdown",
      "source": [
        "### Importando una biblioteca"
      ],
      "metadata": {
        "id": "A76TbnDbDehe"
      }
    },
    {
      "cell_type": "code",
      "source": [
        "import matplotlib"
      ],
      "metadata": {
        "id": "_xUxLlZFM728"
      },
      "execution_count": null,
      "outputs": []
    },
    {
      "cell_type": "code",
      "source": [
        "matplotlib.__version__"
      ],
      "metadata": {
        "id": "xy035zQzM75b",
        "outputId": "7642f0d7-56d3-4880-be07-9bd880392264",
        "colab": {
          "base_uri": "https://localhost:8080/",
          "height": 35
        }
      },
      "execution_count": null,
      "outputs": [
        {
          "output_type": "execute_result",
          "data": {
            "text/plain": [
              "'3.10.0'"
            ],
            "application/vnd.google.colaboratory.intrinsic+json": {
              "type": "string"
            }
          },
          "metadata": {},
          "execution_count": 3
        }
      ]
    },
    {
      "cell_type": "markdown",
      "source": [
        "## 1.2 Utilizando módulos/bibliotecas\n",
        "\n",
        "- Documentación de Python (https://docs.python.org/es/3/)"
      ],
      "metadata": {
        "id": "oMxkV9-6GXwH"
      }
    },
    {
      "cell_type": "markdown",
      "source": [
        "#### Ejemplo 1: Vamos a probar la biblioteca Matplotlib para un ejemplo sobre el cálculo de los promedios de notas de los estudiantes de una clase.\n",
        "\n",
        "(https://matplotlib.org/stable/tutorials/introductory/pyplot.html)"
      ],
      "metadata": {
        "id": "W1MHaXB2Q7tT"
      }
    },
    {
      "cell_type": "code",
      "source": [
        "from matplotlib import pyplot as plt"
      ],
      "metadata": {
        "id": "hme-WlDYM-Od"
      },
      "execution_count": 3,
      "outputs": []
    },
    {
      "cell_type": "code",
      "source": [
        "notas = {'Juan': 8.0, 'Maria': 9.0, 'José': 10.0, 'Claudia': 3.4, 'Ana': 6.0}"
      ],
      "metadata": {
        "id": "mv1h3vJsM-RK"
      },
      "execution_count": 1,
      "outputs": []
    },
    {
      "cell_type": "code",
      "source": [
        "plt.bar(notas.keys(), notas.values())\n",
        "plt.show()"
      ],
      "metadata": {
        "id": "GK77H828M-Zk",
        "outputId": "d95df977-d6ae-47d2-d1ab-cbc611428da9",
        "colab": {
          "base_uri": "https://localhost:8080/",
          "height": 430
        }
      },
      "execution_count": 4,
      "outputs": [
        {
          "output_type": "display_data",
          "data": {
            "text/plain": [
              "<Figure size 640x480 with 1 Axes>"
            ],
            "image/png": "[encoded data removed]"
          },
          "metadata": {}
        }
      ]
    },
    {
      "cell_type": "markdown",
      "source": [
        "#### Ejemplo 2: Vamos a seleccionar aleatoriamente a un alumno para presentar su trabajo de ciencia de datos usando la biblioteca `random`.\n",
        "\n",
        "(https://docs.python.org/es/3/library/random.html)"
      ],
      "metadata": {
        "id": "5G6u4ZRYRIFZ"
      }
    },
    {
      "cell_type": "code",
      "source": [
        "estudiantes_2 = ['Juan', 'Maria', 'José', 'Claudia', 'Ana', 'Erica']"
      ],
      "metadata": {
        "id": "Y4o2AvhWNBdM"
      },
      "execution_count": null,
      "outputs": []
    },
    {
      "cell_type": "code",
      "source": [
        "import random"
      ],
      "metadata": {
        "id": "9fXfsVnANBiG"
      },
      "execution_count": null,
      "outputs": []
    },
    {
      "cell_type": "markdown",
      "source": [
        "<font color=green>**Tip:**</font> Podrás notar a medida que avanzas en los ejercicios la importancia de acudir a la documentación para aprender cómo utilizar un método de algún módulo en el lenguaje Python.\n",
        "\n",
        "El método `help()`, por ejemplo, retorna una descripción sobre una variable, método o clase.\n",
        "\n",
        "https://docs.python.org/es/3/library/functions.html?#help"
      ],
      "metadata": {
        "id": "N-XJrnISGpTN"
      }
    },
    {
      "cell_type": "code",
      "source": [
        "from random import choice"
      ],
      "metadata": {
        "id": "a2zJCXNUND9X"
      },
      "execution_count": null,
      "outputs": []
    },
    {
      "cell_type": "code",
      "source": [
        "estudiante = choice(estudiantes_2)\n",
        "estudiante"
      ],
      "metadata": {
        "id": "2Yvr71PIND_r",
        "outputId": "9f64967a-866d-4c60-f2a9-4326bacd39e7",
        "colab": {
          "base_uri": "https://localhost:8080/",
          "height": 35
        }
      },
      "execution_count": null,
      "outputs": [
        {
          "output_type": "execute_result",
          "data": {
            "text/plain": [
              "'José'"
            ],
            "application/vnd.google.colaboratory.intrinsic+json": {
              "type": "string"
            }
          },
          "metadata": {},
          "execution_count": 11
        }
      ]
    },
    {
      "cell_type": "code",
      "source": [
        "help(choice)"
      ],
      "metadata": {
        "id": "UFfZz4CxNGjU",
        "outputId": "ba665d73-15d5-495e-e793-feaafa88af0e",
        "colab": {
          "base_uri": "https://localhost:8080/"
        }
      },
      "execution_count": null,
      "outputs": [
        {
          "output_type": "stream",
          "name": "stdout",
          "text": [
            "Help on method choice in module random:\n",
            "\n",
            "choice(seq) method of random.Random instance\n",
            "    Choose a random element from a non-empty sequence.\n",
            "\n"
          ]
        }
      ]
    },
    {
      "cell_type": "markdown",
      "source": [
        "### Calentamiento"
      ],
      "metadata": {
        "id": "NEcd_ZDwozu-"
      }
    },
    {
      "cell_type": "code",
      "source": [
        "'''Programa que instala la versión 3.7.1 de la biblioteca matplotlib.'''\n",
        "!pip install matplotlib==3.7.1"
      ],
      "metadata": {
        "id": "D43TJE6ao7Pi"
      },
      "execution_count": null,
      "outputs": []
    },
    {
      "cell_type": "code",
      "source": [
        "'''Programa que importa la biblioteca numpy con el alias np.'''\n",
        "import numpy as np"
      ],
      "metadata": {
        "id": "UhdN-l0MpGsG"
      },
      "execution_count": null,
      "outputs": []
    },
    {
      "cell_type": "code",
      "source": [
        "'''Programa que lee una lista de números y elija un número al azar.'''\n",
        "from random import choice\n",
        "lista = [8, 12, 54, 23, 43, 1, 90, 87, 105, 77]\n",
        "eleccion = choice(lista)\n",
        "eleccion"
      ],
      "metadata": {
        "id": "HaVQGLqNpJUs",
        "outputId": "777b76f1-bb04-41f1-9801-019165778b35",
        "colab": {
          "base_uri": "https://localhost:8080/"
        }
      },
      "execution_count": null,
      "outputs": [
        {
          "output_type": "execute_result",
          "data": {
            "text/plain": [
              "54"
            ]
          },
          "metadata": {},
          "execution_count": 14
        }
      ]
    },
    {
      "cell_type": "code",
      "source": [
        "'''Programa que genera aleatoriamente un número entero menor que 100.'''\n",
        "from random import randrange\n",
        "numero = randrange(100)\n",
        "numero"
      ],
      "metadata": {
        "id": "9xcUf_TwpXOb",
        "outputId": "b860196f-cbca-48eb-f08d-f2dbab5f11c9",
        "colab": {
          "base_uri": "https://localhost:8080/"
        }
      },
      "execution_count": null,
      "outputs": [
        {
          "output_type": "execute_result",
          "data": {
            "text/plain": [
              "79"
            ]
          },
          "metadata": {},
          "execution_count": 25
        }
      ]
    },
    {
      "cell_type": "code",
      "source": [
        "'''Programa que solicita al usuario ingresar dos números enteros y calcula la potencia del primer número elevado al segundo.'''\n",
        "from math import pow\n",
        "base = int(input('Ingrese la base: '))\n",
        "exponente = int(input('Ingrese el exponente: '))\n",
        "potencia = pow(base, exponente)\n",
        "potencia"
      ],
      "metadata": {
        "id": "nulbWOYGpcA9",
        "outputId": "bb906fd4-1380-4a1a-8b24-86202177fe35",
        "colab": {
          "base_uri": "https://localhost:8080/"
        }
      },
      "execution_count": null,
      "outputs": [
        {
          "name": "stdout",
          "output_type": "stream",
          "text": [
            "Ingrese la base: 7\n",
            "Ingrese el exponente: 3\n"
          ]
        },
        {
          "output_type": "execute_result",
          "data": {
            "text/plain": [
              "343.0"
            ]
          },
          "metadata": {},
          "execution_count": 16
        }
      ]
    },
    {
      "cell_type": "markdown",
      "source": [
        "### Aplicando a proyectos"
      ],
      "metadata": {
        "id": "PJ9AAF-eo9yy"
      }
    },
    {
      "cell_type": "code",
      "source": [
        "'''Programa que solicita al usuario que proporcione el número de participantes de un sorteo y devuelve el número sorteado.'''\n",
        "\n",
        "from random import randint\n",
        "num_participantes = int(input('Ingrese la cantidad de participantes: '))\n",
        "sorteo = randint(1, num_participantes)\n",
        "print(f'El número sorteado es: {sorteo}')"
      ],
      "metadata": {
        "id": "AzDofecRpkjt",
        "outputId": "ac271cca-a707-4575-abc6-09ec3510ff48",
        "colab": {
          "base_uri": "https://localhost:8080/"
        }
      },
      "execution_count": null,
      "outputs": [
        {
          "output_type": "stream",
          "name": "stdout",
          "text": [
            "Ingrese la cantidad de participantes: 25\n",
            "El número sorteado es: 21\n"
          ]
        }
      ]
    },
    {
      "cell_type": "code",
      "source": [
        "'''Programa que solicita al usuario su nombre y genera un número de token par que varía de 1000 a 9998 para acceder a la aplicación de una empresa.'''\n",
        "\n",
        "from random import randrange\n",
        "nombre = input('Ingrese su nombre: ')\n",
        "token = randrange(1000, 9998, 2)\n",
        "print(f'Hola, {nombre}, tu token de acceso es {token} ¡Bienvenido/a!')"
      ],
      "metadata": {
        "id": "fd4HCmMLqTXr",
        "outputId": "3c82edc2-1efb-4b46-aa9a-04916e7cda48",
        "colab": {
          "base_uri": "https://localhost:8080/"
        }
      },
      "execution_count": null,
      "outputs": [
        {
          "output_type": "stream",
          "name": "stdout",
          "text": [
            "Ingrese su nombre: Juan\n",
            "Hola, Juan, tu token de acceso es 7948 ¡Bienvenido/a!\n"
          ]
        }
      ]
    },
    {
      "cell_type": "code",
      "source": [
        "'''Programa que genera una ensalada de frutas sorpresa de manera aleatoria en base a 3 frutas de una lista de 12 frutas.'''\n",
        "\n",
        "from random import sample\n",
        "frutas = [\"manzana\", \"banana\", \"uva\", \"pera\", \"mango\", \"coco\", \"sandia\", \"fresa\", \"naranja\", \"maracuya\", \"kiwi\", \"cereza\"]\n",
        "ensalada = sample(frutas, 3)\n",
        "print(f'Ensalada de frutas sorpresa: {ensalada}')"
      ],
      "metadata": {
        "id": "4trG68p4rZ0G",
        "outputId": "8e974e1c-530e-4f07-d84c-fd7111c4f623",
        "colab": {
          "base_uri": "https://localhost:8080/"
        }
      },
      "execution_count": null,
      "outputs": [
        {
          "output_type": "stream",
          "name": "stdout",
          "text": [
            "Ensalada de frutas sorpresa: ['banana', 'cereza', 'sandia']\n"
          ]
        }
      ]
    },
    {
      "cell_type": "code",
      "source": [
        "'''Programa que calcula la raíz cuadrada de una lista de números, identificando cuáles resultan en un número entero.'''\n",
        "\n",
        "from math import sqrt\n",
        "numeros = [2, 8, 15, 23, 91, 112, 256]\n",
        "for numero in numeros:\n",
        "  raiz = sqrt(numero)\n",
        "  if raiz.is_integer():\n",
        "    print(f'La raíz cuadrada de {numero} es {int(raiz)}')"
      ],
      "metadata": {
        "id": "OyB4BzQOr5iJ",
        "outputId": "98411b9c-d252-4f59-e785-6564e6ee185b",
        "colab": {
          "base_uri": "https://localhost:8080/"
        }
      },
      "execution_count": null,
      "outputs": [
        {
          "output_type": "stream",
          "name": "stdout",
          "text": [
            "La raíz cuadrada de 256 es 16\n"
          ]
        }
      ]
    },
    {
      "cell_type": "code",
      "source": [
        "'''Programa que solicita al usuario el radio del área circular y devuelve el valor a pagar en base al precio del metro cuadrado.'''\n",
        "\n",
        "from math import pi, pow\n",
        "precio_m2 = 25\n",
        "radio = float(input('Ingresa el radio del área circular: '))\n",
        "precio_a_pagar = precio_m2 * (pi * pow(radio, 2))\n",
        "print(f'El precio a pagar es de R$ {precio_a_pagar:.2f}')"
      ],
      "metadata": {
        "id": "zN9ZEkkMsKaR",
        "outputId": "1a1ef7a2-da70-4790-a11f-2e30b9d78bcb",
        "colab": {
          "base_uri": "https://localhost:8080/"
        }
      },
      "execution_count": null,
      "outputs": [
        {
          "output_type": "stream",
          "name": "stdout",
          "text": [
            "Ingresa el radio del área circular: 7\n",
            "El precio a pagar es de R$ 3848.45\n"
          ]
        }
      ]
    },
    {
      "cell_type": "markdown",
      "source": [
        "## <font color=green> 2. FUNCIONES\n",
        "---"
      ],
      "metadata": {
        "id": "2hrSPmlcBwWS"
      }
    },
    {
      "cell_type": "markdown",
      "source": [
        "En Python, las **funciones** son secuencias de instrucciones que ejecutan tareas específicas, permitiendo su reutilización en diferentes partes del código. Estas pueden recibir parámetros de entrada (que también los conocemos como *inputs*) y también retornar resultados."
      ],
      "metadata": {
        "id": "gC4lHsW-DREY"
      }
    },
    {
      "cell_type": "markdown",
      "source": [
        "## 2.1 Built-in function (Función Incorporada)\n",
        "\n",
        "El interpretador de Python contiene una serie de funciones incorporadas que pueden ser invocadas es cualquier momento. Algunas que vamos a utilizar a lo largo de este curso son: `type()`, `print()`, `list()`, `zip()`, `sum()`, `map()`, etc.\n",
        "\n",
        "***Documentación:***\n",
        "https://docs.python.org/es/3/library/functions.html\n"
      ],
      "metadata": {
        "id": "Qr_h1_UNEzHZ"
      }
    },
    {
      "cell_type": "markdown",
      "source": [
        "#### **Situación 1:**\n",
        "\n",
        "La institución educativa para la cual nos encontramos trabajando compartió los datos de las notas de un estudiante para que pudiesemos calcular su promedio con una casilla decimal.\n",
        "\n",
        "Los datos recibidos corresponden a un diccionario cuyas llaves indican el trimestre en cuestión y sus valores corresponden a las notas de cada trimestre del estudiante en una respectiva materia."
      ],
      "metadata": {
        "id": "MMOJIW3TyLIB"
      }
    },
    {
      "cell_type": "code",
      "source": [
        "notas = {'1° Trimestre': 8.5, '2° Trimestre': 9.0, '3° Trimestre': 6.0}"
      ],
      "metadata": {
        "id": "WQ-pCgdaMOlc"
      },
      "execution_count": 9,
      "outputs": []
    },
    {
      "cell_type": "code",
      "source": [
        "suma = sum(i for i in notas.values())\n",
        "suma"
      ],
      "metadata": {
        "id": "GU-HvC-QMOoS",
        "colab": {
          "base_uri": "https://localhost:8080/"
        },
        "outputId": "348b94af-4e43-4294-f783-341394af889f"
      },
      "execution_count": 12,
      "outputs": [
        {
          "output_type": "execute_result",
          "data": {
            "text/plain": [
              "23.5"
            ]
          },
          "metadata": {},
          "execution_count": 12
        }
      ]
    },
    {
      "cell_type": "code",
      "source": [
        "promedio = sum(notas.values()) / len(notas)\n",
        "promedio"
      ],
      "metadata": {
        "id": "qKEyjY2bMOqj",
        "colab": {
          "base_uri": "https://localhost:8080/"
        },
        "outputId": "dce0a706-de68-4e82-aaf6-741cf6c972ac"
      },
      "execution_count": null,
      "outputs": [
        {
          "output_type": "execute_result",
          "data": {
            "text/plain": [
              "7.833333333333333"
            ]
          },
          "metadata": {},
          "execution_count": 3
        }
      ]
    },
    {
      "cell_type": "markdown",
      "source": [
        "*Redondear el promedio usando round():*\n",
        "\n",
        "https://docs.python.org/es/3/library/functions.html#round"
      ],
      "metadata": {
        "id": "JD2z3LW8312E"
      }
    },
    {
      "cell_type": "code",
      "source": [
        "promedio = round(promedio, 2)\n",
        "promedio"
      ],
      "metadata": {
        "id": "c7Cn5XFfMP5E",
        "colab": {
          "base_uri": "https://localhost:8080/"
        },
        "outputId": "4d5537b4-fade-4136-bf35-d332ab704e5a"
      },
      "execution_count": null,
      "outputs": [
        {
          "output_type": "execute_result",
          "data": {
            "text/plain": [
              "7.83"
            ]
          },
          "metadata": {},
          "execution_count": 5
        }
      ]
    },
    {
      "cell_type": "markdown",
      "source": [
        "## 2.2 Creando funciones"
      ],
      "metadata": {
        "id": "NCUSezOJIdfy"
      }
    },
    {
      "cell_type": "markdown",
      "source": [
        "Tras explorar las funciones incorporadas y aprender cómo utilizar algunas de ellas, es posible que tengas la necesidad de resolver un problema específico y estas no sean suficientes.\n",
        "\n",
        "Por este motivo, necesitaremos crear nuestras propias funciones, y aún más, si necesitamos aplicarlas en varias partes de nuestros códigos."
      ],
      "metadata": {
        "id": "QrTAXwghsg6s"
      }
    },
    {
      "cell_type": "markdown",
      "source": [
        "### Funciones sin parámetros\n",
        "\n",
        "#### Formato estándar:\n",
        "\n",
        "```python\n",
        "def <nombre>():\n",
        "  <instrucciones>\n",
        "```"
      ],
      "metadata": {
        "id": "zxyXiX462A_X"
      }
    },
    {
      "cell_type": "code",
      "source": [
        "def promedio():\n",
        "  calculo = (8.5 + 9.0 + 6.0) / 3\n",
        "  print(calculo)"
      ],
      "metadata": {
        "id": "WgWoULpnMSrT"
      },
      "execution_count": null,
      "outputs": []
    },
    {
      "cell_type": "code",
      "source": [
        "promedio()"
      ],
      "metadata": {
        "id": "VKfg0zkDMStp",
        "colab": {
          "base_uri": "https://localhost:8080/"
        },
        "outputId": "13ebed14-37fb-41d9-95a3-4817519183fa"
      },
      "execution_count": null,
      "outputs": [
        {
          "output_type": "stream",
          "name": "stdout",
          "text": [
            "7.833333333333333\n"
          ]
        }
      ]
    },
    {
      "cell_type": "markdown",
      "source": [
        "### Funciones con parámetros\n",
        "\n",
        "#### Formato estándar:\n",
        "\n",
        "```python\n",
        "def <nombre>(<param_1>, <param_2>, ..., <param_n>):\n",
        "  <instrucciones>\n",
        "```"
      ],
      "metadata": {
        "id": "o9AR_DNDFKSD"
      }
    },
    {
      "cell_type": "code",
      "source": [
        "def promedio(nota1, nota2, nota3):\n",
        "  calculo = (nota1 + nota2 + nota3) / 3\n",
        "  print(calculo)"
      ],
      "metadata": {
        "id": "1QHJXCYsMUx3"
      },
      "execution_count": null,
      "outputs": []
    },
    {
      "cell_type": "code",
      "source": [
        "promedio(8.5, 9.0, 6.0)"
      ],
      "metadata": {
        "id": "txkkIwheMU0n",
        "colab": {
          "base_uri": "https://localhost:8080/"
        },
        "outputId": "9f844dba-215e-495e-93ad-504cc944e30f"
      },
      "execution_count": null,
      "outputs": [
        {
          "output_type": "stream",
          "name": "stdout",
          "text": [
            "7.833333333333333\n"
          ]
        }
      ]
    },
    {
      "cell_type": "code",
      "source": [
        "promedio(nota1 = 8.5, nota2 = 9.0, nota3 = 6.0)"
      ],
      "metadata": {
        "id": "Pq88ApQEMWK9",
        "colab": {
          "base_uri": "https://localhost:8080/"
        },
        "outputId": "1e696b11-6f2a-4ba2-8143-544ac08df7fc"
      },
      "execution_count": null,
      "outputs": [
        {
          "output_type": "stream",
          "name": "stdout",
          "text": [
            "7.833333333333333\n"
          ]
        }
      ]
    },
    {
      "cell_type": "markdown",
      "source": [
        "#### **Situación 2:**\n",
        "\n",
        "Recibimos una solicitud para crear una función que calcule el promedio de notas de un estudiante a partir de una lista; que permita alterar la cantidad de notas, y que no implique tener que modificar la función.\n",
        "\n",
        "Los datos recibidos, en esta ocasión, corresponden a una lista que contiene las notas de un mismo estudiante en una determinada materia.\n",
        "\n",
        "notas = 8.5, 9.0, 6.0, 10.0\n",
        "\n",
        "**¿Vamos a resolver este desafío?**\n",
        "\n",
        "Para facilitar nuestra comprensión del proceso, vamos a aplicar las notas de un único estudiante; sin embargo, puedes probar otros casos para practicar."
      ],
      "metadata": {
        "id": "-Umx7n134suz"
      }
    },
    {
      "cell_type": "code",
      "source": [
        "notas = [8.5, 9.0, 6.0, 10.0]"
      ],
      "metadata": {
        "id": "U4MlTO9ucAKc"
      },
      "execution_count": 21,
      "outputs": []
    },
    {
      "cell_type": "code",
      "source": [
        "from typing import List\n",
        "\n",
        "def promedio(lista: List[float]) -> float:\n",
        "  \"\"\"\n",
        "  Calcula el promedio de los elementos en una lista de números.\n",
        "\n",
        "  Parameters\n",
        "  ----------\n",
        "  lista : List[float]\n",
        "      Lista de números (enteros o de punto flotante) para calcular el promedio.\n",
        "\n",
        "  Returns\n",
        "  -------\n",
        "  float\n",
        "      El promedio de los elementos en la lista.\n",
        "      Retorna NaN si la lista está vacía para evitar ZeroDivisionError.\n",
        "\n",
        "  Examples\n",
        "  --------\n",
        "  >>> promedio([1, 2, 3, 4, 5])\n",
        "  3.0\n",
        "  >>> promedio([10.5, 20.5, 30.5])\n",
        "  20.5\n",
        "  >>> promedio([])\n",
        "  nan\n",
        "  \"\"\"\n",
        "  if not lista:\n",
        "    import numpy as np\n",
        "    return np.nan\n",
        "  calculo = sum(lista) / len(lista)\n",
        "  print(calculo)"
      ],
      "metadata": {
        "id": "ZrqyDBNFMYOK"
      },
      "execution_count": 31,
      "outputs": []
    },
    {
      "cell_type": "code",
      "source": [
        "media = promedio(notas)\n",
        "media"
      ],
      "metadata": {
        "id": "wEkixagwMY2E",
        "colab": {
          "base_uri": "https://localhost:8080/"
        },
        "outputId": "9be0cd5b-f4a1-49bd-f436-041bad827959"
      },
      "execution_count": 32,
      "outputs": [
        {
          "output_type": "stream",
          "name": "stdout",
          "text": [
            "8.375\n"
          ]
        }
      ]
    },
    {
      "cell_type": "code",
      "source": [
        "type(media)"
      ],
      "metadata": {
        "id": "60Gvxd9tMa5d",
        "colab": {
          "base_uri": "https://localhost:8080/"
        },
        "outputId": "17e02d92-2daf-4595-a9bf-22d04edcdb70"
      },
      "execution_count": null,
      "outputs": [
        {
          "output_type": "execute_result",
          "data": {
            "text/plain": [
              "NoneType"
            ]
          },
          "metadata": {},
          "execution_count": 34
        }
      ]
    },
    {
      "cell_type": "markdown",
      "source": [
        "<font color=red>**Atención!**</font>\n",
        "Cuando utilizamos funciones, necesitamos prestar atención a una propiedad llamada **Alcance de una función**. Esta propiedad determina dónde una variable puede ser utilizada dentro del código. Por ejemplo, una variable creada dentro de una función existirá únicamente dentro de esta función. O sea, cuando finaliza la ejecución de una función, la variable no estará disponible para el usuario en el resto del código."
      ],
      "metadata": {
        "id": "skMq7d0_xHND"
      }
    },
    {
      "cell_type": "code",
      "source": [
        "calculo"
      ],
      "metadata": {
        "id": "yTOqJSgsMbdJ",
        "colab": {
          "base_uri": "https://localhost:8080/",
          "height": 141
        },
        "outputId": "ab4d0199-90b0-42ce-bc00-780862e251f5"
      },
      "execution_count": 30,
      "outputs": [
        {
          "output_type": "error",
          "ename": "NameError",
          "evalue": "name 'calculo' is not defined",
          "traceback": [
            "\u001b[0;31m---------------------------------------------------------------------------\u001b[0m",
            "\u001b[0;31mNameError\u001b[0m                                 Traceback (most recent call last)",
            "\u001b[0;32m<ipython-input-30-358730cc7909>\u001b[0m in \u001b[0;36m<cell line: 0>\u001b[0;34m()\u001b[0m\n\u001b[0;32m----> 1\u001b[0;31m \u001b[0mcalculo\u001b[0m\u001b[0;34m\u001b[0m\u001b[0;34m\u001b[0m\u001b[0m\n\u001b[0m",
            "\u001b[0;31mNameError\u001b[0m: name 'calculo' is not defined"
          ]
        }
      ]
    },
    {
      "cell_type": "markdown",
      "source": [
        "## 2.3 Funciones que retornan valores\n",
        "\n",
        "#### Formato estándar:\n",
        "\n",
        "```python\n",
        "def <nombre>(<param_1>, <param_2>, ..., <param_n>):\n",
        "  <instrucciones>\n",
        "  return resultado\n",
        "```"
      ],
      "metadata": {
        "id": "-oDFGKcA52kG"
      }
    },
    {
      "cell_type": "markdown",
      "source": [
        "Retomando la actividad anterior, podemos retornar y guardar el valor del promedio de la siguiente forma:"
      ],
      "metadata": {
        "id": "DxvT_uItbQ-q"
      }
    },
    {
      "cell_type": "code",
      "source": [
        "# Notas del estudiante\n",
        "notas = [8.5, 9.0, 6.0, 10.0]"
      ],
      "metadata": {
        "id": "GlWdnX7Ubgl3"
      },
      "execution_count": null,
      "outputs": []
    },
    {
      "cell_type": "code",
      "source": [
        "from typing import List\n",
        "\n",
        "def promedio(lista: List[float]) -> float:\n",
        "  \"\"\"\n",
        "  Calcula el promedio de los elementos en una lista de números.\n",
        "\n",
        "  Parameters\n",
        "  ----------\n",
        "  lista : List[float]\n",
        "      Lista de números (enteros o de punto flotante) para calcular el promedio.\n",
        "\n",
        "  Returns\n",
        "  -------\n",
        "  float\n",
        "      El promedio de los elementos en la lista.\n",
        "      Retorna NaN si la lista está vacía para evitar ZeroDivisionError.\n",
        "\n",
        "  Examples\n",
        "  --------\n",
        "  >>> promedio([1, 2, 3, 4, 5])\n",
        "  3.0\n",
        "  >>> promedio([10.5, 20.5, 30.5])\n",
        "  20.5\n",
        "  >>> promedio([])\n",
        "  nan\n",
        "  \"\"\"\n",
        "  if not lista:\n",
        "    import numpy as np\n",
        "    return np.nan\n",
        "  calculo = sum(lista) / len(lista)\n",
        "  return calculo"
      ],
      "metadata": {
        "id": "JdMFsT9GMgI6"
      },
      "execution_count": 33,
      "outputs": []
    },
    {
      "cell_type": "code",
      "source": [
        "calculo = promedio(notas)\n",
        "calculo"
      ],
      "metadata": {
        "id": "35zC247QMgRP",
        "colab": {
          "base_uri": "https://localhost:8080/"
        },
        "outputId": "7b0b0caf-7ec7-4ac7-b76c-32b92f4adcfe"
      },
      "execution_count": 34,
      "outputs": [
        {
          "output_type": "execute_result",
          "data": {
            "text/plain": [
              "8.375"
            ]
          },
          "metadata": {},
          "execution_count": 34
        }
      ]
    },
    {
      "cell_type": "code",
      "source": [
        "type(calculo)"
      ],
      "metadata": {
        "id": "TjmB8IWpMgV4",
        "colab": {
          "base_uri": "https://localhost:8080/"
        },
        "outputId": "1c8bf0da-8c8a-4a91-d8dc-dbeeda1b0228"
      },
      "execution_count": 35,
      "outputs": [
        {
          "output_type": "execute_result",
          "data": {
            "text/plain": [
              "float"
            ]
          },
          "metadata": {},
          "execution_count": 35
        }
      ]
    },
    {
      "cell_type": "markdown",
      "source": [
        "#### **Situación 3:**\n",
        "\n",
        "Recibimos una nueva solicitud. Debemos calcular el promedio de un estudiante a partir de una lista y retornar tanto el promedio como la situación del estudiante (\"Aprobado(a)\" si la nota es mayor o igual a 7.0, en caso contrario, será \"Reprobado(a)\").\n",
        "\n",
        "Además de ello, necesitamos exhibir un pequeño texto para indicar el promedio del estudiante y cuál es su situación. Los datos recibidos corresponden a una lista que contiene apenas las notas de un estudiante en una materia determinada.\n",
        "\n",
        "**¿Vamos a resolver este desafío?**\n",
        "\n",
        "Para facilitar nuestra comprensión del proceso, vamos a aplicar las notas de un único estudiante; sin embargo, puedes probar otros casos para practicar."
      ],
      "metadata": {
        "id": "_awyOKOH8OOi"
      }
    },
    {
      "cell_type": "code",
      "source": [
        "# Notas del estudiante\n",
        "notas = [8.5, 9.0, 6.0, 10.0]"
      ],
      "metadata": {
        "id": "3saGo2kDf0BY"
      },
      "execution_count": 46,
      "outputs": []
    },
    {
      "cell_type": "code",
      "source": [
        "from typing import List\n",
        "\n",
        "def boletin(lista: List[float]) -> str:\n",
        "  \"\"\"\n",
        "  Calcula el promedio de notas en una lista y determina la situación del estudiante.\n",
        "\n",
        "  Parameters\n",
        "  ----------\n",
        "  lista : List[float]\n",
        "      Lista de notas numéricas (entre 0.0 y 10.0) para calcular el promedio.\n",
        "\n",
        "  Returns\n",
        "  -------\n",
        "  str\n",
        "      Cadena de texto indicando el promedio del estudiante y su situación\n",
        "      (\"Aprobado(a)\" si el promedio es mayor o igual a 7.0, \"Reprobado(a)\" en caso contrario).\n",
        "      Retorna un mensaje de error si la lista está vacía.\n",
        "\n",
        "  Examples\n",
        "  --------\n",
        "  >>> boletin([8.5, 9.0, 7.5])\n",
        "  'El promedio del estudiante es 8.333333333333334 y su situación es Aprobado(a)'\n",
        "  >>> boletin([5.0, 6.5, 4.0])\n",
        "  'El promedio del estudiante es 5.166666666666667 y su situación es Reprobado(a)'\n",
        "  >>> boletin([])\n",
        "  'Error: La lista de notas no puede estar vacía.'\n",
        "  \"\"\"\n",
        "  if not lista:\n",
        "    return 'Error: La lista de notas no puede estar vacía.'\n",
        "  elif any(nota < 0.0 or nota > 10.0 for nota in lista):\n",
        "    return 'Error: Las notas deben estar entre 0.0 y 10.0.'\n",
        "  calculo = sum(lista) / len(lista)\n",
        "  situacion = 'Aprobado(a)' if calculo >= 7.0 else 'Reprobado(a)'\n",
        "  return f'El promedio del estudiante es {calculo} y su situación es {situacion}'"
      ],
      "metadata": {
        "id": "unNLrdFjMjbv"
      },
      "execution_count": 47,
      "outputs": []
    },
    {
      "cell_type": "code",
      "source": [
        "boletin(notas)"
      ],
      "metadata": {
        "id": "Rmvg4hNeMjeD",
        "colab": {
          "base_uri": "https://localhost:8080/",
          "height": 35
        },
        "outputId": "ff395de0-800a-4a25-ecad-e7ee5fa950e5"
      },
      "execution_count": 48,
      "outputs": [
        {
          "output_type": "execute_result",
          "data": {
            "text/plain": [
              "'El promedio del estudiante es 8.375 y su situación es Aprobado(a)'"
            ],
            "application/vnd.google.colaboratory.intrinsic+json": {
              "type": "string"
            }
          },
          "metadata": {},
          "execution_count": 48
        }
      ]
    },
    {
      "cell_type": "code",
      "source": [
        "notas2 = [7.5, 4.0, 3.0, 10.0]"
      ],
      "metadata": {
        "id": "jCYuFpmeMji6"
      },
      "execution_count": 49,
      "outputs": []
    },
    {
      "cell_type": "code",
      "source": [
        "boletin(notas2)"
      ],
      "metadata": {
        "id": "hSht0Z2cMjlT",
        "colab": {
          "base_uri": "https://localhost:8080/",
          "height": 35
        },
        "outputId": "ae67e477-0fda-4be3-9b8a-28b7d607f79c"
      },
      "execution_count": 50,
      "outputs": [
        {
          "output_type": "execute_result",
          "data": {
            "text/plain": [
              "'El promedio del estudiante es 6.125 y su situación es Reprobado(a)'"
            ],
            "application/vnd.google.colaboratory.intrinsic+json": {
              "type": "string"
            }
          },
          "metadata": {},
          "execution_count": 50
        }
      ]
    },
    {
      "cell_type": "markdown",
      "source": [
        "## 2.4 Funciones lambda\n",
        "\n",
        "También se conocen como funciones anónimas, son funciones que no necesitan ser definidas, o sea, no poseen un nombre, y describen en una única fila los comandos que deseamos aplicar.\n",
        "\n",
        "https://docs.python.org/es/3/reference/expressions.html?#lambda\n",
        "\n",
        "#### Formato estándar:\n",
        "\n",
        "```python\n",
        "lambda <variable>: <expresion>\n",
        "```"
      ],
      "metadata": {
        "id": "hwYYRpkZMft5"
      }
    },
    {
      "cell_type": "code",
      "source": [
        "nota = float(input('Ingrese su nota: '))\n",
        "\n",
        "def cualitativa(nota):\n",
        "  return nota + 0.5\n",
        "\n",
        "cualitativa(nota)"
      ],
      "metadata": {
        "id": "wcNxDJoPMmTJ",
        "colab": {
          "base_uri": "https://localhost:8080/"
        },
        "outputId": "a50df254-af37-48dd-bd53-b7563453cf40"
      },
      "execution_count": null,
      "outputs": [
        {
          "name": "stdout",
          "output_type": "stream",
          "text": [
            "Ingrese su nota: 6\n"
          ]
        },
        {
          "output_type": "execute_result",
          "data": {
            "text/plain": [
              "6.5"
            ]
          },
          "metadata": {},
          "execution_count": 47
        }
      ]
    },
    {
      "cell_type": "code",
      "source": [
        "nota = float(input('Ingrese su nota: '))\n",
        "\n",
        "cualitativa = lambda nota: nota + 0.5\n",
        "\n",
        "cualitativa(nota)"
      ],
      "metadata": {
        "id": "S-baAoaQMmVy",
        "colab": {
          "base_uri": "https://localhost:8080/"
        },
        "outputId": "5c70351f-4c4e-4973-8a6c-1b634bdf5800"
      },
      "execution_count": null,
      "outputs": [
        {
          "name": "stdout",
          "output_type": "stream",
          "text": [
            "Ingrese su nota: 6\n"
          ]
        },
        {
          "output_type": "execute_result",
          "data": {
            "text/plain": [
              "6.5"
            ]
          },
          "metadata": {},
          "execution_count": 48
        }
      ]
    },
    {
      "cell_type": "markdown",
      "source": [
        "#### **Situación 4:**\n",
        "\n",
        "En esta nueva solicitud, necesitamos crear una calculadora simple para obtener el promedio ponderado de notas de una materia determinada. Vamos a pedir que el usuario introduzca 3 notas (N1, N2, N3) del estudiante y devuelva el promedio ponderado de este estudiante. Los pesos de las notas son de, respectivamente 3, 2 y 5.\n",
        "\n",
        "Necesitamos exhibir un pequeño texto para poder indicar el promedio del estudiante.\n",
        "**¿Vamos a resolver este desafío?**\n"
      ],
      "metadata": {
        "id": "AuRWyNXYgD_b"
      }
    },
    {
      "cell_type": "markdown",
      "source": [
        "**Resolviendo nuestro problema:**"
      ],
      "metadata": {
        "id": "vdKk3DRBmtUE"
      }
    },
    {
      "cell_type": "code",
      "source": [
        "notas, pesos_notas = [], [3, 2, 5]\n",
        "p1, p2, p3 = pesos_notas\n",
        "\n",
        "for i in range(3):\n",
        "  while True:\n",
        "    try:\n",
        "      notas.append(float(input(f'Ingrese la nota {i + 1}: ')))\n",
        "      break\n",
        "    except:\n",
        "      print('Error: Ingrese un valor numérico.')\n",
        "\n",
        "promedio = lambda n1, n2, n3: (n1 * p1 + n2 * p2 + n3 * p3) / sum(pesos_notas)\n",
        "nota_final = promedio(notas[0], notas[1], notas[2])\n",
        "print(f'El promedio ponderado del estudiante es {nota_final}.')"
      ],
      "metadata": {
        "id": "6YxEn9aiMnYJ",
        "colab": {
          "base_uri": "https://localhost:8080/"
        },
        "outputId": "8e6ea8ec-834f-4aab-b8f4-c9128ab4d548"
      },
      "execution_count": 56,
      "outputs": [
        {
          "output_type": "stream",
          "name": "stdout",
          "text": [
            "Ingrese la nota 1: 8.0\n",
            "Ingrese la nota 2: 9.0\n",
            "Ingrese la nota 3: 9.5\n",
            "El promedio ponderado del estudiante es 8.95.\n"
          ]
        }
      ]
    },
    {
      "cell_type": "markdown",
      "source": [
        "### Mapeando valores\n",
        "\n",
        "#### Formato estándar:\n",
        "\n",
        "```python\n",
        "map(<lambda function>, <iterador>)\n",
        "```"
      ],
      "metadata": {
        "id": "SOK4BC4mmKbG"
      }
    },
    {
      "cell_type": "markdown",
      "source": [
        "#### **Situación 5:**\n",
        "\n",
        "Ahora, debemos crear una pequeña función que permita dar una nota cualitativa (puntaje extra) a las notas del trimestre de los estudiantes del grupo que ganó el concurso de programación realizado en la institución. Cada estudiante recibirá el cualitativo de 0.5 añadido al promedio.\n",
        "\n",
        "Los datos recibidos corresponden a una lista que contiene las notas de algunos estudiantes y una variable con el cualitativo recibido.\n",
        "\n",
        "**¿Vamos a resolver este desafío?**\n",
        "\n",
        "Para facilitar nuestra comprensión del proceso, vamos a aplicar las notas de 5 estudiantes; sin embargo, puedes probar otros casos para practicar."
      ],
      "metadata": {
        "id": "1qk0gLdfFcbf"
      }
    },
    {
      "cell_type": "code",
      "source": [
        "# Notas del estudiante\n",
        "notas, cualitativo = [6.0, 7.0, 9.0, 5.5, 8.0], 0.5"
      ],
      "metadata": {
        "id": "RdoaWhuVI_OB"
      },
      "execution_count": 57,
      "outputs": []
    },
    {
      "cell_type": "code",
      "source": [
        "notas_actualizadas = map(lambda nota: nota + cualitativo, notas)"
      ],
      "metadata": {
        "id": "3YDQ39wFMq5u"
      },
      "execution_count": 58,
      "outputs": []
    },
    {
      "cell_type": "code",
      "source": [
        "notas_actualizadas"
      ],
      "metadata": {
        "id": "ZbfpvfWJMsjv",
        "colab": {
          "base_uri": "https://localhost:8080/"
        },
        "outputId": "7b35b006-1835-4203-c10d-e898427c4486"
      },
      "execution_count": 59,
      "outputs": [
        {
          "output_type": "execute_result",
          "data": {
            "text/plain": [
              "<map at 0x7b1d7e202ef0>"
            ]
          },
          "metadata": {},
          "execution_count": 59
        }
      ]
    },
    {
      "cell_type": "code",
      "source": [
        "notas_actualizadas = list(notas_actualizadas)\n",
        "print(notas, notas_actualizadas, sep='\\n')"
      ],
      "metadata": {
        "id": "TA-zGLJfMseA",
        "colab": {
          "base_uri": "https://localhost:8080/"
        },
        "outputId": "daa8e00f-7979-4794-8979-856fea29ab0f"
      },
      "execution_count": 60,
      "outputs": [
        {
          "output_type": "stream",
          "name": "stdout",
          "text": [
            "[6.0, 7.0, 9.0, 5.5, 8.0]\n",
            "[6.5, 7.5, 9.5, 6.0, 8.5]\n"
          ]
        }
      ]
    },
    {
      "cell_type": "markdown",
      "source": [
        "### Calentamiento"
      ],
      "metadata": {
        "id": "uv63jd1pDdDS"
      }
    },
    {
      "cell_type": "code",
      "source": [
        "lista = [16, 14, 63, 65, 17, 99, 70, 11, 20, 48, 79, 32, 17, 89, 12, 25, 66]\n",
        "tamaño = len(lista) # Tamaño de la lista\n",
        "mayor = max(lista) # Valor máximo de la lista\n",
        "menor = min(lista) # Valor mínimo de la lista\n",
        "suma = sum(lista) # Suma de los valores de la lista\n",
        "print(f'La lista tiene {tamaño} números, donde el mayor es {mayor} y el menor es {menor}. La suma de los valores es {suma}.')"
      ],
      "metadata": {
        "colab": {
          "base_uri": "https://localhost:8080/"
        },
        "id": "Whu4NYXpDsh1",
        "outputId": "056828ac-8ab1-4f3b-910b-1ed995238891"
      },
      "execution_count": null,
      "outputs": [
        {
          "output_type": "stream",
          "name": "stdout",
          "text": [
            "La lista tiene 17 números, donde el mayor es 99 y el menor es 11. La suma de los valores es 743.\n"
          ]
        }
      ]
    },
    {
      "cell_type": "code",
      "source": [
        "def tabla_multiplicar(numero: int) -> None:\n",
        "  \"\"\"\n",
        "  Muestra la tabla de multiplicar de un número entero hasta el 10.\n",
        "\n",
        "  Parameters\n",
        "  ----------\n",
        "  numero : int\n",
        "      El número entero para el cual se generará la tabla de multiplicar.\n",
        "\n",
        "  Returns\n",
        "  -------\n",
        "  None\n",
        "      Esta función no devuelve ningún valor explícitamente. Imprime la tabla\n",
        "      de multiplicar en la salida estándar.\n",
        "\n",
        "  Examples\n",
        "  --------\n",
        "  >>> tabla_multiplicar(5)\n",
        "  Tabla del 5:\n",
        "  5 x 0 = 0\n",
        "  5 x 1 = 5\n",
        "  5 x 2 = 10\n",
        "  5 x 3 = 15\n",
        "  5 x 4 = 20\n",
        "  5 x 5 = 25\n",
        "  5 x 6 = 30\n",
        "  5 x 7 = 35\n",
        "  5 x 8 = 40\n",
        "  5 x 9 = 45\n",
        "  5 x 10 = 50\n",
        "  \"\"\"\n",
        "  print(f'Tabla del {numero}:')\n",
        "  for i in range(11):\n",
        "    print(f'{numero} x {i} = {numero * i}')\n",
        "\n",
        "tabla_multiplicar(7)"
      ],
      "metadata": {
        "colab": {
          "base_uri": "https://localhost:8080/"
        },
        "id": "ggRj9wcRD-dX",
        "outputId": "f6b891d3-3817-4717-8bee-b0201308fa4e"
      },
      "execution_count": 61,
      "outputs": [
        {
          "output_type": "stream",
          "name": "stdout",
          "text": [
            "Tabla del 7:\n",
            "7 x 0 = 0\n",
            "7 x 1 = 7\n",
            "7 x 2 = 14\n",
            "7 x 3 = 21\n",
            "7 x 4 = 28\n",
            "7 x 5 = 35\n",
            "7 x 6 = 42\n",
            "7 x 7 = 49\n",
            "7 x 8 = 56\n",
            "7 x 9 = 63\n",
            "7 x 10 = 70\n"
          ]
        }
      ]
    },
    {
      "cell_type": "code",
      "source": [
        "from typing import List\n",
        "\n",
        "lista = [97, 80, 94, 88, 80, 1, 16, 53, 62, 32, 24, 99]\n",
        "\n",
        "def multiplos_3(lista_numerica: List[int]) -> List[int]:\n",
        "  \"\"\"\n",
        "  Retorna una lista con los múltiplos de 3 encontrados en la lista de entrada.\n",
        "\n",
        "  Parameters\n",
        "  ----------\n",
        "  lista_numerica : List[int]\n",
        "      Lista de números enteros para filtrar los múltiplos de 3.\n",
        "\n",
        "  Returns\n",
        "  -------\n",
        "  List[int]\n",
        "      Una nueva lista que contiene únicamente los números de la lista de entrada\n",
        "      que son divisibles por 3. Retorna una lista vacía si no se encuentran múltiplos de 3\n",
        "      o si la lista de entrada está vacía.\n",
        "\n",
        "  Examples\n",
        "  --------\n",
        "  >>> multiplos_3([3, 6, 9, 10, 12])\n",
        "  [3, 6, 9, 12]\n",
        "  >>> multiplos_3([1, 2, 4, 5, 7])\n",
        "  []\n",
        "  >>> multiplos_3([])\n",
        "  []\n",
        "  \"\"\"\n",
        "  return [num for num in lista_numerica if num % 3 == 0]\n",
        "\n",
        "multiplos_3(lista)"
      ],
      "metadata": {
        "colab": {
          "base_uri": "https://localhost:8080/"
        },
        "id": "kybNvimXEjlJ",
        "outputId": "57ff3b99-f0ff-4371-bab1-67c5123b2bcf"
      },
      "execution_count": null,
      "outputs": [
        {
          "output_type": "execute_result",
          "data": {
            "text/plain": [
              "[24, 99]"
            ]
          },
          "metadata": {},
          "execution_count": 87
        }
      ]
    },
    {
      "cell_type": "code",
      "source": [
        "'''Programa que devuelve una lista de los cuadrados de los números de una lista'''\n",
        "\n",
        "lista = [1, 2, 3, 4, 5, 6, 7, 8, 9, 10]\n",
        "cuadrados = list(map(lambda x: x ** 2, lista))\n",
        "cuadrados"
      ],
      "metadata": {
        "colab": {
          "base_uri": "https://localhost:8080/"
        },
        "id": "jszIqwcWFuQS",
        "outputId": "43d5cb1c-9246-464c-ce62-5ec305f9ad71"
      },
      "execution_count": null,
      "outputs": [
        {
          "output_type": "execute_result",
          "data": {
            "text/plain": [
              "[1, 4, 9, 16, 25, 36, 49, 64, 81, 100]"
            ]
          },
          "metadata": {},
          "execution_count": 83
        }
      ]
    },
    {
      "cell_type": "markdown",
      "source": [
        "### Aplicando a proyectos"
      ],
      "metadata": {
        "id": "z8XmhA1_F41V"
      }
    },
    {
      "cell_type": "code",
      "source": [
        "'''Programa que analiza las notas recibidas por los skaters en algunas competiciones a lo largo del año,\n",
        "y calcula la puntuación de los atletas. Para ello, se debe recibir 5 notas ingresadas por los jueces.'''\n",
        "\n",
        "from random import randint\n",
        "from typing import List, Union\n",
        "\n",
        "lista = [randint(0, 10) for i in range(5)]\n",
        "\n",
        "def calcular_puntuacion_skaters(lista: List[Union[int, float]]) -> str:\n",
        "  \"\"\"\n",
        "  Calcula y retorna la puntuación del skater con la nota más alta en una lista de puntuaciones.\n",
        "\n",
        "  Parameters\n",
        "  ----------\n",
        "  lista_notas : List[Union[int, float]]\n",
        "      Lista de puntuaciones numéricas (enteros o decimales) obtenidas por los skaters.\n",
        "      Se asume que las puntuaciones son no negativas.\n",
        "\n",
        "  Returns\n",
        "  -------\n",
        "  str\n",
        "      Cadena de texto indicando la puntuación más alta obtenida por un skater.\n",
        "      Retorna un mensaje si la lista de notas está vacía.\n",
        "\n",
        "  Examples\n",
        "  --------\n",
        "  >>> calcular_puntuacion_skaters([7.8, 9.1, 8.5, 9.5, 8.9])\n",
        "  'El jugador ganador obtuvo una puntuación de 9.5.'\n",
        "  >>> calcular_puntuacion_skaters([6, 7, 5, 8, 6])\n",
        "  'El jugador ganador obtuvo una puntuación de 8.'\n",
        "  >>> calcular_puntuacion_skaters([])\n",
        "  'No se proporcionaron puntuaciones para calcular el ganador.'\n",
        "  \"\"\"\n",
        "  if not lista:\n",
        "    return 'No se proporcionaron puntuaciones para calcular el ganador.'\n",
        "  puntuacion_ganador = max(lista)\n",
        "  return f'El jugador ganador obtuvo una puntuación de {puntuacion_ganador}.'\n",
        "\n",
        "print(lista)\n",
        "print(calcular_puntuacion_skaters(lista))"
      ],
      "metadata": {
        "colab": {
          "base_uri": "https://localhost:8080/"
        },
        "id": "mbzGw7tBInzK",
        "outputId": "bebe35e7-a2cb-4ef7-fc2b-3e9e1c189538"
      },
      "execution_count": 62,
      "outputs": [
        {
          "output_type": "stream",
          "name": "stdout",
          "text": [
            "[2, 4, 5, 4, 9]\n",
            "El jugador ganador obtuvo una puntuación de 9.\n"
          ]
        }
      ]
    },
    {
      "cell_type": "code",
      "source": [
        "from random import uniform\n",
        "from typing import List\n",
        "\n",
        "lista = [round(uniform(0, 10), 2) for i in range(5)]\n",
        "\n",
        "def analisis_notas(lista_notas: List[float]) -> str:\n",
        "  \"\"\"\n",
        "  Analiza una lista de notas de estudiantes, calculando la media, la nota más alta,\n",
        "  la nota más baja y determinando la situación académica.\n",
        "\n",
        "  Parameters\n",
        "  ----------\n",
        "  lista_notas : List[float]\n",
        "      Lista de notas numéricas (de 0.0 a 10.0) de los estudiantes.\n",
        "\n",
        "  Returns\n",
        "  -------\n",
        "  str\n",
        "      Cadena de texto que resume el análisis de las notas, incluyendo la media,\n",
        "      la nota más alta, la nota más baja y la situación académica (\"Aprobado(a)\"\n",
        "      si la media es mayor o igual a 6.0, \"Reprobado(a)\" en caso contrario).\n",
        "      Retorna un mensaje si la lista de notas está vacía.\n",
        "\n",
        "  Examples\n",
        "  --------\n",
        "  >>> analisis_notas([7.5, 8.0, 6.5, 9.0, 7.0])\n",
        "  'El estudiante obtuvo una media de 7.60, con la mayor nota de 9.00 puntos y la menor nota de 6.50 puntos y fue Aprobado(a).'\n",
        "  >>> analisis_notas([4.0, 5.5, 3.0, 6.0, 5.0])\n",
        "  'El estudiante obtuvo una media de 4.70, con la mayor nota de 6.00 puntos y la menor nota de 3.00 puntos y fue Reprobado(a).'\n",
        "  >>> analisis_notas([])\n",
        "  'No se proporcionaron notas para realizar el análisis.'\n",
        "  \"\"\"\n",
        "  if not lista_notas:\n",
        "    return 'No se proporcionaron notas para realizar el análisis.'\n",
        "  mayor = max(lista_notas)\n",
        "  menor = min(lista_notas)\n",
        "  media = sum(lista_notas) / len(lista_notas)\n",
        "  situacion = 'Aprobado(a)' if media >= 6.0 else 'Reprobado(a)'\n",
        "  return f'El estudiante obtuvo una media de {media:.2f}, con la mayor nota de {mayor:.2f} puntos y la menor nota de {menor:.2f} puntos y fue {situacion}.'\n",
        "\n",
        "print(f'Lista de notas: {lista}')\n",
        "print(analisis_notas(lista))"
      ],
      "metadata": {
        "colab": {
          "base_uri": "https://localhost:8080/"
        },
        "id": "4PknqoTAKmso",
        "outputId": "2351065c-0115-4eb9-ae0f-5ce003bd181d"
      },
      "execution_count": 81,
      "outputs": [
        {
          "output_type": "stream",
          "name": "stdout",
          "text": [
            "Lista de notas: [3.48, 7.6, 9.07, 6.03, 4.94]\n",
            "El estudiante obtuvo una media de 6.22, con la mayor nota de 9.07 puntos y la menor nota de 3.48 puntos y fue Aprobado(a).\n"
          ]
        }
      ]
    },
    {
      "cell_type": "code",
      "source": [
        "from typing import List\n",
        "\n",
        "nombres, apellidos = [\"juan\", \"MaRia\", \"JOSÉ\"], [\"SILVA\", \"sosa\", \"Tavares\"]\n",
        "\n",
        "def nombres_completos(nombres_lista: List[str], apellidos_lista: List[str]) -> List[str]:\n",
        "  \"\"\"\n",
        "  Concatena los nombres con los apellidos correspondientes en una lista,\n",
        "  capitalizando la primera letra de cada nombre y apellido.\n",
        "\n",
        "  Parameters\n",
        "  ----------\n",
        "  nombres_lista : List[str]\n",
        "      Lista de nombres de los estudiantes. Se espera que cada elemento sea una cadena.\n",
        "  apellidos_lista : List[str]\n",
        "      Lista de apellidos de los estudiantes. Se espera que cada elemento sea una cadena.\n",
        "      Debe tener la misma longitud que `nombres_lista`.\n",
        "\n",
        "  Returns\n",
        "  -------\n",
        "  List[str]\n",
        "      Una nueva lista que contiene los nombres completos de los estudiantes,\n",
        "      con la primera letra de cada nombre y apellido en mayúscula.\n",
        "      Retorna una lista vacía si las listas de nombres o apellidos están vacías\n",
        "      o si tienen longitudes diferentes.\n",
        "\n",
        "  Examples\n",
        "  --------\n",
        "  >>> nombres = [\"juan\", \"MaRia\"]\n",
        "  >>> apellidos = [\"SILVA\", \"sosa\"]\n",
        "  >>> nombres_completos(nombres, apellidos)\n",
        "  ['Juan Silva', 'Maria Sosa']\n",
        "  >>> nombres = []\n",
        "  >>> apellidos = [\"SILVA\"]\n",
        "  >>> nombres_completos(nombres, apellidos)\n",
        "  []\n",
        "  >>> nombres = [\"juan\"]\n",
        "  >>> apellidos = []\n",
        "  >>> nombres_completos(nombres, apellidos)\n",
        "  []\n",
        "  >>> nombres = [\"juan\"]\n",
        "  >>> apellidos = [\"SILVA\", \"sosa\"]\n",
        "  >>> nombres_completos(nombres, apellidos)\n",
        "  []\n",
        "  \"\"\"\n",
        "  if not nombres_lista or not apellidos_lista or len(nombres_lista) != len(apellidos_lista):\n",
        "    return []\n",
        "  return [nombre.capitalize() + ' ' + apellido.capitalize() for nombre, apellido in zip(nombres_lista, apellidos_lista)]\n",
        "\n",
        "print(nombres_completos(nombres, apellidos))"
      ],
      "metadata": {
        "colab": {
          "base_uri": "https://localhost:8080/"
        },
        "id": "f5b1gPCMNbjb",
        "outputId": "cec7388f-bdf2-4962-8a1d-d9daca0589a2"
      },
      "execution_count": 82,
      "outputs": [
        {
          "output_type": "stream",
          "name": "stdout",
          "text": [
            "['Juan Silva', 'Maria Sosa', 'José Tavares']\n"
          ]
        }
      ]
    },
    {
      "cell_type": "code",
      "source": [
        "from random import randint\n",
        "from typing import List\n",
        "\n",
        "goles_marcados, goles_recibidos = [randint(1, 5) for i in range(5)], [randint(1, 5) for i in range(5)]\n",
        "\n",
        "def calcula_puntos(goles_marcados: List[int], goles_recibidos: List[int]) -> str:\n",
        "  \"\"\"\n",
        "  Calcula la puntuación de un equipo en un campeonato basado en los goles marcados y recibidos\n",
        "  en una serie de partidos, y determina su rendimiento porcentual.\n",
        "\n",
        "  La puntuación se calcula de la siguiente manera:\n",
        "  - 3 puntos por partido ganado (goles marcados > goles recibidos).\n",
        "  - 1 punto por partido empatado (goles marcados == goles recibidos).\n",
        "  - 0 puntos por partido perdido (goles marcados < goles recibidos).\n",
        "\n",
        "  El rendimiento se calcula como el porcentaje de los puntos obtenidos sobre el máximo posible\n",
        "  (3 puntos por partido).\n",
        "\n",
        "  Parameters\n",
        "  ----------\n",
        "  goles_marcados : List[int]\n",
        "      Lista con la cantidad de goles marcados por el equipo en cada partido.\n",
        "      Se espera que cada elemento sea un entero no negativo.\n",
        "  goles_recibidos : List[int]\n",
        "      Lista con la cantidad de goles recibidos por el equipo en cada partido.\n",
        "      Se espera que cada elemento sea un entero no negativo.\n",
        "      Debe tener la misma longitud que `goles_marcados`.\n",
        "\n",
        "  Returns\n",
        "  -------\n",
        "  str\n",
        "      Cadena de texto que indica la puntuación total del equipo y su rendimiento\n",
        "      porcentual en el campeonato. Retorna un mensaje de error si las listas de\n",
        "      goles tienen longitudes diferentes o están vacías.\n",
        "\n",
        "  Examples\n",
        "  --------\n",
        "  >>> calcula_puntos([3, 1, 2], [1, 1, 0])\n",
        "  'La puntuación del equipo fue 7 y su rendimiento fue 77.78%'\n",
        "  >>> calcula_puntos([1, 0], [2, 0])\n",
        "  'La puntuación del equipo fue 3 y su rendimiento fue 50.00%'\n",
        "  >>> calcula_puntos([], [])\n",
        "  'Error: Las listas de goles no pueden estar vacías y deben tener la misma longitud.'\n",
        "  >>> calcula_puntos([1], [1, 0])\n",
        "  'Error: Las listas de goles no pueden estar vacías y deben tener la misma longitud.'\n",
        "  \"\"\"\n",
        "  if not goles_marcados or not goles_recibidos or len(goles_marcados) != len(goles_recibidos):\n",
        "    return 'Error: Las listas de goles no pueden estar vacías y deben tener la misma longitud.'\n",
        "\n",
        "  puntos = sum(3 if goles_marcados[i] > goles_recibidos[i] else 1 if goles_marcados[i] == goles_recibidos[i] else 0 for i in range(len(goles_marcados)))\n",
        "  total_partidos = len(goles_marcados)\n",
        "  rendimiento = 100 * puntos / (total_partidos * 3) if total_partidos > 0 else 0\n",
        "\n",
        "  return f'La puntuación del equipo fue {puntos} y su rendimiento fue {rendimiento:.2f}%'\n",
        "\n",
        "print(f'Goles marcados: {goles_marcados}', f'Goles recibidos: {goles_recibidos}', calcula_puntos(goles_marcados, goles_recibidos), sep='\\n')"
      ],
      "metadata": {
        "colab": {
          "base_uri": "https://localhost:8080/"
        },
        "id": "g3s0ND34ODRl",
        "outputId": "87a85f94-e569-4ee1-ad2b-91a9f83e2cec"
      },
      "execution_count": 94,
      "outputs": [
        {
          "output_type": "stream",
          "name": "stdout",
          "text": [
            "Goles marcados: [2, 5, 5, 3, 4]\n",
            "Goles recibidos: [2, 3, 4, 3, 1]\n",
            "La puntuación del equipo fue 11 y su rendimiento fue 73.33%\n"
          ]
        }
      ]
    },
    {
      "cell_type": "code",
      "source": [
        "from typing import Dict, List\n",
        "\n",
        "# --- Variables Globales y Datos ---\n",
        "dias = 3\n",
        "ciudades = ['Salvador', 'Fortaleza', 'Natal', 'Aracaju']\n",
        "distancia = [850, 800, 300, 550]\n",
        "paseo = [200, 400, 250, 300]\n",
        "\n",
        "# --- Diccionarios para acceso rápido ---\n",
        "distancias_ciudad: Dict[str, int] = dict(zip(ciudades, distancia))\n",
        "paseos_ciudad: Dict[str, int] = dict(zip(ciudades, paseo))\n",
        "\n",
        "# --- Funciones de Cálculo de Gastos ---\n",
        "\n",
        "def gasto_hotel(costo_hotel_dia: int = 150) -> int:\n",
        "  \"\"\"\n",
        "  Calcula el costo total del hotel para el número de días definidos.\n",
        "\n",
        "  Parameters\n",
        "  ----------\n",
        "  costo_hotel_dia : int, optional\n",
        "      El costo del hotel por día en reales. El valor por defecto es 150.\n",
        "\n",
        "  Returns\n",
        "  -------\n",
        "  int\n",
        "      El costo total del hotel para el viaje en reales.\n",
        "\n",
        "  Examples\n",
        "  --------\n",
        "  >>> gasto_hotel(100)\n",
        "  300\n",
        "  >>> gasto_hotel()\n",
        "  450\n",
        "  \"\"\"\n",
        "  return costo_hotel_dia * dias\n",
        "\n",
        "def gasto_gasolina(ciudad: str, consumo_gasolina: int = 14, precio_gasolina: float = 5.0) -> float:\n",
        "  \"\"\"\n",
        "  Calcula el costo total de la gasolina para viajar a una ciudad específica desde Recife.\n",
        "\n",
        "  Parameters\n",
        "  ----------\n",
        "  ciudad : str\n",
        "      La ciudad de destino del viaje. Debe ser una de las ciudades en la lista:\n",
        "      'Salvador', 'Fortaleza', 'Natal', 'Aracaju'.\n",
        "  consumo_gasolina : int, optional\n",
        "      El consumo de gasolina del vehículo en kilómetros por litro (km/l).\n",
        "      El valor por defecto es 14 km/l.\n",
        "  precio_gasolina : float, optional\n",
        "      El precio de la gasolina por litro en reales. El valor por defecto es 5.0 reales.\n",
        "\n",
        "  Returns\n",
        "  -------\n",
        "  float\n",
        "      El costo total de la gasolina para el viaje en reales.\n",
        "\n",
        "  Raises\n",
        "  ------\n",
        "  KeyError\n",
        "      Si la `ciudad` proporcionada no se encuentra en la lista de ciudades de destino.\n",
        "\n",
        "  Examples\n",
        "  --------\n",
        "  >>> gasto_gasolina('Natal')\n",
        "  107.14285714285714\n",
        "  >>> gasto_gasolina('Fortaleza', 12, 5.5)\n",
        "  366.6666666666667\n",
        "  \"\"\"\n",
        "  return (distancias_ciudad[ciudad] / consumo_gasolina) * precio_gasolina\n",
        "\n",
        "def gasto_paseo(ciudad: str) -> int:\n",
        "  \"\"\"\n",
        "  Calcula el costo total estimado para paseos y alimentación en la ciudad de destino,\n",
        "  para el número de días definidos.\n",
        "\n",
        "  Parameters\n",
        "  ----------\n",
        "  ciudad : str\n",
        "      La ciudad de destino del viaje. Debe ser una de las ciudades en la lista:\n",
        "      'Salvador', 'Fortaleza', 'Natal', 'Aracaju'.\n",
        "\n",
        "  Returns\n",
        "  -------\n",
        "  int\n",
        "      El costo total estimado para paseos y alimentación en reales.\n",
        "\n",
        "  Raises\n",
        "  ------\n",
        "  KeyError\n",
        "      Si la `ciudad` proporcionada no se encuentra en la lista de ciudades de destino.\n",
        "\n",
        "  Examples\n",
        "  --------\n",
        "  >>> gasto_paseo('Salvador')\n",
        "  600\n",
        "  >>> gasto_paseo('Fortaleza')\n",
        "  1200\n",
        "  \"\"\"\n",
        "  return paseos_ciudad[ciudad] * dias\n",
        "\n",
        "# --- Bloque Principal de Ejecución ---\n",
        "while True:\n",
        "  ciudad = input('Ingrese la ciudad de destino: ')\n",
        "  if ciudad in ciudades:\n",
        "    break\n",
        "  else:\n",
        "    print(f\"Error: La ciudad '{ciudad}' no está en la lista de destinos válidos.\", f\"Prueba con estas ciudades: {ciudades}\", sep='\\n')\n",
        "\n",
        "costo_total = gasto_hotel() + gasto_gasolina(ciudad) + gasto_paseo(ciudad)\n",
        "print(f'Con base en los gastos definidos, un viaje de {dias} días a {ciudad} desde Recife costaría {costo_total:.2f} reales.')"
      ],
      "metadata": {
        "colab": {
          "base_uri": "https://localhost:8080/"
        },
        "id": "61shBvZoPhRC",
        "outputId": "4a608a5a-881b-43d9-cdb6-773b2d2be343"
      },
      "execution_count": 132,
      "outputs": [
        {
          "output_type": "stream",
          "name": "stdout",
          "text": [
            "Ingrese la ciudad de destino: a\n",
            "Error: La ciudad 'a' no está en la lista de destinos válidos.\n",
            "Prueba con estas ciudades: ['Salvador', 'Fortaleza', 'Natal', 'Aracaju']\n",
            "Ingrese la ciudad de destino: Salvador\n",
            "Con base en los gastos definidos, un viaje de 3 días a Salvador desde Recife costaría 1353.57 reales.\n"
          ]
        }
      ]
    },
    {
      "cell_type": "code",
      "source": [
        "'''Programa que solicita al usuario una frase y filtra solo las palabras con un tamaño mayor o igual a 5, mostrándolas en una lista.'''\n",
        "\n",
        "frase = input(\"Escribe una frase: \")\n",
        "frase = frase.replace(',',' ').replace('.',' ').replace('!',' ').replace('?',' ').split()\n",
        "palabras_filtradas = list(filter(lambda x: len(x) >= 5, frase))\n",
        "print(palabras_filtradas)"
      ],
      "metadata": {
        "colab": {
          "base_uri": "https://localhost:8080/"
        },
        "id": "E3LVcM71YgtX",
        "outputId": "b8863046-0115-4c35-ee86-0c8d8422b1e4"
      },
      "execution_count": null,
      "outputs": [
        {
          "output_type": "stream",
          "name": "stdout",
          "text": [
            "Escribe una frase: Lorem ipsum dolor sit amet, consectetur adipiscing elit, sed do eiusmod tempor incididunt ut labore et dolore magna aliqua.\n",
            "['Lorem', 'ipsum', 'dolor', 'consectetur', 'adipiscing', 'eiusmod', 'tempor', 'incididunt', 'labore', 'dolore', 'magna', 'aliqua']\n"
          ]
        }
      ]
    },
    {
      "cell_type": "markdown",
      "source": [
        "## <font color=green> 3. ESTRUCTURAS DE DATOS COMPUESTAS\n",
        "---"
      ],
      "metadata": {
        "id": "DoB6wf2JCYf7"
      }
    },
    {
      "cell_type": "markdown",
      "source": [
        "## 3.1 Estructuras anidadas\n",
        "\n",
        "Previamente, aprendimos a manipular las listas, tuplas y diccionarios para trabajar con una secuencia o colección de valores sean numéricos, categóricos, etc. En esta aula, vamos a profundizar en otra situación común para la persona científica de datos que es trabajar con estos tipos de estructuras anidadas, o sea, cuando, por ejemplo, tenemos listas dentro de una lista."
      ],
      "metadata": {
        "id": "3or6MbnZDW_b"
      }
    },
    {
      "cell_type": "markdown",
      "source": [
        "### **Lista de listas**\n",
        "\n",
        "#### Formato estándar:\n",
        "\n",
        "```python\n",
        "[[a1, a2,...,an], [b1, b2,...,bn], ..., [n1, n2,...,nn]]\n",
        "```"
      ],
      "metadata": {
        "id": "fddus1G9HqB3"
      }
    },
    {
      "cell_type": "markdown",
      "source": [
        "#### **Situación 6:**\n",
        "\n",
        "Recibimos la demanda de transformar una lista con el nombre y las notas de tres trimestres de algunos estudiantes en una lista simple, con los nombres separados de las notas, y una lista de listas con las tres notas de cada estudiante separadas entre sí. Los datos recibidos corresponden a una lista con los nombres y las respectivas notas de cada estudiante.\n",
        "\n",
        "**¿Vamos a resolver este desafío?**\n",
        "\n",
        "Para facilitar nuestra comprensión del proceso, vamos a trabajar con un grupo de 5 estudiantes; sin embargo, puedes probar otros casos para practicar.\n"
      ],
      "metadata": {
        "id": "32K5LA11tFpz"
      }
    },
    {
      "cell_type": "code",
      "source": [
        "notas_grupo = ['Juan', 8.0, 9.0, 10.0, 'Maria', 9.0, 7.0, 6.0, 'José', 3.4, 7.0, 7.0, 'Claudia', 5.5, 6.6, 8.0, 'Ana', 6.0, 10.0, 9.5]"
      ],
      "metadata": {
        "id": "jlEP-c2YthpB"
      },
      "execution_count": null,
      "outputs": []
    },
    {
      "cell_type": "code",
      "source": [
        "nombres = []\n",
        "notas = []\n",
        "\n",
        "for i in range(0, len(notas_grupo), 4):\n",
        "  nombres.append(notas_grupo[i])\n",
        "\n",
        "for i in range(1, len(notas_grupo), 4):\n",
        "  notas.append(notas_grupo[i:i+3])"
      ],
      "metadata": {
        "id": "azR_cX-ILghB"
      },
      "execution_count": null,
      "outputs": []
    },
    {
      "cell_type": "code",
      "source": [
        "nombres"
      ],
      "metadata": {
        "id": "GhfsJvs9LgjY",
        "colab": {
          "base_uri": "https://localhost:8080/"
        },
        "outputId": "fb03abfa-7de5-4c91-9a48-623e18ef2728"
      },
      "execution_count": null,
      "outputs": [
        {
          "output_type": "execute_result",
          "data": {
            "text/plain": [
              "['Juan', 'Maria', 'José', 'Claudia', 'Ana']"
            ]
          },
          "metadata": {},
          "execution_count": 159
        }
      ]
    },
    {
      "cell_type": "code",
      "source": [
        "notas"
      ],
      "metadata": {
        "id": "tB8FA20gLiog",
        "colab": {
          "base_uri": "https://localhost:8080/"
        },
        "outputId": "df7b7208-9493-4f48-8c92-bcc74714f49b"
      },
      "execution_count": null,
      "outputs": [
        {
          "output_type": "execute_result",
          "data": {
            "text/plain": [
              "[[8.0, 9.0, 10.0],\n",
              " [9.0, 7.0, 6.0],\n",
              " [3.4, 7.0, 7.0],\n",
              " [5.5, 6.6, 8.0],\n",
              " [6.0, 10.0, 9.5]]"
            ]
          },
          "metadata": {},
          "execution_count": 160
        }
      ]
    },
    {
      "cell_type": "markdown",
      "source": [
        "### **Lista de tuplas**\n",
        "\n",
        "#### Formato estándar:\n",
        "\n",
        "```python\n",
        "[(a1, a2,...,an), (b1, b2,...,bn), ..., (n1, n2,...,nn)]\n",
        "```"
      ],
      "metadata": {
        "id": "SW0sVg68sK_z"
      }
    },
    {
      "cell_type": "markdown",
      "source": [
        "#### **Situación 7:**\n",
        "\n",
        "Necesitamos generar una lista de tuplas con los nombres de los estudiantes y el código ID de cada uno de ellos para la plataforma de análisis de datos. La creación del código consiste en concatenar la primera letra del nombre del estudiante con un número aleatorio de 0 a 999. Los datos recibidos corresponden a una lista con los nombres de cada estudiante.\n",
        "\n",
        "**¿Vamos a resolver este desafío?**\n",
        "\n",
        "Para facilitar nuestra comprensión del proceso, vamos a trabajar con un grupo de 5 estudiantes; sin embargo, puedes probar otros casos para practicar.\n"
      ],
      "metadata": {
        "id": "OId6jAZz5x2m"
      }
    },
    {
      "cell_type": "code",
      "source": [
        "nombres"
      ],
      "metadata": {
        "id": "YA1zJ0G6LkTy",
        "colab": {
          "base_uri": "https://localhost:8080/"
        },
        "outputId": "ca82b770-e2ae-4321-d0fe-c88b05042270"
      },
      "execution_count": null,
      "outputs": [
        {
          "output_type": "execute_result",
          "data": {
            "text/plain": [
              "['Juan', 'Maria', 'José', 'Claudia', 'Ana']"
            ]
          },
          "metadata": {},
          "execution_count": 161
        }
      ]
    },
    {
      "cell_type": "code",
      "source": [
        "from random import randint\n",
        "def generar_numero():\n",
        "  return randint(0, 999)"
      ],
      "metadata": {
        "id": "yBzPwhGiLkWa"
      },
      "execution_count": null,
      "outputs": []
    },
    {
      "cell_type": "code",
      "source": [
        "generar_numero()"
      ],
      "metadata": {
        "id": "9qgGAjSyLndK",
        "colab": {
          "base_uri": "https://localhost:8080/"
        },
        "outputId": "5951a835-2af6-4165-b9f6-f811ee5a514e"
      },
      "execution_count": null,
      "outputs": [
        {
          "output_type": "execute_result",
          "data": {
            "text/plain": [
              "275"
            ]
          },
          "metadata": {},
          "execution_count": 165
        }
      ]
    },
    {
      "cell_type": "code",
      "source": [
        "nombres[0][0]"
      ],
      "metadata": {
        "colab": {
          "base_uri": "https://localhost:8080/",
          "height": 35
        },
        "id": "fSGbvEOckSNG",
        "outputId": "5149dcfb-6860-4120-b28e-217e3770136c"
      },
      "execution_count": null,
      "outputs": [
        {
          "output_type": "execute_result",
          "data": {
            "text/plain": [
              "'J'"
            ],
            "application/vnd.google.colaboratory.intrinsic+json": {
              "type": "string"
            }
          },
          "metadata": {},
          "execution_count": 167
        }
      ]
    },
    {
      "cell_type": "code",
      "source": [
        "codigo_estudiantes = []\n",
        "for i in range(len(nombres)):\n",
        "  codigo_estudiantes.append((nombres[i], nombres[i][0] + str(generar_numero())))\n",
        "codigo_estudiantes"
      ],
      "metadata": {
        "id": "jVRxtOyeLngM",
        "colab": {
          "base_uri": "https://localhost:8080/"
        },
        "outputId": "58d6b482-93b8-4185-c0b1-08c16d683678"
      },
      "execution_count": null,
      "outputs": [
        {
          "output_type": "execute_result",
          "data": {
            "text/plain": [
              "[('Juan', 'J968'),\n",
              " ('Maria', 'M234'),\n",
              " ('José', 'J137'),\n",
              " ('Claudia', 'C870'),\n",
              " ('Ana', 'A653')]"
            ]
          },
          "metadata": {},
          "execution_count": 184
        }
      ]
    },
    {
      "cell_type": "code",
      "source": [
        "codigo_estudiantes = [(nombres[i], nombres[i][0] + str(generar_numero())) for i in range(len(nombres))]\n",
        "codigo_estudiantes"
      ],
      "metadata": {
        "id": "2hMolYJCnrvz",
        "outputId": "041101af-39f4-418a-fd38-334a1eb3d9a6",
        "colab": {
          "base_uri": "https://localhost:8080/"
        }
      },
      "execution_count": null,
      "outputs": [
        {
          "output_type": "execute_result",
          "data": {
            "text/plain": [
              "[('Juan', 'J466'),\n",
              " ('Maria', 'M189'),\n",
              " ('José', 'J397'),\n",
              " ('Claudia', 'C277'),\n",
              " ('Ana', 'A713')]"
            ]
          },
          "metadata": {},
          "execution_count": 186
        }
      ]
    },
    {
      "cell_type": "markdown",
      "source": [
        "## 3.2 List comprehension\n",
        "\n",
        "Es una forma simple y concisa de crear una lista. Podemos aplicar condicionales y lazos para crear diversos tipos de listas a partir de patrones que deseamos para nuestra estructura de datos.\n",
        "\n",
        "https://docs.python.org/es/3/tutorial/datastructures.html?#list-comprehensions\n",
        "\n",
        "#### Formato estándar:\n",
        "\n",
        "```python\n",
        "[expresion for item in lista]\n",
        "```"
      ],
      "metadata": {
        "id": "srHAov19QCdb"
      }
    },
    {
      "cell_type": "markdown",
      "source": [
        "#### **Situación 8:**\n",
        "\n",
        "Recibimos la demanda de crear una lista con el promedio de los estudiantes de la lista de listas que creamos en la Situación 6, redondeando el promedio a una casilla decimal. Recordando que cada lista de la lista de listas contiene las tres notas de cada estudiante.\n",
        "\n",
        "**¿Vamos a resolver este desafío?**\n",
        "\n",
        "**Tip:** Utiliza el formato:\n",
        "```python\n",
        "[expresion for item in lista]\n",
        "```"
      ],
      "metadata": {
        "id": "l4HW0gDqecgM"
      }
    },
    {
      "cell_type": "code",
      "source": [
        "from typing import List\n",
        "\n",
        "def promedio(lista: List[float]) -> float:\n",
        "  \"\"\"\n",
        "  Calcula el promedio de los elementos en una lista de números.\n",
        "\n",
        "  Parameters\n",
        "  ----------\n",
        "  lista : List[float]\n",
        "      Lista de números (enteros o de punto flotante) para calcular el promedio.\n",
        "\n",
        "  Returns\n",
        "  -------\n",
        "  float\n",
        "      El promedio de los elementos en la lista.\n",
        "      Retorna NaN si la lista está vacía para evitar ZeroDivisionError.\n",
        "\n",
        "  Examples\n",
        "  --------\n",
        "  >>> promedio([1, 2, 3, 4, 5])\n",
        "  3.0\n",
        "  >>> promedio([10.5, 20.5, 30.5])\n",
        "  20.5\n",
        "  >>> promedio([])\n",
        "  nan\n",
        "  \"\"\"\n",
        "  if not lista:\n",
        "    import numpy as np\n",
        "    return np.nan\n",
        "  calculo = sum(lista) / len(lista)\n",
        "  return calculo"
      ],
      "metadata": {
        "id": "J_atQRQdlpNe"
      },
      "execution_count": 144,
      "outputs": []
    },
    {
      "cell_type": "code",
      "source": [
        "notas = [[8.0, 9.0, 10.0], [9.0, 7.0, 6.0], [3.4, 7.0, 7.0], [5.5, 6.6, 8.0], [6.0, 10.0, 9.5]]"
      ],
      "metadata": {
        "id": "h7LeBrgnLAG6"
      },
      "execution_count": 140,
      "outputs": []
    },
    {
      "cell_type": "code",
      "source": [
        "promedios = [round(promedio(nota), 2) for nota in notas]\n",
        "promedios"
      ],
      "metadata": {
        "id": "3j8_H7e8LAJZ",
        "colab": {
          "base_uri": "https://localhost:8080/"
        },
        "outputId": "b103c730-24db-46cd-b824-f8daf0681695"
      },
      "execution_count": 145,
      "outputs": [
        {
          "output_type": "execute_result",
          "data": {
            "text/plain": [
              "[9.0, 7.33, 5.8, 6.7, 8.5]"
            ]
          },
          "metadata": {},
          "execution_count": 145
        }
      ]
    },
    {
      "cell_type": "markdown",
      "source": [
        "#### **Situación 9:**\n",
        "\n",
        "Ahora, necesitamos utilizar los promedios calculados en el ejemplo anterior, y agruparlos con el nombre de los respectivos estudiantes. Esto será necesario para generar una lista que seleccione a aquellos estudiantes que posean un promedio final mayor o igual a 8 para concursar por una beca de estudios para el próximo año lectivo. Los datos recibidos corresponden a una lista de tuplas con los nombres y los códigos de los estudiantes junto a la lista de promedios calculados previamente.\n",
        "\n",
        "**Nota: El número de código será diferente cada vez que se ejecute la celda que los genera, por lo tanto, es completamente normal que estos códigos sean diferentes.**\n",
        "\n",
        "**¿Vamos a resolver este desafío?**\n",
        "\n",
        "Para facilitar nuestra comprensión del proceso vamos a trabajar con un grupo de 5 estudiantes.\n",
        "\n",
        "**Tip:** Utiliza el formato:\n",
        "\n",
        "```python\n",
        "[expresion for item in lista if condicion]\n",
        "```"
      ],
      "metadata": {
        "id": "ApLjXlAdhJKd"
      }
    },
    {
      "cell_type": "code",
      "source": [
        "nombres = [('Juan', 'J968'), ('Maria', 'M234'), ('José', 'J137'), ('Claudia', 'C870'), ('Ana', 'A653')]\n",
        "promedios = [9.0, 7.33, 5.8, 6.7, 8.5]"
      ],
      "metadata": {
        "id": "QK-ubmmrLC7I"
      },
      "execution_count": null,
      "outputs": []
    },
    {
      "cell_type": "code",
      "source": [
        "nombres = [nombre[0] for nombre in nombres]\n",
        "nombres"
      ],
      "metadata": {
        "id": "df1Q8GGELC9b",
        "colab": {
          "base_uri": "https://localhost:8080/"
        },
        "outputId": "bcc01892-ab6f-4ee8-efc2-6796b3161fcd"
      },
      "execution_count": null,
      "outputs": [
        {
          "output_type": "execute_result",
          "data": {
            "text/plain": [
              "['Juan', 'Maria', 'José', 'Claudia', 'Ana']"
            ]
          },
          "metadata": {},
          "execution_count": 188
        }
      ]
    },
    {
      "cell_type": "markdown",
      "source": [
        "<font color=green>**Tip:**</font> Para lograr parear los promedios y\n",
        "los nombres fácilmente, podemos acudir a otra  built-in function: `zip()`\n",
        "\n",
        "Esta recibe uno o más iterables (lista, string, dict, etc.) y los retorna como un iterador de tuplas donde cada elemento de los iterables es pareado."
      ],
      "metadata": {
        "id": "U6KAABs7Dfpe"
      }
    },
    {
      "cell_type": "code",
      "source": [
        "estudiantes = list(zip(nombres, promedios))\n",
        "estudiantes"
      ],
      "metadata": {
        "id": "841v92WvLEol",
        "colab": {
          "base_uri": "https://localhost:8080/"
        },
        "outputId": "a401d2d0-f9b5-4ecd-f5e0-8532420999cd"
      },
      "execution_count": null,
      "outputs": [
        {
          "output_type": "execute_result",
          "data": {
            "text/plain": [
              "[('Juan', 9.0), ('Maria', 7.33), ('José', 5.8), ('Claudia', 6.7), ('Ana', 8.5)]"
            ]
          },
          "metadata": {},
          "execution_count": 191
        }
      ]
    },
    {
      "cell_type": "code",
      "source": [
        "candidatos = [estudiante[0] for estudiante in estudiantes if estudiante[1] >= 8]\n",
        "candidatos"
      ],
      "metadata": {
        "id": "U8b4G_2oLErp",
        "colab": {
          "base_uri": "https://localhost:8080/"
        },
        "outputId": "5516d221-2ea4-496d-eef2-e962a333d4dd"
      },
      "execution_count": null,
      "outputs": [
        {
          "output_type": "execute_result",
          "data": {
            "text/plain": [
              "['Juan', 'Ana']"
            ]
          },
          "metadata": {},
          "execution_count": 198
        }
      ]
    },
    {
      "cell_type": "code",
      "source": [
        "tupla_iterable = [('J392', 'Juan'), ('M890', 'Maria'), ('J681', 'José'), ('C325', 'Claudia'), ('A49', 'Ana')]\n",
        "ids, nombres = zip(*tupla_iterable)\n",
        "\n",
        "ids = list(ids)\n",
        "nombres = list(nombres)\n",
        "\n",
        "print(f\"IDs = {ids}\")\n",
        "print(f\"Nombres = {nombres}\")"
      ],
      "metadata": {
        "id": "auq863zvpCBP",
        "outputId": "4c99daf3-22ff-42cd-fd58-2c0cd8c67042",
        "colab": {
          "base_uri": "https://localhost:8080/"
        }
      },
      "execution_count": null,
      "outputs": [
        {
          "output_type": "stream",
          "name": "stdout",
          "text": [
            "IDs = ['J392', 'M890', 'J681', 'C325', 'A49']\n",
            "Nombres = ['Juan', 'Maria', 'José', 'Claudia', 'Ana']\n"
          ]
        }
      ]
    },
    {
      "cell_type": "markdown",
      "source": [
        "#### **Situación 10:**\n",
        "\n",
        "Recibimos dos demandas sobre este proyecto con las notas de los estudiantes:\n",
        "- Crear una lista de la situación de los estudiantes considerando los siguientes casos: Si su promedio es mayor o igual a 7, recibirá el valor \"Aprobado\" y en caso contrario recibirá el valor \"Reprobado\".\n",
        "- Generar una lista de listas con:\n",
        "  - Lista de tuplas con el nombre de los estudiantes y sus códigos\n",
        "  - Lista de listas con las notas de cada estudiante\n",
        "  - Lista con los promedios de cada estudiante\n",
        "  - Lista de la situación de los estudiantes de acuerdo con los promedios\n",
        "\n",
        "Los datos que utilizaremos son los mismos que generamos en las situaciones anteriores (`nombres`, `notas`, `promedios`).\n",
        "\n",
        "**¿Vamos a resolver este desafío?**\n",
        "\n",
        "Para avanzar en el proceso, vamos a dejar escritas las estructuras de datos que ya produjimos.\n",
        "\n",
        "**Tip:** Para la lista de las situaciones utiliza el formato:\n",
        "```python\n",
        "[resultado_if if condicion else resultado_else for item in lista]\n",
        "```"
      ],
      "metadata": {
        "id": "9yzRDIB0fkeF"
      }
    },
    {
      "cell_type": "code",
      "source": [
        "nombres = [('Juan', 'J968'), ('Maria', 'M234'), ('José', 'J137'), ('Claudia', 'C870'), ('Ana', 'A653')]\n",
        "notas = [[8.0, 9.0, 10.0], [9.0, 7.0, 6.0], [3.4, 7.0, 7.0], [5.5, 6.6, 8.0], [6.0, 10.0, 9.5]]\n",
        "promedios = [9.0, 7.33, 5.8, 6.7, 8.5]"
      ],
      "metadata": {
        "id": "YGQIaCzkLGqd"
      },
      "execution_count": null,
      "outputs": []
    },
    {
      "cell_type": "code",
      "source": [
        "situacion = ['Aprobado(a)' if promedio >= 7 else 'Reprobado(a)' for promedio in promedios]\n",
        "situacion"
      ],
      "metadata": {
        "id": "OAAQHwE1LGs2",
        "colab": {
          "base_uri": "https://localhost:8080/"
        },
        "outputId": "f658728f-d704-4668-8f61-df6a94e9d5bf"
      },
      "execution_count": null,
      "outputs": [
        {
          "output_type": "execute_result",
          "data": {
            "text/plain": [
              "['Aprobado(a)', 'Aprobado(a)', 'Reprobado(a)', 'Reprobado(a)', 'Aprobado(a)']"
            ]
          },
          "metadata": {},
          "execution_count": 201
        }
      ]
    },
    {
      "cell_type": "markdown",
      "source": [
        "**Tip:** Para generar la lista de listas del enunciado podemos utilizar el siguiente formato:\n",
        "```python\n",
        "[expresion for item in lista de listas]\n",
        "```"
      ],
      "metadata": {
        "id": "0XsAi49IF9Ta"
      }
    },
    {
      "cell_type": "code",
      "source": [
        "registros = [x for x in [nombres, notas, promedios, situacion]]\n",
        "registros"
      ],
      "metadata": {
        "id": "1Dj6R1vTLIbI",
        "colab": {
          "base_uri": "https://localhost:8080/"
        },
        "outputId": "4f2fc898-2e4e-4c2a-e7e8-6652f5eddf09"
      },
      "execution_count": null,
      "outputs": [
        {
          "output_type": "execute_result",
          "data": {
            "text/plain": [
              "[[('Juan', 'J968'),\n",
              "  ('Maria', 'M234'),\n",
              "  ('José', 'J137'),\n",
              "  ('Claudia', 'C870'),\n",
              "  ('Ana', 'A653')],\n",
              " [[8.0, 9.0, 10.0],\n",
              "  [9.0, 7.0, 6.0],\n",
              "  [3.4, 7.0, 7.0],\n",
              "  [5.5, 6.6, 8.0],\n",
              "  [6.0, 10.0, 9.5]],\n",
              " [9.0, 7.33, 5.8, 6.7, 8.5],\n",
              " ['Aprobado(a)', 'Aprobado(a)', 'Reprobado(a)', 'Reprobado(a)', 'Aprobado(a)']]"
            ]
          },
          "metadata": {},
          "execution_count": 202
        }
      ]
    },
    {
      "cell_type": "markdown",
      "source": [
        "<font color=green>**Tip:**</font> Podemos acudir a la forma más simple de generación de lista de listas con el uso directo de los corchetes sin la necesidad de utilizar las expresiones y el lazo `for` que se emplea en la comprensión de listas."
      ],
      "metadata": {
        "id": "4hkHEZGbGH7X"
      }
    },
    {
      "cell_type": "code",
      "source": [
        "lista_completa = [nombres, notas, promedios, situacion]\n",
        "lista_completa"
      ],
      "metadata": {
        "id": "1tEtWzSoLKKg",
        "colab": {
          "base_uri": "https://localhost:8080/"
        },
        "outputId": "d7cf1c7c-1d5f-47f1-97c2-91d5cb36cdbf"
      },
      "execution_count": null,
      "outputs": [
        {
          "output_type": "execute_result",
          "data": {
            "text/plain": [
              "[[('Juan', 'J968'),\n",
              "  ('Maria', 'M234'),\n",
              "  ('José', 'J137'),\n",
              "  ('Claudia', 'C870'),\n",
              "  ('Ana', 'A653')],\n",
              " [[8.0, 9.0, 10.0],\n",
              "  [9.0, 7.0, 6.0],\n",
              "  [3.4, 7.0, 7.0],\n",
              "  [5.5, 6.6, 8.0],\n",
              "  [6.0, 10.0, 9.5]],\n",
              " [9.0, 7.33, 5.8, 6.7, 8.5],\n",
              " ['Aprobado(a)', 'Aprobado(a)', 'Reprobado(a)', 'Reprobado(a)', 'Aprobado(a)']]"
            ]
          },
          "metadata": {},
          "execution_count": 203
        }
      ]
    },
    {
      "cell_type": "code",
      "source": [
        "alturas = [1.70, 1.80, 1.65, 1.75, 1.90]\n",
        "pesos = [65, 80, 58, 70, 95]\n",
        "\n",
        "imc = [round((peso / altura ** 2), 1) for altura, peso in zip(alturas, pesos)]\n",
        "print(imc)"
      ],
      "metadata": {
        "id": "5WFhm74uqfQ-",
        "outputId": "99baafdb-8e00-49c3-8a20-edb8f2ef218a",
        "colab": {
          "base_uri": "https://localhost:8080/"
        }
      },
      "execution_count": null,
      "outputs": [
        {
          "output_type": "stream",
          "name": "stdout",
          "text": [
            "[22.5, 24.7, 21.3, 22.9, 26.3]\n"
          ]
        }
      ]
    },
    {
      "cell_type": "markdown",
      "source": [
        "## 3.3 Dict comprehension\n",
        "\n",
        "Es una forma simple y concisa de crear o modificar un diccionario. Podemos aplicar condicionales y lazos para crear diversos tipos de diccionarios a partir de los patrones que buscamos para nuestra estructura de datos y con el soporte de iterables como listas o sets.\n",
        "\n",
        "https://peps.python.org/pep-0274/\n",
        "\n",
        "#### Formato estándar:\n",
        "\n",
        "```python\n",
        "{llave: valor for item in lista}\n",
        "```"
      ],
      "metadata": {
        "id": "NmohhDl-QRpx"
      }
    },
    {
      "cell_type": "markdown",
      "source": [
        "#### **Situación 11:**\n",
        "\n",
        "Ahora, nuestra demanda consiste en generar un diccionario a partir de la lista de listas que creamos en la Situación 10 para entregar a la persona responsable por construir las tablas para el análisis de los datos.\n",
        "- Las llaves de nuestro diccionario serán las columnas identificando el tipo de dato\n",
        "- Los valores serán las listas con los datos correspondientes a aquella llave.\n",
        "\n",
        "**¿Vamos a resolver este desafío?**\n",
        "\n",
        "Para facilitar nuestra comprensión del proceso vamos a trabajar con un grupo de 5 estudiantes.\n",
        "\n",
        "**Tip:** Utiliza el formato\n",
        "\n",
        "```python\n",
        "{llave: valor for item in lista}\n",
        "```"
      ],
      "metadata": {
        "id": "kGt8hQXOKeIt"
      }
    },
    {
      "cell_type": "code",
      "source": [
        "lista_completa = [[('Juan', 'J968'), ('Maria', 'M234'), ('José', 'J137'), ('Claudia', 'C870'), ('Ana', 'A653')],\n",
        " [[8.0, 9.0, 10.0], [9.0, 7.0, 6.0], [3.4, 7.0, 7.0], [5.5, 6.6, 8.0], [6.0, 10.0, 9.5]],\n",
        "  [9.0, 7.33, 5.8, 6.7, 8.5],\n",
        " ['Aprobado(a)', 'Aprobado(a)', 'Reprobado(a)', 'Reprobado(a)', 'Aprobado(a)']]"
      ],
      "metadata": {
        "id": "GuTwYw8NLNST"
      },
      "execution_count": null,
      "outputs": []
    },
    {
      "cell_type": "code",
      "source": [
        "columnas = ['Notas', 'Promedio final', 'Situación']\n",
        "\n",
        "registro = {columnas[i]: lista_completa[i+1] for i in range(len(columnas))}\n",
        "registro"
      ],
      "metadata": {
        "id": "Ka1JPCuvLP4x",
        "colab": {
          "base_uri": "https://localhost:8080/"
        },
        "outputId": "43b34a65-bf8c-4334-cb7e-f2afb0408def"
      },
      "execution_count": null,
      "outputs": [
        {
          "output_type": "execute_result",
          "data": {
            "text/plain": [
              "{'Notas': [[8.0, 9.0, 10.0],\n",
              "  [9.0, 7.0, 6.0],\n",
              "  [3.4, 7.0, 7.0],\n",
              "  [5.5, 6.6, 8.0],\n",
              "  [6.0, 10.0, 9.5]],\n",
              " 'Promedio final': [9.0, 7.33, 5.8, 6.7, 8.5],\n",
              " 'Situación': ['Aprobado(a)',\n",
              "  'Aprobado(a)',\n",
              "  'Reprobado(a)',\n",
              "  'Reprobado(a)',\n",
              "  'Aprobado(a)']}"
            ]
          },
          "metadata": {},
          "execution_count": 210
        }
      ]
    },
    {
      "cell_type": "code",
      "source": [
        "registro['Estudiante'] = [lista_completa[0][i][0] for i in range(len(lista_completa[0]))]\n",
        "registro"
      ],
      "metadata": {
        "id": "4GhlzfLbLP8L",
        "colab": {
          "base_uri": "https://localhost:8080/"
        },
        "outputId": "4d229eb1-cc9b-443c-ff37-44cb9858f073"
      },
      "execution_count": null,
      "outputs": [
        {
          "output_type": "execute_result",
          "data": {
            "text/plain": [
              "{'Notas': [[8.0, 9.0, 10.0],\n",
              "  [9.0, 7.0, 6.0],\n",
              "  [3.4, 7.0, 7.0],\n",
              "  [5.5, 6.6, 8.0],\n",
              "  [6.0, 10.0, 9.5]],\n",
              " 'Promedio final': [9.0, 7.33, 5.8, 6.7, 8.5],\n",
              " 'Situación': ['Aprobado(a)',\n",
              "  'Aprobado(a)',\n",
              "  'Reprobado(a)',\n",
              "  'Reprobado(a)',\n",
              "  'Aprobado(a)'],\n",
              " 'Estudiante': ['Juan', 'Maria', 'José', 'Claudia', 'Ana']}"
            ]
          },
          "metadata": {},
          "execution_count": 211
        }
      ]
    },
    {
      "cell_type": "code",
      "source": [
        "nombres_estudiantes = [\"Enrique Montero\", \"Luna Pereira\", \"Anthony Silva\", \"Leticia Fernandez\", \"Juan González\", \"Maira Caldera\", \"Diana Carvajo\", \"Mariana Rosas\", \"Camila Fernandez\", \"Levi Alves\", \"Nicolás Rocha\", \"Amanda Navas\",  \"Lara Morales\", \"Leticia Olivera\", \"Lucas Navas\", \"Lara Arteaga\", \"Beatriz Martinez\", \"Victor Acevedo\", \"Stephany Hernández\", \"Gustavo Lima\"]\n",
        "medias_estudiantes = [5.4, 4.1, 9.1, 5.3, 6.9, 3.1, 9.0, 5.0, 8.2, 5.5, 8.1, 7.4, 5.0, 3.7, 8.1, 6.2, 6.1, 5.6, 10.0, 8.2]\n",
        "becados = {nombre: media for nombre, media in zip(nombres_estudiantes, medias_estudiantes) if media >= 9.0}\n",
        "becados"
      ],
      "metadata": {
        "id": "5RUK6wRKsh6v",
        "outputId": "bf7d2998-7bab-499c-be5c-7310345c7158",
        "colab": {
          "base_uri": "https://localhost:8080/"
        }
      },
      "execution_count": null,
      "outputs": [
        {
          "output_type": "execute_result",
          "data": {
            "text/plain": [
              "{'Anthony Silva': 9.1, 'Diana Carvajo': 9.0, 'Stephany Hernández': 10.0}"
            ]
          },
          "metadata": {},
          "execution_count": 213
        }
      ]
    },
    {
      "cell_type": "code",
      "source": [
        "'''Programa que imprime la suma de los elementos de cada una de las listas contenidas en la lista padre.'''\n",
        "\n",
        "lista_de_listas = [[4, 6, 5, 9], [1, 0, 7, 2], [3, 4, 1, 8]]\n",
        "suma_listas = [sum(lista) for lista in lista_de_listas]\n",
        "suma_listas"
      ],
      "metadata": {
        "colab": {
          "base_uri": "https://localhost:8080/"
        },
        "id": "_i0KQ2S69SPW",
        "outputId": "2702141a-ae95-444e-8ce5-7f848954df79"
      },
      "execution_count": null,
      "outputs": [
        {
          "output_type": "execute_result",
          "data": {
            "text/plain": [
              "[24, 10, 16]"
            ]
          },
          "metadata": {},
          "execution_count": 1
        }
      ]
    },
    {
      "cell_type": "code",
      "source": [
        "'''Programa que retorna una lista que almacena el tercer elemento de cada tupla contenida en la siguiente lista de tuplas.'''\n",
        "\n",
        "lista_de_tuplas = [('Pedro', 1.74, 81), ('Júlia', 1.65, 67), ('Otávio', 1.81, 83)]\n",
        "lista_tercer_elemento = [tupla[2] for tupla in lista_de_tuplas]\n",
        "lista_tercer_elemento"
      ],
      "metadata": {
        "colab": {
          "base_uri": "https://localhost:8080/"
        },
        "id": "Ere-44zR9rUD",
        "outputId": "f47fe4a8-f84b-488d-9219-1e3140d37011"
      },
      "execution_count": null,
      "outputs": [
        {
          "output_type": "execute_result",
          "data": {
            "text/plain": [
              "[81, 67, 83]"
            ]
          },
          "metadata": {},
          "execution_count": 2
        }
      ]
    },
    {
      "cell_type": "code",
      "source": [
        "'''Programa que retorna una lista de tuplas con el primer elemento como el índice de la lista original y el segundo elemento siendo el propio nombre.'''\n",
        "\n",
        "lista = ['Pedro', 'Júlia', 'Otávio', 'Eduardo']\n",
        "lista_nombres = [(nombre, lista[nombre]) for nombre in range(len(lista))]\n",
        "lista_nombres"
      ],
      "metadata": {
        "colab": {
          "base_uri": "https://localhost:8080/"
        },
        "id": "9uKAhYvx-AME",
        "outputId": "0c05bf3b-a9da-4652-85fc-abfb5856f861"
      },
      "execution_count": null,
      "outputs": [
        {
          "output_type": "execute_result",
          "data": {
            "text/plain": [
              "[(0, 'Pedro'), (1, 'Júlia'), (2, 'Otávio'), (3, 'Eduardo')]"
            ]
          },
          "metadata": {},
          "execution_count": 16
        }
      ]
    },
    {
      "cell_type": "code",
      "source": [
        "'''Programa que almacena solo el valor numérico de cada tupla en caso de que el primer elemento sea 'Apartamento', a partir de una lista de tuplas.'''\n",
        "\n",
        "alquiler = [('Apartamento', 1700), ('Apartamento', 1400), ('Casa', 2150), ('Apartamento', 1900), ('Casa', 1100)]\n",
        "valor_apartamento = [tupla[1] for tupla in alquiler if tupla[0] == 'Apartamento']\n",
        "valor_apartamento"
      ],
      "metadata": {
        "colab": {
          "base_uri": "https://localhost:8080/"
        },
        "id": "6ZKlwi1f-Pze",
        "outputId": "506c33f6-5d02-4d5c-e6dc-bbb85e5f5c85"
      },
      "execution_count": null,
      "outputs": [
        {
          "output_type": "execute_result",
          "data": {
            "text/plain": [
              "[1700, 1400, 1900]"
            ]
          },
          "metadata": {},
          "execution_count": 17
        }
      ]
    },
    {
      "cell_type": "code",
      "source": [
        "'''Programa que retorna una comprensión de diccionarios en el que las claves son meses y las llaves son el gasto por mes correspondiente.'''\n",
        "\n",
        "meses = ['Ene', 'Feb', 'Mar', 'Abr', 'May', 'Jun', 'Jul', 'Ago', 'Sep', 'Oct', 'Nov', 'Dic']\n",
        "gasto = [860, 490, 1010, 780, 900, 630, 590, 770, 620, 560, 840, 360]\n",
        "meses_gasto = {meses[i]: gasto[i] for i in range(len(meses))}\n",
        "meses_gasto"
      ],
      "metadata": {
        "colab": {
          "base_uri": "https://localhost:8080/"
        },
        "id": "tn3WSlO7-lwQ",
        "outputId": "956347c9-215f-4b42-a264-3a2824e6d054"
      },
      "execution_count": null,
      "outputs": [
        {
          "output_type": "execute_result",
          "data": {
            "text/plain": [
              "{'Ene': 860,\n",
              " 'Feb': 490,\n",
              " 'Mar': 1010,\n",
              " 'Abr': 780,\n",
              " 'May': 900,\n",
              " 'Jun': 630,\n",
              " 'Jul': 590,\n",
              " 'Ago': 770,\n",
              " 'Sep': 620,\n",
              " 'Oct': 560,\n",
              " 'Nov': 840,\n",
              " 'Dic': 360}"
            ]
          },
          "metadata": {},
          "execution_count": 5
        }
      ]
    },
    {
      "cell_type": "code",
      "source": [
        "'''Base de datos con la información de venta de cada representante y de cada año, el programa filtra los datos del año 2022 con ventas mayores a 6000.'''\n",
        "\n",
        "ventas = [('2023', 4093), ('2021', 4320), ('2021', 5959), ('2022', 8883), ('2023', 9859), ('2022', 5141), ('2022', 7688), ('2022', 9544), ('2023', 4794), ('2021', 7178), ('2022', 3030), ('2021', 7471), ('2022', 4226), ('2022', 8190), ('2021', 9680), ('2022', 5616)]\n",
        "ventas_filtradas = [tupla[1] for tupla in ventas if tupla[0] == '2022' and tupla[1] > 6000]\n",
        "ventas_filtradas"
      ],
      "metadata": {
        "colab": {
          "base_uri": "https://localhost:8080/"
        },
        "id": "L9FtcOjM-7t1",
        "outputId": "b771c7ed-e547-4521-8539-598a8a1811fd"
      },
      "execution_count": null,
      "outputs": [
        {
          "output_type": "execute_result",
          "data": {
            "text/plain": [
              "[8883, 7688, 9544, 8190]"
            ]
          },
          "metadata": {},
          "execution_count": 18
        }
      ]
    },
    {
      "cell_type": "code",
      "source": [
        "'''\n",
        "Programa que retorna una lista de tuplas que contenga la etiqueta y el valor de la glucemia en cada tupla.\n",
        "- Glucosa igual o inferior a 70: 'Hipoglicemia'\n",
        "- Glucosa entre 70 y 99: 'Normal'\n",
        "- Glucosa entre 100 y 125: 'Alterada'\n",
        "- Glucosa superior a 125: 'Diabetes'\n",
        "'''\n",
        "\n",
        "glicemia = [129, 82, 60, 97, 101, 65, 62, 167, 87, 53, 58, 92, 66, 120, 109, 62, 86, 96, 103, 88, 155, 52, 89, 73]\n",
        "etiqueta_valor = [('Hipoglicemia', valor) if valor <= 70 else ('Normal', valor) if valor <= 99 else ('Alterada', valor) if valor <= 125 else ('Diabetes', valor) for valor in glicemia]\n",
        "etiqueta_valor"
      ],
      "metadata": {
        "colab": {
          "base_uri": "https://localhost:8080/"
        },
        "id": "q0Jj9pu0_QB7",
        "outputId": "0e351430-0471-4b09-dbd0-ef5bb32d2fbc"
      },
      "execution_count": null,
      "outputs": [
        {
          "output_type": "execute_result",
          "data": {
            "text/plain": [
              "[('Diabetes', 129),\n",
              " ('Normal', 82),\n",
              " ('Hipoglicemia', 60),\n",
              " ('Normal', 97),\n",
              " ('Alterada', 101),\n",
              " ('Hipoglicemia', 65),\n",
              " ('Hipoglicemia', 62),\n",
              " ('Diabetes', 167),\n",
              " ('Normal', 87),\n",
              " ('Hipoglicemia', 53),\n",
              " ('Hipoglicemia', 58),\n",
              " ('Normal', 92),\n",
              " ('Hipoglicemia', 66),\n",
              " ('Alterada', 120),\n",
              " ('Alterada', 109),\n",
              " ('Hipoglicemia', 62),\n",
              " ('Normal', 86),\n",
              " ('Normal', 96),\n",
              " ('Alterada', 103),\n",
              " ('Normal', 88),\n",
              " ('Diabetes', 155),\n",
              " ('Hipoglicemia', 52),\n",
              " ('Normal', 89),\n",
              " ('Normal', 73)]"
            ]
          },
          "metadata": {},
          "execution_count": 7
        }
      ]
    },
    {
      "cell_type": "code",
      "source": [
        "'''Programa que retorna una tabla indicando las columnas: 'id', 'cantidad', 'precio' y 'total'.'''\n",
        "\n",
        "id = [0, 1, 2, 3, 4, 5, 6, 7, 8, 9]\n",
        "cantidad = [15, 12, 1, 15, 2, 11, 2, 12, 2, 4]\n",
        "precio = [93.0, 102.0, 18.0, 41.0, 122.0, 14.0, 71.0, 48.0, 14.0, 144.0]\n",
        "tabla = [(id[i], cantidad[i], precio[i], cantidad[i] * precio[i])for i in range(len(id))]\n",
        "tabla"
      ],
      "metadata": {
        "colab": {
          "base_uri": "https://localhost:8080/"
        },
        "id": "shV8WdgwABMF",
        "outputId": "7f0abfa8-550d-43b5-bb35-e3b75fd372fa"
      },
      "execution_count": null,
      "outputs": [
        {
          "output_type": "execute_result",
          "data": {
            "text/plain": [
              "[(0, 15, 93.0, 1395.0),\n",
              " (1, 12, 102.0, 1224.0),\n",
              " (2, 1, 18.0, 18.0),\n",
              " (3, 15, 41.0, 615.0),\n",
              " (4, 2, 122.0, 244.0),\n",
              " (5, 11, 14.0, 154.0),\n",
              " (6, 2, 71.0, 142.0),\n",
              " (7, 12, 48.0, 576.0),\n",
              " (8, 2, 14.0, 28.0),\n",
              " (9, 4, 144.0, 576.0)]"
            ]
          },
          "metadata": {},
          "execution_count": 22
        }
      ]
    },
    {
      "cell_type": "code",
      "source": [
        "'''Programa que retorna un diccionario con la clave siendo el estado y la llave siendo la cantidad de veces que aparece el estado en la lista.'''\n",
        "\n",
        "estados =['CMX', 'OAX', 'PUE', 'PUE', 'CMX', 'PUE', 'OAX', 'OAX', 'OAX', 'CMX', 'CMX', 'PUE', 'OAX', 'CMX', 'VER', 'PUE', 'VER', 'CMX', 'PUE', 'CMX', 'OAX', 'CMX', 'PUE']\n",
        "cantidad_sucursales = {estado: estados.count(estado) for estado in estados}\n",
        "cantidad_sucursales"
      ],
      "metadata": {
        "colab": {
          "base_uri": "https://localhost:8080/"
        },
        "id": "Ldno_FFjAWow",
        "outputId": "d39b2f25-045b-4aef-e371-d42ffe5c4f60"
      },
      "execution_count": null,
      "outputs": [
        {
          "output_type": "execute_result",
          "data": {
            "text/plain": [
              "{'CMX': 8, 'OAX': 6, 'PUE': 7, 'VER': 2}"
            ]
          },
          "metadata": {},
          "execution_count": 9
        }
      ]
    },
    {
      "cell_type": "code",
      "source": [
        "'''\n",
        "Programa que a partir de la lista de tuplas, retorna un diccionario con la clave siendo los estados únicos y las llaves siendo las listas\n",
        "con el número de empleados referentes al estado. Retorna otro diccionario con la clave siendo los estados y las llaves la suma de empleados por estado.\n",
        "'''\n",
        "\n",
        "empleados = [('CMX', 16), ('OAX', 8), ('PUE', 9), ('PUE', 6), ('CMX', 10), ('PUE', 4), ('OAX',9),  ('OAX', 7), ('OAX', 12), ('CMX', 7), ('CMX', 11), ('PUE',8), ('OAX',8), ('CMX',9), ('VER', 13), ('PUE', 5),  ('VER', 9), ('CMX', 12), ('PUE', 10), ('CMX', 7), ('OAX', 14), ('CMX', 10), ('PUE', 12)]\n",
        "estados = list(set([tupla[0] for tupla in empleados]))\n",
        "empleados_estado = {estado: [tupla[1] for tupla in empleados if tupla[0] == estado] for estado in estados}\n",
        "cantidad_empleados = {estado: sum([tupla[1] for tupla in empleados if tupla[0] == estado]) for estado in estados}\n",
        "print(estados, empleados_estado, cantidad_empleados, sep='\\n')"
      ],
      "metadata": {
        "colab": {
          "base_uri": "https://localhost:8080/"
        },
        "id": "gl5niCZ7AuZC",
        "outputId": "7b27a6d7-896d-4c5b-874a-d8928da25228"
      },
      "execution_count": 148,
      "outputs": [
        {
          "output_type": "stream",
          "name": "stdout",
          "text": [
            "['PUE', 'CMX', 'VER', 'OAX']\n",
            "{'PUE': [9, 6, 4, 8, 5, 10, 12], 'CMX': [16, 10, 7, 11, 9, 12, 7, 10], 'VER': [13, 9], 'OAX': [8, 9, 7, 12, 8, 14]}\n",
            "{'PUE': 54, 'CMX': 82, 'VER': 22, 'OAX': 58}\n"
          ]
        }
      ]
    },
    {
      "cell_type": "markdown",
      "source": [
        "## <font color=green> 4. LIDIANDO CON EXCEPCIONES\n",
        "---"
      ],
      "metadata": {
        "id": "RxKC5WVoCYp3"
      }
    },
    {
      "cell_type": "markdown",
      "source": [
        "Hemos podido evidenciar hasta aquí la existencia de algunos errores y excepciones en la ejecución de algún comando. Como científico/a de datos o programador, necesitarás estar atento a estas situaciones para evitar bugs o problemas en tus códigos y análisis que puedan afectar la experiencia tanto del usuario como la eficiencia de su análisis.\n",
        "\n",
        "Existen básicamente dos formas distintas de errores: Los **errores de sintáxis** y las **excepciones**.\n",
        "\n",
        "Las excepciones son errores detectados durante la ejecución e interrumpen el flujo del programa cerrándolo en caso de que no sean tratadas.  \n",
        "\n",
        "Vamos a aprender a identificar y tratar algunas de las excepciones aquí, pero es siempre importante consultar la documentación para investigar y verificar cuáles se ajustan a sus proyectos.\n",
        "\n",
        "**Documentación sobre errores y excepciones:** https://docs.python.org/es/3/tutorial/errors.html"
      ],
      "metadata": {
        "id": "MzOZ_0M3CU1x"
      }
    },
    {
      "cell_type": "markdown",
      "source": [
        "## 4.1 Tratando las Excepciones\n",
        "\n",
        "El tratamiento de las excepciones contribuye a establecer un flujo alternativo para la ejecución del código evitando la interrupción de los procesos inesperadamente.\n",
        "\n",
        "Existe una serie de excepciones, y a partir del comportamiento que queremos, y de los errores que queremos tratar, es posible construir un camino para el usuario, o también, proveer más detalles sobre aquella excepción.\n",
        "\n",
        "- Jerarquía de las excepciones (https://docs.python.org/es/3/library/exceptions.html#exception-hierarchy)"
      ],
      "metadata": {
        "id": "x3E66krBST7K"
      }
    },
    {
      "cell_type": "markdown",
      "source": [
        "### Try ... Except\n",
        "\n",
        "```python\n",
        "try:\n",
        "  # código que será ejecutado. En caso de que surja una excepción, para inmediatamente\n",
        "except <nombre_de_la_excepcion as e>:\n",
        "  # Si surje una excepción en el try, ejecuta este código, si no, salta esta etapa\n",
        "```"
      ],
      "metadata": {
        "id": "h9lj8Wfk__cl"
      }
    },
    {
      "cell_type": "markdown",
      "source": [
        "#### **Situación 12:**\n",
        "\n",
        "Creaste un código que lee un diccionario con las notas de los estudiantes y querías retornar la lista de notas de un estudiante.\n",
        "\n",
        "En caso que el/la estudiante no esté matriculado(a) en el grupo debemos tratar la excepción para presentar el mensaje \"Estudiante no matriculado(a) en el grupo\".\n",
        "\n",
        "Vamos a trabajar en este ejemplo con la excepción **Key Error** que interrumpirá el processo de este trecho de código.\n",
        "\n",
        "**¿Vamos a probar este primer tratamiento?**\n",
        "\n"
      ],
      "metadata": {
        "id": "miwzhPNdD8Ty"
      }
    },
    {
      "cell_type": "code",
      "source": [
        "notas = {'Juan': [8.0, 9.0, 10.0], 'Maria': [9.0, 7.0, 6.0], 'José': [3.4, 7.0, 8.0], 'Claudia': [5.5, 6.6, 8.0],\n",
        "         'Ana': [6.0, 10.0, 9.5], 'Jorge': [5.5, 7.5, 9.0], 'Julia': [6.0, 8.0, 7.0], 'Pedro': [3.0, 4.0, 6.0]}"
      ],
      "metadata": {
        "id": "UvVbXY0XVm-f"
      },
      "execution_count": null,
      "outputs": []
    },
    {
      "cell_type": "code",
      "source": [
        "nombre = input('Ingrese el nombre del estudiante: ')\n",
        "resultado = notas[nombre]\n",
        "print(resultado)"
      ],
      "metadata": {
        "id": "rFBq02dbJtkF",
        "colab": {
          "base_uri": "https://localhost:8080/",
          "height": 193
        },
        "outputId": "ee7372a0-6c15-4499-eb9f-73a89d8103d3"
      },
      "execution_count": null,
      "outputs": [
        {
          "name": "stdout",
          "output_type": "stream",
          "text": [
            "Ingrese el nombre del estudiante: Michael\n"
          ]
        },
        {
          "output_type": "error",
          "ename": "KeyError",
          "evalue": "'Michael'",
          "traceback": [
            "\u001b[0;31m---------------------------------------------------------------------------\u001b[0m",
            "\u001b[0;31mKeyError\u001b[0m                                  Traceback (most recent call last)",
            "\u001b[0;32m<ipython-input-53-8c98605deeb7>\u001b[0m in \u001b[0;36m<cell line: 0>\u001b[0;34m()\u001b[0m\n\u001b[1;32m      1\u001b[0m \u001b[0mnombre\u001b[0m \u001b[0;34m=\u001b[0m \u001b[0minput\u001b[0m\u001b[0;34m(\u001b[0m\u001b[0;34m'Ingrese el nombre del estudiante: '\u001b[0m\u001b[0;34m)\u001b[0m\u001b[0;34m\u001b[0m\u001b[0;34m\u001b[0m\u001b[0m\n\u001b[0;32m----> 2\u001b[0;31m \u001b[0mresultado\u001b[0m \u001b[0;34m=\u001b[0m \u001b[0mnotas\u001b[0m\u001b[0;34m[\u001b[0m\u001b[0mnombre\u001b[0m\u001b[0;34m]\u001b[0m\u001b[0;34m\u001b[0m\u001b[0;34m\u001b[0m\u001b[0m\n\u001b[0m\u001b[1;32m      3\u001b[0m \u001b[0mprint\u001b[0m\u001b[0;34m(\u001b[0m\u001b[0mresultado\u001b[0m\u001b[0;34m)\u001b[0m\u001b[0;34m\u001b[0m\u001b[0;34m\u001b[0m\u001b[0m\n",
            "\u001b[0;31mKeyError\u001b[0m: 'Michael'"
          ]
        }
      ]
    },
    {
      "cell_type": "code",
      "source": [
        "try:\n",
        "  nombre = input('Ingrese el nombre del estudiante: ')\n",
        "  resultado = notas[nombre]\n",
        "except Exception as e:\n",
        "  print(type(e), e)"
      ],
      "metadata": {
        "id": "Lo9utrFOLlUo",
        "outputId": "be96a7d1-356e-4684-e52e-bf8bbd3aad27",
        "colab": {
          "base_uri": "https://localhost:8080/"
        }
      },
      "execution_count": null,
      "outputs": [
        {
          "output_type": "stream",
          "name": "stdout",
          "text": [
            "Ingrese el nombre del estudiante: Michael\n",
            "<class 'KeyError'> 'Michael'\n"
          ]
        }
      ]
    },
    {
      "cell_type": "code",
      "source": [
        "try:\n",
        "  nombre = input('Ingrese el nombre del estudiante: ')\n",
        "  resultado = notas[nombre]\n",
        "except KeyError as e:\n",
        "  print('Estudiante no matriculado(a) en el grupo.')"
      ],
      "metadata": {
        "id": "IZwxTL1EJvRl",
        "colab": {
          "base_uri": "https://localhost:8080/"
        },
        "outputId": "524325b5-fd1c-4945-cac0-0a49f2f5bdb3"
      },
      "execution_count": null,
      "outputs": [
        {
          "output_type": "stream",
          "name": "stdout",
          "text": [
            "Ingrese el nombre del estudiante: Michael\n",
            "Estudiante no matriculado(a) en el grupo.\n"
          ]
        }
      ]
    },
    {
      "cell_type": "markdown",
      "source": [
        "### Agregando la cláusula Else\n",
        "\n",
        "```python\n",
        "try:\n",
        "  # código que será ejecutado. En caso de que surja una excepción, para inmediatamente\n",
        "except:\n",
        "  # Si surje una excepción en el try, ejecuta este código, si no, salta esta etapa\n",
        "else:\n",
        "  # Si no surjen excepciones, ejecuta esta parte del código\n",
        "```"
      ],
      "metadata": {
        "id": "hKhKzgQoBHLb"
      }
    },
    {
      "cell_type": "markdown",
      "source": [
        "#### **Situación 13:**\n",
        "\n",
        "Creaste un código que lee un diccionario con las notas de los estudiantes y querías retornar la lista de notas de un estudiante.\n",
        "\n",
        "En caso de que el/la estudiante no esté matriculado(a) en la clase, debe aparecer el siguiente mensaje: \"Estudiante no matriculado(a) en el grupo\" y, si no surje la excepción, debemos exhibir la lista con las notas del(la) estudiante.\n",
        "\n",
        "Vamos a trabajar en este ejemplo con la excepción **Key Error** que interrumpirá el proceso de este trecho de código.\n",
        "\n",
        "**¿Vamos a probar este tratamiento?**\n"
      ],
      "metadata": {
        "id": "USN3SA2tMjL0"
      }
    },
    {
      "cell_type": "code",
      "source": [
        "try:\n",
        "  nombre = input('Ingrese el nombre del estudiante: ')\n",
        "  resultado = notas[nombre]\n",
        "except KeyError as e:\n",
        "  print('Estudiante no matriculado(a) en el grupo.')\n",
        "else:\n",
        "  print(f'Las notas de {nombre} son: {resultado}')"
      ],
      "metadata": {
        "id": "Qr_4-D3UJxcE",
        "colab": {
          "base_uri": "https://localhost:8080/"
        },
        "outputId": "724c38d6-d856-4807-e685-c8761cfe77ac"
      },
      "execution_count": null,
      "outputs": [
        {
          "output_type": "stream",
          "name": "stdout",
          "text": [
            "Ingrese el nombre del estudiante: Juan\n",
            "Las notas de Juan son: [8.0, 9.0, 10.0]\n"
          ]
        }
      ]
    },
    {
      "cell_type": "markdown",
      "source": [
        "### Añadiendo la cláusula finally\n",
        "\n",
        "```python\n",
        "try:\n",
        "  # código que será ejecutado. En caso de que surja una excepción, para inmediatamente\n",
        "except:\n",
        "  # Si surje una excepción en el try, ejecuta este código, si no, salta esta etapa\n",
        "else:\n",
        "  # Si no surjen excepciones, ejecuta esta parte del código\n",
        "finally:\n",
        "  # Ejecuta este trecho (con o sin excepción)\n",
        "```"
      ],
      "metadata": {
        "id": "Dw_efTlbBhll"
      }
    },
    {
      "cell_type": "markdown",
      "source": [
        "#### **Situación 14:**\n",
        "\n",
        "Creaste un código que lee un diccionario con las notas de los estudiantes y querías retornar la lista de notas de un estudiante.\n",
        "\n",
        "En caso de que el/la estudiante no esté matriculado(a) en la clase, debe aparecer el siguiente mensaje: \"Estudiante no matriculado(a) en el grupo\" y, si no surje la excepción, debemos exhibir la lista con las notas del(la) estudiante. Un texto avisando que \"La consulta ha concluído.\" debe ser mostrado independientemente de si surgió o no alguna excepción.\n",
        "\n",
        "\n",
        "Vamos a trabajar en este ejemplo con la excepción **Key Error** que interrumpirá el proceso de este trecho del código.\n",
        "\n",
        "**¿Vamos a probar este tratamiento?**"
      ],
      "metadata": {
        "id": "jGtFVx5GdnsS"
      }
    },
    {
      "cell_type": "code",
      "source": [
        "try:\n",
        "  nombre = input('Ingrese el nombre del estudiante: ')\n",
        "  resultado = notas[nombre]\n",
        "except KeyError as e:\n",
        "  print('Estudiante no matriculado(a) en el grupo.')\n",
        "else:\n",
        "  print(f'Las notas de {nombre} son: {resultado}')\n",
        "finally:\n",
        "  print('La consulta ha concluído.')"
      ],
      "metadata": {
        "id": "PwdLYP_zJ04s",
        "colab": {
          "base_uri": "https://localhost:8080/"
        },
        "outputId": "46617bf6-5adf-4913-83c0-5a1d38b57288"
      },
      "execution_count": null,
      "outputs": [
        {
          "output_type": "stream",
          "name": "stdout",
          "text": [
            "Ingrese el nombre del estudiante: Juan\n",
            "Las notas de Juan son: [8.0, 9.0, 10.0]\n",
            "La consulta ha concluído.\n"
          ]
        }
      ]
    },
    {
      "cell_type": "markdown",
      "source": [
        "## 4.2 Raise\n",
        "\n",
        "Otra forma de trabajar con las excepciones en tu código, es generando tus propias excepciones para determinados comportamientos que deseas en tu código.\n",
        "\n",
        "Para ello, utilizamos la palabra clave `raise` junto al tipo de excepción que se desea mostrar y el mensaje que será exhibido.   "
      ],
      "metadata": {
        "id": "HdjllLBpST_2"
      }
    },
    {
      "cell_type": "markdown",
      "source": [
        "```python\n",
        "raise NombreDelError(\"Mensaje deseado.\")\n",
        "```"
      ],
      "metadata": {
        "id": "_nIOnDQufv6Z"
      }
    },
    {
      "cell_type": "markdown",
      "source": [
        "#### **Situación 15:**\n",
        "\n",
        "Creaste una función para calcular el promedio de un estudiante en una determinada materia pasando en una lista las notas de este estudiante.\n",
        "\n",
        "Pretendes tratar 2 situaciones:\n",
        "\n",
        "- Si la lista posee un valor no numérico el cálculo de promedio no será ejecutado y un mensaje de \"No fue posible calcular el promedio del(la) estudiante. Solo se admiten valores numéricos!\" será exhibido.\n",
        "\n",
        "- En caso que la lista tenga más de 4 notas, surgirá una excepción del tipo **ValueError** informando que \"La lista no puede poseer más de 4 notas.\"\n",
        "\n",
        "Un texto avisando que \"La consulta ha concluído.\" debe ser mostrado independientemente de si surgió o no alguna excepción.\n",
        "\n",
        "**¿Vamos a resolver este desafío?**"
      ],
      "metadata": {
        "id": "xapeB2ivgB7R"
      }
    },
    {
      "cell_type": "code",
      "source": [
        "def promedio(lista: list=[0]) -> float:\n",
        "  ''' Función para calcular el promedio de notas en una lista\n",
        "\n",
        "  lista: list, default [0]\n",
        "    Lista con las notas para calcular el promedio\n",
        "  return = calculo: float\n",
        "    Promedio calculado\n",
        "  '''\n",
        "\n",
        "  calculo = sum(lista) / len(lista)\n",
        "\n",
        "  if len(lista) > 4:\n",
        "    raise ValueError('La lista no puede poseer más de 4 notas.')\n",
        "\n",
        "  return calculo"
      ],
      "metadata": {
        "id": "kKeFuHUfhSfa"
      },
      "execution_count": null,
      "outputs": []
    },
    {
      "cell_type": "code",
      "source": [
        "notas = [6.0, 7.0, 8.0, 9.0, 10.0]\n",
        "resultado = promedio(notas)\n",
        "resultado"
      ],
      "metadata": {
        "id": "_ghW6hb9KBpU",
        "colab": {
          "base_uri": "https://localhost:8080/",
          "height": 298
        },
        "outputId": "ca3ee543-2b4e-4fbb-e246-d6ccd6fea5e6"
      },
      "execution_count": null,
      "outputs": [
        {
          "output_type": "error",
          "ename": "ValueError",
          "evalue": "La lista no puede poseer más de 4 notas.",
          "traceback": [
            "\u001b[0;31m---------------------------------------------------------------------------\u001b[0m",
            "\u001b[0;31mValueError\u001b[0m                                Traceback (most recent call last)",
            "\u001b[0;32m<ipython-input-63-13ae97d12218>\u001b[0m in \u001b[0;36m<cell line: 0>\u001b[0;34m()\u001b[0m\n\u001b[1;32m      1\u001b[0m \u001b[0mnotas\u001b[0m \u001b[0;34m=\u001b[0m \u001b[0;34m[\u001b[0m\u001b[0;36m6.0\u001b[0m\u001b[0;34m,\u001b[0m \u001b[0;36m7.0\u001b[0m\u001b[0;34m,\u001b[0m \u001b[0;36m8.0\u001b[0m\u001b[0;34m,\u001b[0m \u001b[0;36m9.0\u001b[0m\u001b[0;34m,\u001b[0m \u001b[0;36m10.0\u001b[0m\u001b[0;34m]\u001b[0m\u001b[0;34m\u001b[0m\u001b[0;34m\u001b[0m\u001b[0m\n\u001b[0;32m----> 2\u001b[0;31m \u001b[0mresultado\u001b[0m \u001b[0;34m=\u001b[0m \u001b[0mpromedio\u001b[0m\u001b[0;34m(\u001b[0m\u001b[0mnotas\u001b[0m\u001b[0;34m)\u001b[0m\u001b[0;34m\u001b[0m\u001b[0;34m\u001b[0m\u001b[0m\n\u001b[0m\u001b[1;32m      3\u001b[0m \u001b[0mresultado\u001b[0m\u001b[0;34m\u001b[0m\u001b[0;34m\u001b[0m\u001b[0m\n",
            "\u001b[0;32m<ipython-input-62-1874a1e8fa6b>\u001b[0m in \u001b[0;36mpromedio\u001b[0;34m(lista)\u001b[0m\n\u001b[1;32m     11\u001b[0m \u001b[0;34m\u001b[0m\u001b[0m\n\u001b[1;32m     12\u001b[0m   \u001b[0;32mif\u001b[0m \u001b[0mlen\u001b[0m\u001b[0;34m(\u001b[0m\u001b[0mlista\u001b[0m\u001b[0;34m)\u001b[0m \u001b[0;34m>\u001b[0m \u001b[0;36m4\u001b[0m\u001b[0;34m:\u001b[0m\u001b[0;34m\u001b[0m\u001b[0;34m\u001b[0m\u001b[0m\n\u001b[0;32m---> 13\u001b[0;31m     \u001b[0;32mraise\u001b[0m \u001b[0mValueError\u001b[0m\u001b[0;34m(\u001b[0m\u001b[0;34m'La lista no puede poseer más de 4 notas.'\u001b[0m\u001b[0;34m)\u001b[0m\u001b[0;34m\u001b[0m\u001b[0;34m\u001b[0m\u001b[0m\n\u001b[0m\u001b[1;32m     14\u001b[0m \u001b[0;34m\u001b[0m\u001b[0m\n\u001b[1;32m     15\u001b[0m   \u001b[0;32mreturn\u001b[0m \u001b[0mcalculo\u001b[0m\u001b[0;34m\u001b[0m\u001b[0;34m\u001b[0m\u001b[0m\n",
            "\u001b[0;31mValueError\u001b[0m: La lista no puede poseer más de 4 notas."
          ]
        }
      ]
    },
    {
      "cell_type": "code",
      "source": [
        "try:\n",
        "  notas = [6.0, 7.0, 8.0, 9.0, 10.0]\n",
        "  resultado = promedio(notas)\n",
        "except TypeError:\n",
        "  print('No fue posible calcular el promedio del(la) estudiante. Solo se admiten valores numéricos!')\n",
        "except ValueError as e:\n",
        "  print(e)\n",
        "else:\n",
        "  print(f'El promedio del estudiante es: {resultado}')\n",
        "finally:\n",
        "  print('La consulta ha concluído.')"
      ],
      "metadata": {
        "id": "X2To8kJdKGFk",
        "colab": {
          "base_uri": "https://localhost:8080/"
        },
        "outputId": "36f24f75-fdb9-4606-b999-2660d203aa80"
      },
      "execution_count": null,
      "outputs": [
        {
          "output_type": "stream",
          "name": "stdout",
          "text": [
            "La lista no puede poseer más de 4 notas.\n",
            "La consulta ha concluído.\n"
          ]
        }
      ]
    },
    {
      "cell_type": "code",
      "source": [
        "try:\n",
        "  notas = [6.0, 7.0, 8.0, 9.0]\n",
        "  resultado = promedio(notas)\n",
        "except TypeError:\n",
        "  print('No fue posible calcular el promedio del(la) estudiante. Solo se admiten valores numéricos!')\n",
        "except ValueError as e:\n",
        "  print(e)\n",
        "else:\n",
        "  print(f'El promedio del estudiante es: {resultado}')\n",
        "finally:\n",
        "  print('La consulta ha concluído.')"
      ],
      "metadata": {
        "id": "nrCsWqX6KGIA",
        "colab": {
          "base_uri": "https://localhost:8080/"
        },
        "outputId": "e7a5c32c-208f-4098-d84b-948150c86824"
      },
      "execution_count": null,
      "outputs": [
        {
          "output_type": "stream",
          "name": "stdout",
          "text": [
            "El promedio del estudiante es: 7.5\n",
            "La consulta ha concluído.\n"
          ]
        }
      ]
    },
    {
      "cell_type": "markdown",
      "source": [
        "### Calentamiento"
      ],
      "metadata": {
        "id": "aYx2T8xmQsaI"
      }
    },
    {
      "cell_type": "code",
      "source": [
        "'''\n",
        "Programa que solicita al usuario ingresar dos números decimales y calcula la división entre estos números.\n",
        "Incluye un manejo de error, indicando el tipo de error que se generó si la división no es posible.\n",
        "'''\n",
        "numeros = []\n",
        "\n",
        "for i in range(2):\n",
        "  while True:\n",
        "    try:\n",
        "      numeros.append(float(input(f'Ingrese el número {i + 1}: ')))\n",
        "      break\n",
        "    except ValueError:\n",
        "      print('No es posible dividir por un valor no numérico.')\n",
        "\n",
        "try:\n",
        "  resultado = numeros[0] / numeros[1]\n",
        "  print(f'El resultado de la división es: {resultado}')\n",
        "except ZeroDivisionError:\n",
        "  print('No es posible dividir por cero.')"
      ],
      "metadata": {
        "id": "bH4Js5OGQ2m9",
        "outputId": "61a3e7c8-c67b-4fb2-94d1-812254c6b2a4",
        "colab": {
          "base_uri": "https://localhost:8080/"
        }
      },
      "execution_count": 171,
      "outputs": [
        {
          "output_type": "stream",
          "name": "stdout",
          "text": [
            "Ingrese el número 1: a\n",
            "No es posible dividir por un valor no numérico.\n",
            "Ingrese el número 1: 10\n",
            "Ingrese el número 2: a\n",
            "No es posible dividir por un valor no numérico.\n",
            "Ingrese el número 2: 5\n",
            "El resultado de la división es: 2.0\n"
          ]
        }
      ]
    },
    {
      "cell_type": "code",
      "source": [
        "'''\n",
        "Programa que solicita al usuario ingresar un texto que será una clave a buscar en un diccionario.\n",
        "Incluye un manejo de error KeyError, imprime el valor si no ocurre errores.'''\n",
        "\n",
        "while True:\n",
        "  try:\n",
        "    edades = {'Júlia': 16, 'Carol': 23, 'Alberto': 19, 'Roberta': 17}\n",
        "    nombre = input('Ingrese el nombre del estudiante: ').title()\n",
        "    resultado = edades[nombre]\n",
        "    print(f'La edad de {nombre} es: {resultado}')\n",
        "    break\n",
        "  except KeyError:\n",
        "    print(f'Nombre no encontrado. Intenta buscar por: {edades.keys()}')"
      ],
      "metadata": {
        "id": "28hWSV7qRXeu",
        "outputId": "7d1a6a20-54a1-4226-9416-99c0ecdfe75d",
        "colab": {
          "base_uri": "https://localhost:8080/"
        }
      },
      "execution_count": 165,
      "outputs": [
        {
          "output_type": "stream",
          "name": "stdout",
          "text": [
            "Ingrese el nombre del estudiante: julia\n",
            "Nombre no encontrado. Intenta buscar por: dict_keys(['Júlia', 'Carol', 'Alberto', 'Roberta'])\n",
            "Ingrese el nombre del estudiante: carol\n",
            "La edad de Carol es: 23\n"
          ]
        }
      ]
    },
    {
      "cell_type": "code",
      "source": [
        "from typing import List\n",
        "\n",
        "def convertir_a_flotante(lista: List[int]) -> List[float]:\n",
        "  \"\"\"Convierte los elementos de una lista a números de punto flotante.\n",
        "\n",
        "  Esta función toma una lista como entrada e intenta convertir cada uno de sus\n",
        "  elementos a un número de tipo `float`. Si la conversión de algún elemento falla,\n",
        "  se captura la excepción correspondiente y se imprime un mensaje de error.\n",
        "\n",
        "  Parameters\n",
        "  ----------\n",
        "  lista : List[int]\n",
        "      La lista de valores enteros que se intentarán convertir a flotante.\n",
        "\n",
        "  Returns\n",
        "  -------\n",
        "  list : List[float]\n",
        "      Una nueva lista que contiene los elementos de la lista original convertidos a `float`.\n",
        "      Si ocurre algún error durante la conversión, se imprime un mensaje y se retorna\n",
        "      una lista vacía.\n",
        "\n",
        "  Raises\n",
        "  ------\n",
        "  ValueError\n",
        "      Si algún elemento de la lista no puede ser interpretado como un número de punto\n",
        "      flotante (por ejemplo, una cadena no numérica). Se imprime un mensaje de error\n",
        "      indicando el problema.\n",
        "  TypeError\n",
        "      Si algún elemento de la lista no es de un tipo que pueda ser convertido a flotante\n",
        "      (por ejemplo, `None`). Se imprime un mensaje de error indicando el problema.\n",
        "\n",
        "  Examples\n",
        "  --------\n",
        "  >>> lista_numeros = [4, 6, 7, 9, 10]\n",
        "  >>> convertir_a_flotante(lista_numeros)\n",
        "  [4.0, 6.0, 7.0, 9.0, 10.0]\n",
        "\n",
        "  >>> lista_con_string = [4, 6, 7, 9, 'a']\n",
        "  >>> convertir_a_flotante(lista_con_string)\n",
        "  Error de valor al convertir: could not convert string to float: 'a'\n",
        "  []\n",
        "\n",
        "  >>> lista_con_none = [4, 6, 7, 9, None]\n",
        "  >>> convertir_a_flotante(lista_con_none)\n",
        "  Error de tipo al convertir: float() argument must be a string or a number, not 'NoneType'\n",
        "  []\n",
        "  \"\"\"\n",
        "  try:\n",
        "    lista_flotantes = [float(i) for i in lista]\n",
        "    return lista_flotantes\n",
        "  except (ValueError, TypeError) as e:\n",
        "    print(f'Error: {e}')\n",
        "    return []\n",
        "\n",
        "lista = [4, 6, 7, 9, 'a']\n",
        "lista_2 = [4, 6, 7, 9, None]\n",
        "lista_3 = [4, 6, 7, 9, 10]\n",
        "convertir_a_flotante(lista)\n",
        "convertir_a_flotante(lista_2)\n",
        "convertir_a_flotante(lista_3)"
      ],
      "metadata": {
        "id": "4Rg1u6UFU6yd",
        "outputId": "000abcfa-83f5-4f6e-eed1-5e59ec0b6c7c",
        "colab": {
          "base_uri": "https://localhost:8080/"
        }
      },
      "execution_count": 175,
      "outputs": [
        {
          "output_type": "stream",
          "name": "stdout",
          "text": [
            "Error: could not convert string to float: 'a'\n",
            "Error: float() argument must be a string or a real number, not 'NoneType'\n"
          ]
        },
        {
          "output_type": "execute_result",
          "data": {
            "text/plain": [
              "[4.0, 6.0, 7.0, 9.0, 10.0]"
            ]
          },
          "metadata": {},
          "execution_count": 175
        }
      ]
    },
    {
      "cell_type": "code",
      "source": [
        "from typing import List, Union\n",
        "\n",
        "def agrupar_listas(lista1: List[Union[int, float]], lista2: List[Union[int, float]]) -> list:\n",
        "  \"\"\"Agrupa dos listas en una lista de tuplas, donde cada tupla contiene elementos correspondientes y su suma.\n",
        "\n",
        "  Esta función toma dos listas como entrada y las agrupa en una nueva lista. Cada elemento\n",
        "  de la nueva lista es una tupla que contiene tres elementos: el elemento de la primera\n",
        "  lista en un índice dado, el elemento de la segunda lista en el mismo índice, y la suma\n",
        "  de estos dos elementos.\n",
        "\n",
        "  Parameters\n",
        "  ----------\n",
        "  lista1 : List[Union[int, float]]\n",
        "      La primera lista de valores (enteros o decimales) a agrupar.\n",
        "  lista2 : List[Union[int, float]]\n",
        "      La segunda lista de valores (enteros o decimales) a agrupar.\n",
        "\n",
        "  Returns\n",
        "  -------\n",
        "  list of tuple\n",
        "      Una lista de tuplas. Cada tupla contiene tres elementos: `(elemento_lista1, elemento_lista2, suma)`.\n",
        "      Retorna una lista vacía si las listas de entrada no tienen la misma longitud o si ocurre un error de tipo.\n",
        "\n",
        "  Raises\n",
        "  ------\n",
        "  IndexError\n",
        "      Si las listas de entrada (`lista1` y `lista2`) no tienen la misma longitud. Se imprime\n",
        "      un mensaje de error indicando este problema.\n",
        "  TypeError\n",
        "      Si los elementos correspondientes de las listas no se pueden sumar (por ejemplo, si\n",
        "      se intenta sumar un número con una cadena). Se imprime un mensaje de error indicando\n",
        "      este problema.\n",
        "\n",
        "  Examples\n",
        "  --------\n",
        "  >>> lista_a = [1, 2, 3]\n",
        "  >>> lista_b = [4, 5, 6]\n",
        "  >>> agrupar_listas(lista_a, lista_b)\n",
        "  [(1, 4, 5), (2, 5, 7), (3, 6, 9)]\n",
        "\n",
        "  >>> lista_c = [10, 20]\n",
        "  >>> lista_d = [30, 40, 50]\n",
        "  >>> agrupar_listas(lista_c, lista_d)\n",
        "  Error de índice: Las listas no tienen el mismo tamaño.\n",
        "  []\n",
        "\n",
        "  >>> lista_e = [1, 'a']\n",
        "  >>> lista_f = [2, 3]\n",
        "  >>> agrupar_listas(lista_e, lista_f)\n",
        "  Error de tipo: unsupported operand type(s) for +: 'int' and 'str'\n",
        "  []\n",
        "  \"\"\"\n",
        "  try:\n",
        "    if len(lista1) != len(lista2):\n",
        "      raise IndexError('Las listas no tienen el mismo tamaño.')\n",
        "    listas_agrupadas = [(lista1[i], lista2[i], lista1[i] + lista2[i]) for i in range(len(lista1))]\n",
        "    return listas_agrupadas\n",
        "  except (IndexError, TypeError) as e:\n",
        "    print(e)\n",
        "    return []\n",
        "\n",
        "lista1 = [4, 6, 7, 9, 10]\n",
        "lista2 = [-4, 6, 8, 7, 9]\n",
        "lista3 = [4, 6, 7, 9, 10, 4]\n",
        "lista4 = [-4, 6, 8, 7, 9]\n",
        "lista5 = [4, 6, 7, 9, 'A']\n",
        "lista6 = [-4, 'E', 8, 7, 9]\n",
        "agrupar_listas(lista3, lista4)\n",
        "agrupar_listas(lista5, lista6)\n",
        "agrupar_listas(lista1, lista2)"
      ],
      "metadata": {
        "id": "l4MowM6Rajd0",
        "outputId": "29159bf3-11fb-40bd-d769-c59cab9a4ae2",
        "colab": {
          "base_uri": "https://localhost:8080/"
        }
      },
      "execution_count": 177,
      "outputs": [
        {
          "output_type": "stream",
          "name": "stdout",
          "text": [
            "Las listas no tienen el mismo tamaño.\n",
            "unsupported operand type(s) for +: 'int' and 'str'\n"
          ]
        },
        {
          "output_type": "execute_result",
          "data": {
            "text/plain": [
              "[(4, -4, 0), (6, 6, 12), (7, 8, 15), (9, 7, 16), (10, 9, 19)]"
            ]
          },
          "metadata": {},
          "execution_count": 177
        }
      ]
    },
    {
      "cell_type": "markdown",
      "source": [
        "### Aplicando a proyectos"
      ],
      "metadata": {
        "id": "ZOtS5uibel0o"
      }
    },
    {
      "cell_type": "code",
      "source": [
        "from typing import List\n",
        "\n",
        "def evaluar_examen(tests: List[str]) -> List[int]:\n",
        "  \"\"\"Evalúa uno o varios exámenes y devuelve las puntuaciones.\n",
        "\n",
        "  Esta función toma una lista de exámenes o un único examen (lista de respuestas)\n",
        "  y compara cada respuesta del estudiante con una lista predefinida de respuestas\n",
        "  correctas (`respuestas`). Se asegura de que cada examen contenga exactamente 5\n",
        "  respuestas y que cada respuesta sea una de las opciones válidas (`'A', 'B', 'C', 'D'`).\n",
        "  Calcula la puntuación de cada examen contando el número de respuestas correctas.\n",
        "\n",
        "  Parameters\n",
        "  ----------\n",
        "  tests : List[str]\n",
        "      Una lista de exámenes o un único examen.\n",
        "      Si es una lista de listas: Cada lista interna representa un examen, donde cada\n",
        "      cadena es la respuesta de un estudiante a una pregunta.\n",
        "      Si es una lista de strings: Representa las respuestas de un único estudiante\n",
        "      a un examen.\n",
        "      Por defecto es una lista con el entero 0, pero se espera una lista de listas de\n",
        "      strings o una lista de strings.\n",
        "\n",
        "  Returns\n",
        "  -------\n",
        "  List[int]\n",
        "      Una lista con las puntuaciones de cada examen. Cada puntuación representa el\n",
        "      número de respuestas correctas en el examen correspondiente.\n",
        "      Devuelve una lista vacía si no se proporcionan exámenes válidos o si ocurre un error.\n",
        "\n",
        "  Raises\n",
        "  ------\n",
        "  IndexError\n",
        "      Si alguno de los exámenes (ya sea individual o dentro de una lista) no\n",
        "      contiene exactamente 5 respuestas. Se imprime un mensaje de error indicando\n",
        "      este problema.\n",
        "  ValueError\n",
        "      Si alguna de las respuestas dentro de un examen no es una de las opciones\n",
        "      válidas ('A', 'B', 'C', 'D'). Se imprime un mensaje de error indicando la\n",
        "      alternativa inválida.\n",
        "  TypeError\n",
        "      Si el argumento `tests` no es una lista o si los elementos dentro de la\n",
        "      lista no son listas (para múltiples exámenes) o strings (para un solo examen).\n",
        "\n",
        "  Examples\n",
        "  --------\n",
        "  >>> respuestas_correctas = ['D', 'A', 'B', 'C', 'A']\n",
        "  >>> examenes_multiples = [['D', 'A', 'B', 'C', 'A'], ['C', 'A', 'A', 'C', 'A']]\n",
        "  >>> evaluar_examen(examenes_multiples)\n",
        "  [5, 3]\n",
        "\n",
        "  >>> examen_unico = ['D', 'A', 'B', 'C', 'A']\n",
        "  >>> evaluar_examen(examen_unico)\n",
        "  [5]\n",
        "\n",
        "  >>> examen_unico_error_longitud = ['D', 'A', 'B', 'C', 'A', 'A']\n",
        "  >>> evaluar_examen(examen_unico_error_longitud)\n",
        "  La lista debe contener 5 respuestas.\n",
        "  []\n",
        "\n",
        "  >>> examen_unico_error_alternativa = ['D', 'A', 'B', 'E', 'A']\n",
        "  >>> evaluar_examen(examen_unico_error_alternativa)\n",
        "  La alternativa E no es una opción válida.\n",
        "  []\n",
        "\n",
        "  >>> examenes_con_error_longitud = [['D', 'A', 'B', 'C', 'A', 'A']]\n",
        "  >>> evaluar_examen(examenes_con_error_longitud)\n",
        "  La lista debe contener 5 respuestas.\n",
        "  []\n",
        "\n",
        "  >>> examenes_con_error_alternativa = [['D', 'A', 'B', 'E', 'A']]\n",
        "  >>> evaluar_examen(examenes_con_error_alternativa)\n",
        "  La alternativa E no es una opción válida.\n",
        "  []\n",
        "  \"\"\"\n",
        "  puntuaciones = []\n",
        "  try:\n",
        "    if isinstance(tests, list) and len(tests) > 0 and isinstance(tests[0], str):\n",
        "      tests = [tests] # Si es una lista simple de respuestas, la convertimos en una lista de un solo estudiante\n",
        "    elif not isinstance(tests, list):\n",
        "      raise TypeError(\"El argumento 'tests' debe ser una lista o una lista de listas.\")\n",
        "\n",
        "    for test in tests:\n",
        "      if not isinstance(test, list):\n",
        "        raise TypeError(\"Cada examen debe ser una lista de respuestas.\")\n",
        "      if len(test) != 5:\n",
        "        raise IndexError('La lista debe contener 5 respuestas.')\n",
        "      nota = 0\n",
        "      for i in range(len(test)):\n",
        "        if test[i] not in ['A', 'B', 'C', 'D']:\n",
        "          raise ValueError(f'La alternativa {test[i]} no es una opción válida.')\n",
        "        elif test[i] == respuestas[i]:\n",
        "          nota += 1\n",
        "      puntuaciones.append(nota)\n",
        "  except (IndexError, ValueError, TypeError) as e:\n",
        "    print(e)\n",
        "    return []\n",
        "  else:\n",
        "    return puntuaciones\n",
        "\n",
        "respuestas = ['D', 'A', 'B', 'C', 'A']\n",
        "tests_sin_ex = [['D', 'A', 'B', 'C', 'A'], ['C', 'A', 'A', 'C', 'A'], ['D', 'B', 'A', 'C', 'A']]\n",
        "tests_con_ex = [['D', 'A', 'B', 'C', 'A'], ['C', 'A', 'A', 'E', 'A'], ['D', 'B', 'A', 'C', 'A']]\n",
        "tests_fuera_rango = [['D', 'A', 'B', 'C', 'A', 'A'], ['C', 'A', 'A', 'E', 'A', 'B'], ['D', 'B', 'A', 'C', 'E', 'C']]\n",
        "test_individual = ['D', 'A', 'B', 'C', 'A']\n",
        "test_individual_error = ['D', 'A', 'B', 'E', 'A']\n",
        "test_individual_fuera_rango = ['D', 'A', 'B', 'C', 'A', 'A']\n",
        "\n",
        "resultado_sin_ex = evaluar_examen(tests_sin_ex)\n",
        "print(f\"Puntuaciones: {resultado_sin_ex}\")\n",
        "resultado_individual_sin_ex = evaluar_examen(test_individual)\n",
        "print(f\"Puntuación: {resultado_individual_sin_ex}\")\n",
        "resultado_con_ex = evaluar_examen(tests_con_ex)\n",
        "resultado_fuera_rango = evaluar_examen(tests_fuera_rango)\n",
        "resultado_individual_con_ex = evaluar_examen(test_individual_error)\n",
        "resultado_individual_fuera_rango = evaluar_examen(test_individual_fuera_rango)"
      ],
      "metadata": {
        "id": "2lPdl3VHe_pB",
        "outputId": "81a07238-165f-478b-fe00-52d95402ce61",
        "colab": {
          "base_uri": "https://localhost:8080/"
        }
      },
      "execution_count": 182,
      "outputs": [
        {
          "output_type": "stream",
          "name": "stdout",
          "text": [
            "Puntuaciones: [5, 3, 3]\n",
            "Puntuación: [5]\n",
            "La alternativa E no es una opción válida.\n",
            "La lista debe contener 5 respuestas.\n",
            "La alternativa E no es una opción válida.\n",
            "La lista debe contener 5 respuestas.\n"
          ]
        }
      ]
    },
    {
      "cell_type": "code",
      "source": [
        "import unicodedata\n",
        "from typing import List\n",
        "\n",
        "def evaluar_puntuacion(lista: List[str]) -> str:\n",
        "  \"\"\"Evalúa si una lista de palabras contiene números o signos de puntuación UTF-8 (excepto letras acentuadas).\n",
        "\n",
        "  Esta función toma una lista de cadenas (palabras) y verifica si alguna de ellas\n",
        "  contiene números (dígitos del 0 al 9) o cualquier carácter considerado como\n",
        "  signo de puntuación en la norma Unicode, con la excepción de las letras acentuadas.\n",
        "  Si se encuentran números o signos de puntuación, se levanta una excepción ValueError\n",
        "  y se imprime un mensaje indicando las palabras problemáticas. Si no se encuentra\n",
        "  ningún número ni signo de puntuación (excepto acentos), la función devuelve un\n",
        "  mensaje afirmativo.\n",
        "\n",
        "  Parameters\n",
        "  ----------\n",
        "  lista : list of str, optional\n",
        "      Una lista de cadenas (palabras) para evaluar. Por defecto es una lista con el entero 0,\n",
        "      pero se espera una lista de strings.\n",
        "\n",
        "  Returns\n",
        "  -------\n",
        "  str\n",
        "      Devuelve el string 'El texto no presenta números ni signos de puntuación.' si no se encuentra\n",
        "      ningún número ni signo de puntuación (excepto acentos) en la lista.\n",
        "\n",
        "  Raises\n",
        "  ------\n",
        "  ValueError\n",
        "      Si se encuentra uno o más números o signos de puntuación (excepto acentos)\n",
        "      en alguna de las palabras de la lista. El mensaje del error especificará las\n",
        "      palabras que contienen estos caracteres.\n",
        "\n",
        "  Examples\n",
        "  --------\n",
        "  >>> evaluar_puntuacion(['Hola', 'mundo'])\n",
        "  'El texto no presenta números ni signos de puntuación.'\n",
        "  >>> evaluar_puntuacion(['Hola,', 'mundo'])\n",
        "  El texto presenta números o signos de puntuación en la palabra Hola,.\n",
        "  >>> evaluar_puntuacion(['Texto', 'con', 'números', '123'])\n",
        "  El texto presenta números o signos de puntuación en la palabra 123.\n",
        "  >>> evaluar_puntuacion(['Texto', 'con', 'símbolos', '#@&%'])\n",
        "  El texto presenta números o signos de puntuación en la palabra #@&%.\n",
        "  >>> evaluar_puntuacion(['Texto', 'con', 'acentos', 'áéíóú'])\n",
        "  'El texto no presenta números ni signos de puntuación.'\n",
        "  >>> evaluar_puntuacion(['Texto', 'mixto', '1a'])\n",
        "  El texto presenta números o signos de puntuación en la palabra 1a.\n",
        "  \"\"\"\n",
        "  palabras_con_caracteres_no_validos = []\n",
        "  try:\n",
        "    for palabra in lista:\n",
        "      for caracter in palabra:\n",
        "        if caracter.isdigit() or (unicodedata.category(caracter).startswith('P') and unicodedata.category(caracter) not in ['Lo', 'Lm', 'Lt', 'Lu']):\n",
        "          if palabra not in palabras_con_caracteres_no_validos:\n",
        "            palabras_con_caracteres_no_validos.append(palabra)\n",
        "          break\n",
        "    if palabras_con_caracteres_no_validos:\n",
        "      if len(palabras_con_caracteres_no_validos) == 1:\n",
        "        raise ValueError(f'El texto presenta números o signos de puntuación en la palabra \"{palabras_con_caracteres_no_validos[0]}\".')\n",
        "      raise ValueError(f'El texto presenta números o signos de puntuación en las palabras {palabras_con_caracteres_no_validos}.')\n",
        "  except ValueError as e:\n",
        "    print(e)\n",
        "  else:\n",
        "    return 'El texto no presenta números ni signos de puntuación.'\n",
        "\n",
        "lista_tratada = ['Python', 'es', 'un', 'lenguaje', 'de', 'programación', 'poderoso', 'versátil',\n",
        "                  'y', 'fácil', 'de', 'aprender', 'utilizado', 'en', 'diversos', 'campos', 'desde',\n",
        "                  'análisis', 'de', 'datos', 'hasta', 'inteligencia', 'artificial']\n",
        "lista_no_tratada = ['Python', 'es', 'un', 'lenguaje', 'de', 'programación', 'poderoso,', 'versátil',\n",
        "                  'y', 'fácil,', 'de', 'aprender', 'utilizado', 'en', 'diversos', 'campos,', 'desde',\n",
        "                  'análisis', 'de', 'datos', 'hasta', 'inteligencia', 'artificial!']\n",
        "lista_con_numeros = ['Texto', 'con', 'números', '123', 'y', 'más.']\n",
        "lista_con_simbolos = ['Texto', 'con', 'símbolos', '#@&%', 'raros', '¿verdad?']\n",
        "lista_con_acentos = ['Texto', 'con', 'acentos', 'áéíóú', 'sin', 'problema.']\n",
        "lista_mixta = ['Texto', 'mixto', 'con', 'números', '123', 'y', 'símbolos', '$^&*()_+=-`~[]{};:\\'\"\\\\|,.<>/?', '¡y', 'más!']\n",
        "\n",
        "evaluar_puntuacion(lista_no_tratada)\n",
        "evaluar_puntuacion(lista_con_numeros)\n",
        "evaluar_puntuacion(lista_con_simbolos)\n",
        "evaluar_puntuacion(lista_con_acentos)\n",
        "evaluar_puntuacion(lista_mixta)\n",
        "evaluar_puntuacion(lista_tratada)"
      ],
      "metadata": {
        "id": "Lsaf6wtbrGNT",
        "outputId": "464ee0c4-7157-4615-a2dc-b573383d8f7d",
        "colab": {
          "base_uri": "https://localhost:8080/",
          "height": 122
        }
      },
      "execution_count": 183,
      "outputs": [
        {
          "output_type": "stream",
          "name": "stdout",
          "text": [
            "El texto presenta números o signos de puntuación en las palabras ['poderoso,', 'fácil,', 'campos,', 'artificial!'].\n",
            "El texto presenta números o signos de puntuación en las palabras ['123', 'más.'].\n",
            "El texto presenta números o signos de puntuación en las palabras ['#@&%', '¿verdad?'].\n",
            "El texto presenta números o signos de puntuación en la palabra \"problema.\".\n",
            "El texto presenta números o signos de puntuación en las palabras ['123', '$^&*()_+=-`~[]{};:\\'\"\\\\|,.<>/?', '¡y', 'más!'].\n"
          ]
        },
        {
          "output_type": "execute_result",
          "data": {
            "text/plain": [
              "'El texto no presenta números ni signos de puntuación.'"
            ],
            "application/vnd.google.colaboratory.intrinsic+json": {
              "type": "string"
            }
          },
          "metadata": {},
          "execution_count": 183
        }
      ]
    }
  ]
}