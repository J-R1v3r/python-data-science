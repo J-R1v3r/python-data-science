{
  "nbformat": 4,
  "nbformat_minor": 0,
  "metadata": {
    "colab": {
      "provenance": [],
      "include_colab_link": true
    },
    "kernelspec": {
      "name": "python3",
      "display_name": "Python 3"
    },
    "language_info": {
      "name": "python"
    }
  },
  "cells": [
    {
      "cell_type": "markdown",
      "metadata": {
        "id": "view-in-github",
        "colab_type": "text"
      },
      "source": [
        "<a href=\"https://colab.research.google.com/github/J-R1v3r/python-data-science/blob/main/Python_Data_Science.ipynb\" target=\"_parent\"><img src=\"https://colab.research.google.com/assets/colab-badge.svg\" alt=\"Open In Colab\"/></a>"
      ]
    },
    {
      "cell_type": "markdown",
      "source": [
        "# Python para Data Science\n",
        "\n",
        "Notebook para el curso de Python para Data Science publicado en la plataforma de [Alura Latam](https://www.aluracursos.com/)"
      ],
      "metadata": {
        "id": "lQx6Mmv0OJyT"
      }
    },
    {
      "cell_type": "markdown",
      "source": [
        "# Introducción a Python\n",
        "¡Vamos a conocer Python, nuestro ambiente de estudio, y también generaremos nuestro primer código en este lenguaje!"
      ],
      "metadata": {
        "id": "7SiB6JIpYKmY"
      }
    },
    {
      "cell_type": "markdown",
      "source": [
        "## Google Colaboratory\n",
        "\n",
        "Ya aprendimos qué es [Python](https://www.python.org/) y ahora aprenderemos a usar nuestra herramienta de ejecución [Google Colaboratory](https://colab.research.google.com/) para programar en un notebook interactivo.\n",
        "\n",
        "Vamos a probar algunas funciones de este ambiente."
      ],
      "metadata": {
        "id": "Yugfb3fCOYY9"
      }
    },
    {
      "cell_type": "markdown",
      "source": [
        " **`>>> Usa esta celda para mover <<<`**"
      ],
      "metadata": {
        "id": "2iUHQsJasJAk"
      }
    },
    {
      "cell_type": "markdown",
      "source": [
        "## ¡Hola mundo!\n",
        "\n",
        "Vamos a conocer un poco más de cerca nuestro notebook. Para ello ejecutaremos nuestro primer comando en Python: [`print()`](https://docs.python.org/3/library/functions.html#print)"
      ],
      "metadata": {
        "id": "aLSFP2V7XTfe"
      }
    },
    {
      "cell_type": "code",
      "source": [
        "print('¡Hola mundo!')"
      ],
      "metadata": {
        "id": "0qZX8_ZQBYyk",
        "colab": {
          "base_uri": "https://localhost:8080/"
        },
        "outputId": "2a75138b-3cc6-45a0-f7ed-5d4115d4fa74"
      },
      "execution_count": null,
      "outputs": [
        {
          "output_type": "stream",
          "name": "stdout",
          "text": [
            "¡Hola mundo!\n"
          ]
        }
      ]
    },
    {
      "cell_type": "code",
      "source": [
        "frase = \"Escuela de Datos de Alura\"\n",
        "print(frase)"
      ],
      "metadata": {
        "id": "GLMzF_AKBY7a",
        "colab": {
          "base_uri": "https://localhost:8080/"
        },
        "outputId": "8a0bd27e-5e8d-44b1-a911-edf5f2064e04"
      },
      "execution_count": null,
      "outputs": [
        {
          "output_type": "stream",
          "name": "stdout",
          "text": [
            "Escuela de Datos de Alura\n"
          ]
        }
      ]
    },
    {
      "cell_type": "code",
      "source": [
        "nombre_completo = ['Juan', 'Ríos']\n",
        "nombre, apellido = nombre_completo\n",
        "print(nombre, apellido)"
      ],
      "metadata": {
        "colab": {
          "base_uri": "https://localhost:8080/"
        },
        "id": "H0OmgpnykAC5",
        "outputId": "be5f3a31-53ee-4519-c086-fcf8c2a6f243"
      },
      "execution_count": 1,
      "outputs": [
        {
          "output_type": "stream",
          "name": "stdout",
          "text": [
            "Juan Ríos\n"
          ]
        }
      ]
    },
    {
      "cell_type": "code",
      "source": [
        "for n in nombre:\n",
        "  print(n)"
      ],
      "metadata": {
        "colab": {
          "base_uri": "https://localhost:8080/"
        },
        "id": "rVXNo5qPkD4N",
        "outputId": "2738e18f-d425-4f89-f8a6-2d35a493a3b5"
      },
      "execution_count": null,
      "outputs": [
        {
          "output_type": "stream",
          "name": "stdout",
          "text": [
            "J\n",
            "u\n",
            "a\n",
            "n\n"
          ]
        }
      ]
    },
    {
      "cell_type": "code",
      "source": [
        "fecha = [17, 'febrero', 2003]\n",
        "dia, mes, año = fecha\n",
        "print(dia, mes, año)"
      ],
      "metadata": {
        "colab": {
          "base_uri": "https://localhost:8080/"
        },
        "id": "XeqMnCzglR7n",
        "outputId": "1c2441d0-3c38-4c23-c575-3d8ae548fcac"
      },
      "execution_count": 3,
      "outputs": [
        {
          "output_type": "stream",
          "name": "stdout",
          "text": [
            "17 febrero 2003\n"
          ]
        }
      ]
    },
    {
      "cell_type": "code",
      "source": [
        "import datetime\n",
        "año_actual = datetime.datetime.now().year\n",
        "print(año_actual)"
      ],
      "metadata": {
        "colab": {
          "base_uri": "https://localhost:8080/"
        },
        "id": "ALXCpBo5kKB-",
        "outputId": "bc6f3486-251a-4641-a453-17e93bbe73e3"
      },
      "execution_count": null,
      "outputs": [
        {
          "output_type": "stream",
          "name": "stdout",
          "text": [
            "2025\n"
          ]
        }
      ]
    },
    {
      "cell_type": "markdown",
      "source": [
        "# Manipulando los datos\n",
        "\n",
        "Vamos a aprender sobre las variables en Python, cómo declararlas y utilizarlas además de conocer otros comandos de este lenguaje. :D"
      ],
      "metadata": {
        "id": "iP8uWQmFYFRs"
      }
    },
    {
      "cell_type": "markdown",
      "source": [
        "## Variables\n",
        "\n",
        "En Data Science trabajamos con varios tipos de datos e informaciones, entonces es esencial saber cómo trabajar con las variables."
      ],
      "metadata": {
        "id": "sLNVmnTbag1Z"
      }
    },
    {
      "cell_type": "markdown",
      "source": [
        "Las variables en Python se crean cuando atribuimos un valor a ella.\n",
        "\n",
        "Para esto, colocamos el nombre de la variable, el signo de igual (`=`) y el valor que queremos atribuirle."
      ],
      "metadata": {
        "id": "lsCY0wahAbf6"
      }
    },
    {
      "cell_type": "code",
      "source": [
        "var = 1\n",
        "print(id(var))"
      ],
      "metadata": {
        "id": "vsHh5buZADND",
        "colab": {
          "base_uri": "https://localhost:8080/"
        },
        "outputId": "63844585-33fb-4dad-b507-001dbc04e486"
      },
      "execution_count": null,
      "outputs": [
        {
          "output_type": "stream",
          "name": "stdout",
          "text": [
            "10750856\n"
          ]
        }
      ]
    },
    {
      "cell_type": "code",
      "source": [
        "print(id(1))"
      ],
      "metadata": {
        "id": "sivPtqSjADQV",
        "colab": {
          "base_uri": "https://localhost:8080/"
        },
        "outputId": "f5f6e23c-bf53-41ae-b613-098f26044bfa"
      },
      "execution_count": null,
      "outputs": [
        {
          "output_type": "stream",
          "name": "stdout",
          "text": [
            "10750856\n"
          ]
        }
      ]
    },
    {
      "cell_type": "markdown",
      "source": [
        "Existen algunos tipos de nomes que **no** podemos definir para las variables:\n",
        "\n",
        "- **Nombres que comiencen con números**\n",
        "  - Ejemplos: `10_notas`, `2_nombre_casa`, etc.\n",
        "- **Palabras separadas por espacio**\n",
        "  - Ejemplos: `Nombre escuela`, `notas estudiantes`, etc.\n",
        "- **Nombres de funciones de Python**\n",
        "  - Ejemplos: `print`, `type`, etc."
      ],
      "metadata": {
        "id": "om2N0jHKAzwL"
      }
    },
    {
      "cell_type": "markdown",
      "source": [
        "> Las letras mayúsculas y minúsculas generarán diferentes variables. La variable `edad` es diferente de `Edad` que a su vez es diferente de `EDAD`:\n",
        "``` Python\n",
        "edad = 1\n",
        "Edad = 2\n",
        "EDAD = 3\n",
        "_edad = 4\n",
        "_edad_ = 5\n",
        "print(edad, Edad, EDAD, _edad, _edad_)\n",
        "1 2 3 4 5\n",
        "```"
      ],
      "metadata": {
        "id": "A19vY2GVMujB"
      }
    },
    {
      "cell_type": "markdown",
      "source": [
        "## Tipos de variables\n",
        "\n",
        "Cada variable contiene una clase específica con respecto al tipo de objeto al cual esta hace referencia. Estas clases serán diferentes de acuerdo con el tipo de dato que le sea atribuido a una variable.\n",
        "\n",
        "Para conocer la clase de cada elemento usamos la función [`type()`](https://docs.python.org/3/library/functions.html#type)"
      ],
      "metadata": {
        "id": "UqhzuBhBHsps"
      }
    },
    {
      "cell_type": "markdown",
      "source": [
        "En un conjunto de datos escolares podemos tener varios tipos de informaciones. Supongamos que tenemos acceso a la ficha de datos del alumno *Penélope Camacho*, cómo transformamos este nombre en variables de Python?\n",
        "\n",
        "#### Ficha:\n",
        "\n",
        "- Nombre: Penélope Camacho\n",
        "- Edad: 11 años\n",
        "- Promedio del semestre: 9,75\n",
        "- Situación de aprobación: Verdadera (aprobado)"
      ],
      "metadata": {
        "id": "O-FxDumfWu0C"
      }
    },
    {
      "cell_type": "code",
      "source": [
        "ficha_alumno = ['Penélope Camacho', 11, 9.75, True]\n",
        "nombre, edad, promedio, aprobado = ficha_alumno\n",
        "print(f'{nombre}: {type(nombre)}', f'{edad}: {type(edad)}', f'{promedio}: {type(promedio)}', f'{aprobado}: {type(aprobado)}', sep='\\n')"
      ],
      "metadata": {
        "id": "FabQ7jQf_8Xt",
        "colab": {
          "base_uri": "https://localhost:8080/"
        },
        "outputId": "24af53a0-b11b-42e8-deb7-44bab9c6a96a"
      },
      "execution_count": 5,
      "outputs": [
        {
          "output_type": "stream",
          "name": "stdout",
          "text": [
            "Penélope Camacho: <class 'str'>\n",
            "11: <class 'int'>\n",
            "9.75: <class 'float'>\n",
            "True: <class 'bool'>\n"
          ]
        }
      ]
    },
    {
      "cell_type": "markdown",
      "source": [
        "## Variables numéricas\n",
        "\n",
        "Entre los tipos de datos numéricos vamos a enfocarnos en los tipos `entero` y `float`."
      ],
      "metadata": {
        "id": "KFq_8Sxf-OG0"
      }
    },
    {
      "cell_type": "markdown",
      "source": [
        "Tenemos una tabla de información sobre los diversos cargos, cantidad de personas empleadas y el salario correspondiente:\n",
        "\n",
        "|Cargo | Cantidad | Salario|\n",
        "|---|---|---|\n",
        "|Vigilante | 5 | 300 |\n",
        "|Docente | 16| 500|\n",
        "|Coordinador| 2 |600|\n",
        "\n",
        "Necesitamos trabajar con estos datos para obtener:\n",
        "\n",
        "- La cantidad total de empleados;\n",
        "- La diferencia entre el salario más bajo y más alto; y\n",
        "- El promedio ponderado de los salarios de los empleados de la escuela."
      ],
      "metadata": {
        "id": "8_HYUbkVYdQY"
      }
    },
    {
      "cell_type": "code",
      "source": [
        "datos = {\n",
        "    'Vigilante': {'cantidad': 5, 'salario': 300},\n",
        "    'Docente': {'cantidad': 16, 'salario': 500},\n",
        "    'Coordinador': {'cantidad': 2, 'salario': 600}\n",
        "}\n",
        "cantidad_total = sum(datos[cargo]['cantidad'] for cargo in datos)\n",
        "salario_max = max(datos[cargo]['salario'] for cargo in datos)\n",
        "salario_min = min(datos[cargo]['salario'] for cargo in datos)\n",
        "promedio = sum(datos[cargo]['salario'] * datos[cargo]['cantidad'] for cargo in datos) / cantidad_total\n",
        "print(f'Cantidad total de empleados: {cantidad_total}',\n",
        "      f'Diferencia entre el salario más bajo y más alto: {salario_max - salario_min}',\n",
        "      f'Promedio ponderado de los salarios de los empleados de la escuela: ${promedio:.2f}', sep='\\n')"
      ],
      "metadata": {
        "id": "F_X-wxdm_5Ys",
        "colab": {
          "base_uri": "https://localhost:8080/"
        },
        "outputId": "10ebd181-03a0-447a-da73-35b30740b8d8"
      },
      "execution_count": null,
      "outputs": [
        {
          "output_type": "stream",
          "name": "stdout",
          "text": [
            "Cantidad total de empleados: 23\n",
            "Diferencia entre el salario más bajo y más alto: 300\n",
            "Promedio ponderado de los salarios de los empleados de la escuela: $465.22\n"
          ]
        }
      ]
    },
    {
      "cell_type": "markdown",
      "source": [
        "## Strings"
      ],
      "metadata": {
        "id": "yQy7b0ZWoD-P"
      }
    },
    {
      "cell_type": "markdown",
      "source": [
        "Strings hace referencia a un conjunto de caracteres formando un texto.\n",
        "\n",
        "Podemos crear Strings cuando atribuimos un dato a una variable entre comillas sencillas (`'`) o comillas dobles (`\"`)."
      ],
      "metadata": {
        "id": "vlo2-DXusv3s"
      }
    },
    {
      "cell_type": "markdown",
      "source": [
        "Las variables textuales son objetos que poseen métodos que nos ayudan a formatear strings. Los métodos los podemos ejecutar al definir un objeto de acuerdo con la siguiente estructura:\n",
        "\n",
        "```\n",
        "objeto.metodo()\n",
        "```\n",
        "\n",
        "Existen métodos que no necesitan los `()`, siempre es una buena práctica verificar la documentación para cada caso."
      ],
      "metadata": {
        "id": "2e9UD_CCxqz_"
      }
    },
    {
      "cell_type": "markdown",
      "source": [
        "---\n",
        "**Situación:**\n",
        "\n",
        "Recibimos una variable con el nombre de una profesora de la escuela para añadirla a los registros. Sin embargo, necesitamos darle un tratamiento a este texto antes de insertarlo al sistema."
      ],
      "metadata": {
        "id": "p6aPmMGP4tf9"
      }
    },
    {
      "cell_type": "code",
      "source": [
        "texto = '  Micaela de los Sanyos '"
      ],
      "metadata": {
        "id": "icDWtYTjBO0n"
      },
      "execution_count": null,
      "outputs": []
    },
    {
      "cell_type": "markdown",
      "source": [
        "El objetivo final es que el nombre aparezca de la siguiente forma:\n",
        "\n",
        "```\n",
        "'MICAELA DE LOS SANTOS'\n",
        "```"
      ],
      "metadata": {
        "id": "Dg2ZXSZOGzjC"
      }
    },
    {
      "cell_type": "markdown",
      "source": [
        "### [`str.upper()` ](https://docs.python.org/3/library/stdtypes.html#str.upper)\n",
        "Convierte una string a mayúsculas."
      ],
      "metadata": {
        "id": "iVTAD8q702eN"
      }
    },
    {
      "cell_type": "code",
      "source": [
        "texto.upper()"
      ],
      "metadata": {
        "id": "wMVshJrY_ZXh",
        "colab": {
          "base_uri": "https://localhost:8080/",
          "height": 35
        },
        "outputId": "325fb693-0bbc-4320-8190-d25468839537"
      },
      "execution_count": null,
      "outputs": [
        {
          "output_type": "execute_result",
          "data": {
            "text/plain": [
              "'  MICAELA DE LOS SANYOS '"
            ],
            "application/vnd.google.colaboratory.intrinsic+json": {
              "type": "string"
            }
          },
          "metadata": {},
          "execution_count": 2
        }
      ]
    },
    {
      "cell_type": "markdown",
      "source": [
        "### [`str.lower()`](https://docs.python.org/3/library/stdtypes.html#str.lower)\n",
        "Convierte una string a minúsculas."
      ],
      "metadata": {
        "id": "hbDSBtMV1TpG"
      }
    },
    {
      "cell_type": "code",
      "source": [
        "texto.lower()"
      ],
      "metadata": {
        "id": "px3yEeNH_YK4",
        "colab": {
          "base_uri": "https://localhost:8080/",
          "height": 35
        },
        "outputId": "896282ea-81fe-4cd1-cac6-e82607ca37b2"
      },
      "execution_count": null,
      "outputs": [
        {
          "output_type": "execute_result",
          "data": {
            "text/plain": [
              "'  micaela de los sanyos '"
            ],
            "application/vnd.google.colaboratory.intrinsic+json": {
              "type": "string"
            }
          },
          "metadata": {},
          "execution_count": 3
        }
      ]
    },
    {
      "cell_type": "markdown",
      "source": [
        "### [`str.strip()`](https://docs.python.org/3/library/stdtypes.html#str.strip)\n",
        "Elimina los espacios en blanco al inicio y al final de una string."
      ],
      "metadata": {
        "id": "kz47eWM11gii"
      }
    },
    {
      "cell_type": "code",
      "source": [
        "texto.strip()"
      ],
      "metadata": {
        "id": "76dLgNa4_XAe",
        "colab": {
          "base_uri": "https://localhost:8080/",
          "height": 35
        },
        "outputId": "55cc363c-37ba-4bb8-b4ea-0e7791577711"
      },
      "execution_count": null,
      "outputs": [
        {
          "output_type": "execute_result",
          "data": {
            "text/plain": [
              "'Micaela de los Sanyos'"
            ],
            "application/vnd.google.colaboratory.intrinsic+json": {
              "type": "string"
            }
          },
          "metadata": {},
          "execution_count": 4
        }
      ]
    },
    {
      "cell_type": "markdown",
      "source": [
        "### [`str.replace(antiguo, nuevo)`](https://docs.python.org/3/library/stdtypes.html#str.replace)\n",
        "\n",
        "Sustituye todas las ocurrencias del texto \"antiguo\" en la string por el  \"nuevo\"."
      ],
      "metadata": {
        "id": "m6notiyS1SCV"
      }
    },
    {
      "cell_type": "code",
      "source": [
        "texto.replace('y', 't')"
      ],
      "metadata": {
        "id": "PNXAixtE_V6R",
        "colab": {
          "base_uri": "https://localhost:8080/",
          "height": 35
        },
        "outputId": "3af55aa6-3db5-48cc-8f3c-818d129ba50e"
      },
      "execution_count": null,
      "outputs": [
        {
          "output_type": "execute_result",
          "data": {
            "text/plain": [
              "'  Micaela de los Santos '"
            ],
            "application/vnd.google.colaboratory.intrinsic+json": {
              "type": "string"
            }
          },
          "metadata": {},
          "execution_count": 5
        }
      ]
    },
    {
      "cell_type": "markdown",
      "source": [
        "### Observaciones\n",
        "\n",
        "1. Los métodos devuelven una **tranformación**, no son ejecutados directamente sobre la variable donde está almacenado el texto.\n",
        "\n",
        "2. Adicionalmente, podemos acumular la ejecución de los métodos."
      ],
      "metadata": {
        "id": "zukvEjhG2Rcn"
      }
    },
    {
      "cell_type": "code",
      "source": [
        "texto\n",
        "print(f'{texto}: {id(texto)}')"
      ],
      "metadata": {
        "id": "JjkBRklr_T5n",
        "colab": {
          "base_uri": "https://localhost:8080/"
        },
        "outputId": "9de57474-7b66-4fe3-9f04-a44a3233d51d"
      },
      "execution_count": null,
      "outputs": [
        {
          "output_type": "stream",
          "name": "stdout",
          "text": [
            "  Micaela de los Sanyos : 134459098774176\n"
          ]
        }
      ]
    },
    {
      "cell_type": "markdown",
      "source": [
        "Para que la transformación se pueda ejecutar debemos atribuir la salida de las transformaciones a las variables"
      ],
      "metadata": {
        "id": "1KbwfVut2h6I"
      }
    },
    {
      "cell_type": "code",
      "source": [
        "nuevo_texto = texto.strip().replace('y', 't').upper()\n",
        "print(f'{nuevo_texto}: {id(nuevo_texto)}')"
      ],
      "metadata": {
        "id": "ocPP-Jaj_SJI",
        "colab": {
          "base_uri": "https://localhost:8080/"
        },
        "outputId": "d905ff97-71f5-41bd-8bd6-dd5ea0d5a169"
      },
      "execution_count": null,
      "outputs": [
        {
          "output_type": "stream",
          "name": "stdout",
          "text": [
            "MICAELA DE LOS SANTOS: 134458674964928\n"
          ]
        }
      ]
    },
    {
      "cell_type": "markdown",
      "source": [
        "## Capturando datos\n",
        "\n",
        "En algunas aplicaciones necesitamos capturar los valores del usuario de nuestro proyecto. En python, logramos capturar los datos del usuario a través del comando [`input()`](https://docs.python.org/3/library/functions.html#input).\n",
        "\n",
        "Para ejecutar la captura debemos atribuir el resultado de esta función a una variable."
      ],
      "metadata": {
        "id": "0h9Fh5G9kHCa"
      }
    },
    {
      "cell_type": "markdown",
      "source": [
        "La salida de este comando siempre será una *string*. Esto quiere decir que aunque capturemos un valor de variable numérica, este será de tipo string.\n",
        "\n",
        "Entonces, será necesario **convertir el resultado cuando no se desea utilizar el valor como tipo string**."
      ],
      "metadata": {
        "id": "7z7hcLCk_aCY"
      }
    },
    {
      "cell_type": "markdown",
      "source": [
        "Existen funciones para la conversión de valores:\n",
        "\n",
        "- Enteros: [`int(dato_para_conversion)`](https://docs.python.org/3/library/functions.html#int)\n",
        "- Coma flotante: [`float(dato_para_conversion)`](https://docs.python.org/3/library/functions.html#float)\n",
        "- String: [`str(dato_para_conversion)`](https://docs.python.org/3/library/functions.html#func-str)\n",
        "- Booleano: [`bool(dato_para_conversion)`](https://docs.python.org/3/library/functions.html#bool)"
      ],
      "metadata": {
        "id": "TOlegATj1Jfp"
      }
    },
    {
      "cell_type": "code",
      "source": [
        "año_admision = int(input('Año de admisión: '))"
      ],
      "metadata": {
        "id": "M2ueeH6l_NMe",
        "colab": {
          "base_uri": "https://localhost:8080/"
        },
        "outputId": "379ef40a-abdf-425e-b313-1e34851c2710"
      },
      "execution_count": null,
      "outputs": [
        {
          "name": "stdout",
          "output_type": "stream",
          "text": [
            "Año de admisión: 2025\n"
          ]
        }
      ]
    },
    {
      "cell_type": "code",
      "source": [
        "nota_admision = float(input('Nota de admisión: '))"
      ],
      "metadata": {
        "id": "xfWwuViK_NUn",
        "colab": {
          "base_uri": "https://localhost:8080/"
        },
        "outputId": "8642251b-5537-4288-993b-945e87a7973a"
      },
      "execution_count": null,
      "outputs": [
        {
          "name": "stdout",
          "output_type": "stream",
          "text": [
            "Nota de admisión: 5.0\n"
          ]
        }
      ]
    },
    {
      "cell_type": "code",
      "source": [
        "nombre = input('Nombre: ')\n",
        "# nombre = str(input('Nombre: ')) # Redundante"
      ],
      "metadata": {
        "id": "uFCHDyew_NZm",
        "colab": {
          "base_uri": "https://localhost:8080/"
        },
        "outputId": "784db494-128c-4d2f-b931-413e0460bb87"
      },
      "execution_count": null,
      "outputs": [
        {
          "name": "stdout",
          "output_type": "stream",
          "text": [
            "Nombre: Juan\n",
            "Nombre: Juan\n"
          ]
        }
      ]
    },
    {
      "cell_type": "code",
      "source": [
        "aprobo = bool(input('¿Aprobo el examen de admisión? '))"
      ],
      "metadata": {
        "colab": {
          "base_uri": "https://localhost:8080/"
        },
        "id": "y-xjDQPw3J2M",
        "outputId": "01f6839b-dbf1-4c27-cb3c-7185cbf9cb05"
      },
      "execution_count": null,
      "outputs": [
        {
          "name": "stdout",
          "output_type": "stream",
          "text": [
            "¿Aprobo el examen de admisión? 1\n"
          ]
        }
      ]
    },
    {
      "cell_type": "markdown",
      "source": [
        "Trataremos de representar mejor ahora el resultado de la transformación que obtuvimos. Nosotros podemos formatear y presentar nuestro resultado mezclando strings con valores no textuales.\n",
        "\n",
        "Para ello utilizamos la estructura de formatación `f` con strings."
      ],
      "metadata": {
        "id": "yNI2-XTbB3aS"
      }
    },
    {
      "cell_type": "code",
      "source": [
        "print(f'Nombre: {nombre}', f'Año de admisión: {año_admision}', f'Nota de admisión: {nota_admision}', f'¿Aprobó?: {aprobo}', sep='\\n')"
      ],
      "metadata": {
        "id": "keJjA5N9_K5i",
        "colab": {
          "base_uri": "https://localhost:8080/"
        },
        "outputId": "b7ebd798-0e54-4110-dea3-aad23995b9e4"
      },
      "execution_count": null,
      "outputs": [
        {
          "output_type": "stream",
          "name": "stdout",
          "text": [
            "Nombre: Juan\n",
            "Año de admisión: 2025\n",
            "Nota de admisión: 5.0\n",
            "¿Aprobó?: True\n"
          ]
        }
      ]
    },
    {
      "cell_type": "markdown",
      "source": [
        "### Recopilación y muestra de datos"
      ],
      "metadata": {
        "id": "oGCHgcV95HeN"
      }
    },
    {
      "cell_type": "code",
      "source": [
        "'''Programa que solicita al usuario que escriba su nombre, edad y altura en metros\n",
        "y luego imprime un mensaje con la información solicitada.'''\n",
        "\n",
        "nombre = input('Escriba su nombre: ')\n",
        "edad = int(input('Escriba su edad: '))\n",
        "altura = float(input('Escriba su altura en metros: '))\n",
        "print(f'Hola, {nombre}, tienes {edad} años y mides {altura} metros.')"
      ],
      "metadata": {
        "colab": {
          "base_uri": "https://localhost:8080/"
        },
        "id": "-F309UuL5MPK",
        "outputId": "7e08b864-f462-4429-c17e-0313681d6454"
      },
      "execution_count": null,
      "outputs": [
        {
          "output_type": "stream",
          "name": "stdout",
          "text": [
            "Escriba su nombre: Juan\n",
            "Escriba su edad: 22\n",
            "Escriba su altura en metros: 1.80\n",
            "Hola, Juan, tienes 22 años y mides 1.8 metros.\n"
          ]
        }
      ]
    },
    {
      "cell_type": "markdown",
      "source": [
        "### Calculadora con operadores"
      ],
      "metadata": {
        "id": "bQBwLzfF5h4m"
      }
    },
    {
      "cell_type": "code",
      "source": [
        "'''Programa que solicita al usuario tres números y luego imprime el resultado de las operaciones aritméticas'''\n",
        "\n",
        "numeros = []\n",
        "\n",
        "for i in range(3):\n",
        "    while True:\n",
        "        try:\n",
        "            numeros.append(int(input(f'Escriba el número {i + 1}: ')))\n",
        "            break\n",
        "        except ValueError:\n",
        "            print('Error: Debe escribir un número entero.')\n",
        "\n",
        "print(f'La suma de los números es: {numeros[0] + numeros[1]}', f'La suma de los números es: {sum(numeros)}',\n",
        "      f'La resta de los números es: {numeros[0] - numeros[1]}', f'La multiplicación de los números es: {numeros[0] * numeros[1]}', sep='\\n')\n",
        "if numeros[1] != 0:\n",
        "    print(f'La división de los números es: {numeros[0] / numeros[1]}', f'La división entera de los números es: {numeros[0] // numeros[1]}',\n",
        "          f'El resto de la división de los números es: {numeros[0] % numeros[1]}', sep='\\n')\n",
        "else:\n",
        "    print('Error: No se puede dividir por cero.')\n",
        "print(f'La exponenciación de los números es: {numeros[0] ** numeros[1]}')"
      ],
      "metadata": {
        "colab": {
          "base_uri": "https://localhost:8080/"
        },
        "id": "LN3dj_bq5jXq",
        "outputId": "487aaba5-db6c-4155-8504-2eee419bd510"
      },
      "execution_count": 43,
      "outputs": [
        {
          "output_type": "stream",
          "name": "stdout",
          "text": [
            "Escriba el número 1: 1\n",
            "Escriba el número 2: 2\n",
            "Escriba el número 3: 3\n",
            "La suma de los números es: 3\n",
            "La suma de los números es: 6\n",
            "La resta de los números es: -1\n",
            "La multiplicación de los números es: 2\n",
            "La división de los números es: 0.5\n",
            "La división entera de los números es: 0\n",
            "El resto de la división de los números es: 1\n",
            "La exponenciación de los números es: 1\n"
          ]
        }
      ]
    },
    {
      "cell_type": "code",
      "source": [
        "'''Programa que solicita las 3 notas de un estudiante e imprime el promedio de las notas.'''\n",
        "\n",
        "notas = []\n",
        "\n",
        "for i in range(3):\n",
        "  while True:\n",
        "    try:\n",
        "      nota = float(input(f'Escriba la nota {i + 1}: '))\n",
        "      if not 0 <= nota <= 5:\n",
        "        print('Error: La nota debe estar entre 0 y 5.')\n",
        "        continue\n",
        "      notas.append(nota)\n",
        "      break\n",
        "    except ValueError:\n",
        "      print('Error: Debe escribir un número.')\n",
        "\n",
        "print(f'El promedio de las notas es: {sum(notas) / 3}')"
      ],
      "metadata": {
        "colab": {
          "base_uri": "https://localhost:8080/"
        },
        "id": "e_B1_YkVUp-5",
        "outputId": "387337e4-ec34-4872-c214-b513e4764d6c"
      },
      "execution_count": 50,
      "outputs": [
        {
          "output_type": "stream",
          "name": "stdout",
          "text": [
            "Escriba la nota 1: -1\n",
            "Error: La nota debe estar entre 0 y 5.\n",
            "Escriba la nota 1: 6\n",
            "Error: La nota debe estar entre 0 y 5.\n",
            "Escriba la nota 1: a\n",
            "Error: Debe escribir un número.\n",
            "Escriba la nota 1: 3.0\n",
            "Escriba la nota 2: [1, 2, 3]\n",
            "Error: Debe escribir un número.\n",
            "Escriba la nota 2: 4.0\n",
            "Escriba la nota 3: 5.0\n",
            "El promedio de las notas es: 4.0\n"
          ]
        }
      ]
    },
    {
      "cell_type": "code",
      "source": [
        "'''Crea un código que calcule e imprima el promedio ponderado de los números\n",
        "5, 12, 20 y 15  con pesos respectivamente iguales a 1, 2, 3 y 4.'''\n",
        "\n",
        "promedio = (5 * 1 + 12 * 2 + 20 * 3 + 15 * 4) / (1 + 2 + 3 + 4)\n",
        "print(f'El promedio ponderado de los números es: {promedio}')"
      ],
      "metadata": {
        "colab": {
          "base_uri": "https://localhost:8080/"
        },
        "id": "ZDuOJ4awUvDI",
        "outputId": "9e368f1f-0daf-4b13-fc17-33759cc7b633"
      },
      "execution_count": null,
      "outputs": [
        {
          "output_type": "stream",
          "name": "stdout",
          "text": [
            "El promedio ponderado de los números es: 14.9\n"
          ]
        }
      ]
    },
    {
      "cell_type": "markdown",
      "source": [
        "### Editando textos"
      ],
      "metadata": {
        "id": "ibxlZph5Xr-Q"
      }
    },
    {
      "cell_type": "code",
      "source": [
        "frase = 'Soy una frase' # Cadena de texto de tu elección\n",
        "print(frase) # Imprime la frase en pantalla\n",
        "frase2 = input('Escriba una frase: ') # Solicita una frase al usuario\n",
        "print(frase2) # Imprime la frase en pantalla\n",
        "print(frase2.upper()) # Imprime la misma frase ingresada pero en mayúsculas\n",
        "print(frase2.lower()) # Imprime la misma frase ingresada pero en minúsculas\n",
        "print(frase2.strip()) # Imprime la misma frase sin espacios en blanco al principio y al final\n",
        "print(frase2.strip().lower()) # Imprime la misma frase en minúsculas sin espacios en blanco al principio y al final\n",
        "print(frase2.replace('e', 'f')) # Imprime la misma frase con todas las vocales \"e\" reemplazadas por la letra \"f\"\n",
        "print(frase2.replace('a', '@')) # Imprime la misma frase con todas las vocales \"a\" reemplazadas por el carácter \"@\"\n",
        "print(frase2.replace('s', '$')) # Imprime la misma frase con todas las consonantes \"s\" reemplazadas por el carácter \"$\"."
      ],
      "metadata": {
        "colab": {
          "base_uri": "https://localhost:8080/"
        },
        "id": "uuWk_Tq-XtTa",
        "outputId": "53fed5b5-10ba-45b6-8dd7-02ecc9acf6f8"
      },
      "execution_count": null,
      "outputs": [
        {
          "output_type": "stream",
          "name": "stdout",
          "text": [
            "Soy una frase\n",
            "Escriba una frase: ¡Hola, mundo!\n",
            "¡Hola, mundo!\n",
            "¡HOLA, MUNDO!\n",
            "¡hola, mundo!\n",
            "¡Hola, mundo!\n",
            "¡hola, mundo!\n",
            "¡Hola, mundo!\n",
            "¡Hol@, mundo!\n",
            "¡Hola, mundo!\n"
          ]
        }
      ]
    },
    {
      "cell_type": "markdown",
      "source": [
        "# Estructuras condicionales"
      ],
      "metadata": {
        "id": "NwRaiHHHhhyl"
      }
    },
    {
      "cell_type": "code",
      "source": [
        "# Nota de aprobación entre 7 y 10\n",
        "# Nota de reprobación menor a 7\n",
        "\n",
        "'''\n",
        "Si la nota es mayor o igual a 7 entonces el estudiante aprueba\n",
        "Si no, entonces el estudiante reprueba\n",
        "'''"
      ],
      "metadata": {
        "id": "pa4gLncu-mvU"
      },
      "execution_count": null,
      "outputs": []
    },
    {
      "cell_type": "markdown",
      "source": [
        "## `IF` y `ELSE`\n",
        "\n",
        "Los comandos `if` y `else` son dos estructuras condicionales. El comando `if` ejecutará el bloque de comandos en caso de que la condición citada sea  **verdadera**. El comando `else` ejecutará el bloque de comandos en el caso de que la condicional de `if` sea **falsa**."
      ],
      "metadata": {
        "id": "qXZqg9aYEhAh"
      }
    },
    {
      "cell_type": "markdown",
      "source": [
        "El comando `if` es una palabra clave en Python que significa \"si\". Este se emplea para conformar la estructura condicional, que te permite verificar si una determinada condición es verdadera o falsa e, inmediatamente después, ejecute un bloque de código específico dependiendo del resultado de la verificación. La sintaxis para usar el comando `if` es:\n",
        "\n",
        "\n",
        "\n",
        "```\n",
        "if condicion:\n",
        "    # Realiza algo\n",
        "```\n",
        "\n"
      ],
      "metadata": {
        "id": "EIhlqHXd2Gil"
      }
    },
    {
      "cell_type": "code",
      "source": [
        "if 2 > 1:\n",
        "  print('2 es mayor a 1')"
      ],
      "metadata": {
        "id": "S2S6XAFz-czM",
        "colab": {
          "base_uri": "https://localhost:8080/"
        },
        "outputId": "68583425-4c93-467b-8d75-a153522d2e2f"
      },
      "execution_count": null,
      "outputs": [
        {
          "output_type": "stream",
          "name": "stdout",
          "text": [
            "2 es mayor a 1\n"
          ]
        }
      ]
    },
    {
      "cell_type": "markdown",
      "source": [
        "Ya el comando `else` en Python se usa en junción con la palabra clave `if` para formar una estructura condicional. la sintaxis para usar el `else` es:\n",
        "\n",
        "```\n",
        "if condicion:\n",
        "  # codigo en caso de que sea verdad\n",
        "else:\n",
        "  # codigo en caso de que sea falso\n",
        "```\n",
        "\n",
        "el comando `else` se ejecuta cuando la condición verificada por el `if` es evaluada como `False`."
      ],
      "metadata": {
        "id": "27RW2v_sIKct"
      }
    },
    {
      "cell_type": "code",
      "source": [
        "if 2 > 3:\n",
        "  print('2 es mayor a 3')\n",
        "else:\n",
        "  print('2 no es mayor a 3')"
      ],
      "metadata": {
        "id": "ZTfNJd_f-aOq",
        "colab": {
          "base_uri": "https://localhost:8080/"
        },
        "outputId": "be635616-0749-41d5-b9ca-e65900f47e8d"
      },
      "execution_count": null,
      "outputs": [
        {
          "output_type": "stream",
          "name": "stdout",
          "text": [
            "2 no es mayor a 3\n"
          ]
        }
      ]
    },
    {
      "cell_type": "markdown",
      "source": [
        "---\n",
        "**Situación:**\n",
        "\n",
        "Recibiremos el promedio de la nota de los estudiantes y necesitamos de un algoritmo que ejecute el análisis y determine si el estudiante fue **Aprobado** o **Reprobado**, mostrando un mensaje del resultado. Para ser aprobado, el promedio necesita ser igual o superior a 7.0."
      ],
      "metadata": {
        "id": "BqORg85XX-Nl"
      }
    },
    {
      "cell_type": "code",
      "source": [
        "nota = float(input('Escriba el promedio de la nota: '))\n",
        "if nota >= 7.0:\n",
        "  print('Aprobado')\n",
        "else:\n",
        "  print('Reprobado')"
      ],
      "metadata": {
        "id": "UukCN4AQ-YYW",
        "colab": {
          "base_uri": "https://localhost:8080/"
        },
        "outputId": "5f13df7d-b0ab-444b-fd16-60d9c8fc200e"
      },
      "execution_count": null,
      "outputs": [
        {
          "output_type": "stream",
          "name": "stdout",
          "text": [
            "Escriba el promedio de la nota: 7.1\n",
            "Aprobado\n"
          ]
        }
      ]
    },
    {
      "cell_type": "markdown",
      "source": [
        "Ahora, nuestra institución educativa estableció que las personas que tengan el promedio entre 5.0 y 7.0 pueden participar del curso de **Recuperación** durante las vacaciones para lograr aprobar.\n",
        "\n",
        "Entonces podemos apoyarnos en un conjunto de `if`s para poder estructurar esta nueva condición."
      ],
      "metadata": {
        "id": "bD9O17HB6LUo"
      }
    },
    {
      "cell_type": "markdown",
      "source": [
        "Observa que en casos con 3 situaciones como este necesitamos definir bien nuestras condiciones. Pues, si realizamos una condición con `else` al final, este irá a considerar solamente la condición `if` inmediatamente anterior para generar la salida en caso de que el resultado de su operación lógica sea **falso** dando como resultado, dos o más ejecuciones.\n",
        "\n",
        "Por ejemplo:"
      ],
      "metadata": {
        "id": "D5e2mByjvycO"
      }
    },
    {
      "cell_type": "code",
      "source": [
        "nota = float(input('Escriba el promedio de la nota: '))\n",
        "if nota >= 7.0:\n",
        "  print('Aprobado')\n",
        "if 7 > nota >= 5.0:\n",
        "  print('Recuperación')\n",
        "else:\n",
        "  print('Reprobado')"
      ],
      "metadata": {
        "id": "C21JmOuK-VU8",
        "colab": {
          "base_uri": "https://localhost:8080/"
        },
        "outputId": "b8129b0a-943a-4a33-93d5-9dfe571f87d4"
      },
      "execution_count": null,
      "outputs": [
        {
          "output_type": "stream",
          "name": "stdout",
          "text": [
            "Escriba el promedio de la nota: 8\n",
            "Aprobado\n",
            "Reprobado\n"
          ]
        }
      ]
    },
    {
      "cell_type": "markdown",
      "source": [
        "## `ELIF`\n",
        "\n",
        "El comando `elif` es una palabra clave en Python que significa \"si no, si\" y lo podemos considerar una *contracción* entre `else` e `if`. Se utiliza en conjunto con la palabra clave `if` para formar una estructura condicional en cadena."
      ],
      "metadata": {
        "id": "04T5g-7h4zWx"
      }
    },
    {
      "cell_type": "markdown",
      "source": [
        "la sintaxis para utilizar el comando `elif` es:\n",
        "\n",
        "```\n",
        "if condicion1:\n",
        "    # Realiza algo\n",
        "elif condicion2:\n",
        "    # Realiza otra cosa\n",
        "elif condicion3:\n",
        "    # Realiza otra cosa\n",
        "else:\n",
        "    # Realiza algo diferente\n",
        "```\n",
        "\n",
        "El comando `elif` permite que puedas verificar varias condiciones en cadena, economizando espacio en tu código. Si la primera condición se evalúa como `False`, el interpretador de Python evaluará la próxima condición con el `elif`. Ello continuará hasta que una condición sea evaluada como `True` o hasta que el `else` sea alcazado. Si ninguna de las condiciones es evaluada como `True`, la ejecución del código del comando `else` será iniciada."
      ],
      "metadata": {
        "id": "rNBHr5mm1Lm6"
      }
    },
    {
      "cell_type": "markdown",
      "source": [
        "Vamos a emplear el mismo caso anterior:"
      ],
      "metadata": {
        "id": "MVoykFbB4bd4"
      }
    },
    {
      "cell_type": "code",
      "source": [
        "nota = float(input('Escriba el promedio de la nota: '))\n",
        "if nota >= 7.0:\n",
        "  print('Aprobado')\n",
        "elif 7 > nota >= 5.0:\n",
        "  print('Recuperación')\n",
        "else:\n",
        "  print('Reprobado')"
      ],
      "metadata": {
        "id": "QFamB78s-TW_",
        "colab": {
          "base_uri": "https://localhost:8080/"
        },
        "outputId": "a9e05eca-6a1f-41f8-9b6b-fd0fdb78e5f3"
      },
      "execution_count": null,
      "outputs": [
        {
          "output_type": "stream",
          "name": "stdout",
          "text": [
            "Escriba el promedio de la nota: 8\n",
            "Aprobado\n"
          ]
        }
      ]
    },
    {
      "cell_type": "markdown",
      "source": [
        "## Operadores\n",
        "\n",
        "Durante la construcción de comandos a veces necesitamos de una elaboración mayor de la expresión condicional, necesitando que algunos operadores lógicos se encuentren integrados."
      ],
      "metadata": {
        "id": "Tf1wSOem6iwZ"
      }
    },
    {
      "cell_type": "markdown",
      "source": [
        "### `AND`, `OR`, `NOT`\n",
        "\n",
        "Los operadores lógicos `and`, `or` y `not` son usados para combinar expresiones lógicas en Python. Ellos son usados frecuentemente en conjunto con el comando `if` para crear estructuras condicionales más complejas.\n"
      ],
      "metadata": {
        "id": "GFIZnRWXGPWO"
      }
    },
    {
      "cell_type": "markdown",
      "source": [
        "- `AND` es usado para verificar si dos condiciones son verdaderas. La expresión lógica¹ `x and y` se evalúa como `True` tan solo si **ambas condiciones `x` y `y` son verdaderas**, y como `False` en caso contrario.\n",
        "\n",
        "- `OR` es usado para verificar si al menos una de las condiciones es verdadera. La expresión lógica `x or y` se evalúa como `True` **si al menos una de las condiciones `x` o `y` es verdadera**, y como `False` si ambas condiciones son falsas.\n",
        "\n",
        "- `NOT` es usado para **negar una condición**. La expresión lógica `not x` es evaluada como `True` si la condición x es falsa, y como `False` si la condición x es verdadera.\n",
        "\n",
        "¹ Una expresión lógica es una declaración que puede ser evaluada como verdadera o falsa. Ella se compone por operandos lógicos² y por operadores lógicos³, que son usados ​​para combinar varias expresiones lógicas en una única expresión.\n",
        "\n",
        "² Los operandos lógicos son los elementos que son comparados o evaluados en una expresión lógica. Ellos son generalmente valores verdaderos o falsos, pero también pueden ser expresiones lógicas más complejas. En Python, los operandos lógicos son los valores `True` y `False`.\n",
        "\n",
        "³ Los operadores lógicos son ls símbolos o palabras clave que son usados ​​para combinar varias expresiones lógicas en una única expresión. En Python, los operadores lógicos son `and`, `or` y `not`, bien como las palabras clave `if`, `elif` e `else`."
      ],
      "metadata": {
        "id": "Z_dgAoHXJbzB"
      }
    },
    {
      "cell_type": "markdown",
      "source": [
        "> Operadores lógicos más comunes\n",
        "\n",
        "|a|b|AND|OR|NOT|\n",
        "|-|-|-|-|-|\n",
        "|0|0|0|0|1\n",
        "|0|1|0|1|-\n",
        "|1|0|0|1|-\n",
        "|1|1|1|1|0\n"
      ],
      "metadata": {
        "id": "2E5aUogf-49u"
      }
    },
    {
      "cell_type": "code",
      "source": [
        "v = True\n",
        "f = False"
      ],
      "metadata": {
        "id": "DFKmpvmS-Pa6"
      },
      "execution_count": null,
      "outputs": []
    },
    {
      "cell_type": "code",
      "source": [
        "if v and v:\n",
        "  print('Verdadero')\n",
        "else:\n",
        "  print('Falso')"
      ],
      "metadata": {
        "id": "W5BIrpOD-PeI",
        "colab": {
          "base_uri": "https://localhost:8080/"
        },
        "outputId": "6d83b51c-6df7-4112-bfa0-cb44a74a77d4"
      },
      "execution_count": null,
      "outputs": [
        {
          "output_type": "stream",
          "name": "stdout",
          "text": [
            "Verdadero\n"
          ]
        }
      ]
    },
    {
      "cell_type": "code",
      "source": [
        "if v or f:\n",
        "  print('Verdadero')\n",
        "else:\n",
        "  print('Falso')"
      ],
      "metadata": {
        "id": "fpDhYxq4-PiM",
        "colab": {
          "base_uri": "https://localhost:8080/"
        },
        "outputId": "9bf52a82-de29-46ff-a03b-f818470bdbc2"
      },
      "execution_count": null,
      "outputs": [
        {
          "output_type": "stream",
          "name": "stdout",
          "text": [
            "Verdadero\n"
          ]
        }
      ]
    },
    {
      "cell_type": "code",
      "source": [
        "if not v:\n",
        "  print('Verdadero')\n",
        "else:\n",
        "  print('Falso')"
      ],
      "metadata": {
        "colab": {
          "base_uri": "https://localhost:8080/"
        },
        "id": "UqwMO06HdpHt",
        "outputId": "6236d3de-8a66-4a44-f338-469917576f3c"
      },
      "execution_count": null,
      "outputs": [
        {
          "output_type": "stream",
          "name": "stdout",
          "text": [
            "Falso\n"
          ]
        }
      ]
    },
    {
      "cell_type": "markdown",
      "source": [
        "### `IN`\n",
        "\n",
        "Es usado para verificar si un elemento está presente en una lista, tupla u otra colección de conjunto. La expresión `x in y` se evalúa como `True` si el elemento `x` esta presente na variávelen la variable de conjunto `y`, y como `False` en caso contrario."
      ],
      "metadata": {
        "id": "w7EXG1dhWtja"
      }
    },
    {
      "cell_type": "markdown",
      "source": [
        "Podemos verificarlo con variables de texto.\n",
        "\n",
        "---\n",
        "\n",
        "**Situación:**\n",
        "\n",
        "En la escuela nos entregaron una lista con nombres de estudiantes que fueron aprobados según el promedio del semestre, pero es necesario verificar si algunos nombres están en esa lista para confirmar que los datos estén correctos.\n",
        "\n",
        "La lista distribuida puede ser observada a continuación:\n",
        "\n",
        "```\n",
        "lista = 'Juan Pérez, María González, Pedro Rodríguez, Ana López, Carlos Martínez,\n",
        "    Laura Sánchez, José García, Elena Fernández, Luis Morales, Carmen Torres,\n",
        "    David Ruiz, Isabel Ramírez, Javier Díaz, Sara Herrera, Miguel Castro,\n",
        "    Patricia Ortega, Francisco Vargas, Marta Jiménez, Manuel Medina, Rosa Molina,\n",
        "    Alejandro Silva, Silvia Ruiz, Andrés Torres, Natalia Soto, Diego Guerrero,\n",
        "    Paula Ríos, Ricardo Navarro, Alicia Cordero, Carlos Vidal, Lorena Gómez'\n",
        "```\n",
        "\n",
        "Los nombres que necesitas verificar son los siguientes:\n",
        "\n",
        "```\n",
        "nombre_1 = 'Miguel Castro'\n",
        "nombre_2 = 'Marcelo Noguera'\n",
        "```"
      ],
      "metadata": {
        "id": "enJNp6JenQbq"
      }
    },
    {
      "cell_type": "code",
      "source": [
        "lista = 'Juan Pérez, María González, Pedro Rodríguez, Ana López, Carlos Martínez, Laura Sánchez, José García, Elena Fernández, Luis Morales, Carmen Torres, David Ruiz, Isabel Ramírez, Javier Díaz, Sara Herrera, Miguel Castro, Patricia Ortega, Francisco Vargas, Marta Jiménez, Manuel Medina, Rosa Molina, Alejandro Silva, Silvia Ruiz, Andrés Torres, Natalia Soto, Diego Guerrero, Paula Ríos, Ricardo Navarro, Alicia Cordero, Carlos Vidal, Lorena Gómez'"
      ],
      "metadata": {
        "id": "gPPN9BCT-Mki"
      },
      "execution_count": null,
      "outputs": []
    },
    {
      "cell_type": "code",
      "source": [
        "nombre_1 = 'Miguel Castro'\n",
        "nombre_2 = 'Marcelo Noguera'"
      ],
      "metadata": {
        "id": "GINbG3Fa-Mnb"
      },
      "execution_count": null,
      "outputs": []
    },
    {
      "cell_type": "code",
      "source": [
        "if nombre_1 in lista:\n",
        "  print(f'{nombre_1} aprobó')\n",
        "else:\n",
        "  print(f'{nombre_1} reprobó')"
      ],
      "metadata": {
        "id": "hk-RhNRT-Mp7",
        "colab": {
          "base_uri": "https://localhost:8080/"
        },
        "outputId": "0ed0af67-9442-409c-c9a4-c557b69bc74a"
      },
      "execution_count": null,
      "outputs": [
        {
          "output_type": "stream",
          "name": "stdout",
          "text": [
            "Miguel Castro aprobó\n"
          ]
        }
      ]
    },
    {
      "cell_type": "code",
      "source": [
        "if nombre_2 in lista:\n",
        "  print(f'{nombre_2} aprobó')\n",
        "else:\n",
        "  print(f'{nombre_2} reprobó')"
      ],
      "metadata": {
        "colab": {
          "base_uri": "https://localhost:8080/"
        },
        "id": "VuYJCIEPeOZ9",
        "outputId": "4c23bed0-135f-45e3-c57e-1933ede494a9"
      },
      "execution_count": null,
      "outputs": [
        {
          "output_type": "stream",
          "name": "stdout",
          "text": [
            "Marcelo Noguera reprobó\n"
          ]
        }
      ]
    },
    {
      "cell_type": "markdown",
      "source": [
        "### Entrenando la programación"
      ],
      "metadata": {
        "id": "F6G-lV2VfB1s"
      }
    },
    {
      "cell_type": "code",
      "source": [
        "'''Programa que solicita al usuario que proporcione dos números y muestre el número más grande.'''\n",
        "\n",
        "while True:\n",
        "  try:\n",
        "    num1 = int(input('Proporciona un número: '))\n",
        "    num2 = int(input('Proporciona otro número: '))\n",
        "    break\n",
        "  except ValueError:\n",
        "    print('Error: Debe escribir un número.')\n",
        "\n",
        "if num1 > num2:\n",
        "  print(f'El número mayor entre {num1} y {num2} es {num1}')\n",
        "elif num1 < num2:\n",
        "  print(f'El número mayor entre {num1} y {num2} es {num2}')\n",
        "else:\n",
        "  print(f'Ambos números son iguales.')"
      ],
      "metadata": {
        "colab": {
          "base_uri": "https://localhost:8080/"
        },
        "id": "guewOn-LfFli",
        "outputId": "fd3fa10a-8707-46ca-8766-c361b8d4ad4c"
      },
      "execution_count": 58,
      "outputs": [
        {
          "output_type": "stream",
          "name": "stdout",
          "text": [
            "Proporciona un número: a\n",
            "Error: Debe escribir un número entero.\n",
            "Proporciona un número: 1\n",
            "Proporciona otro número: 2\n",
            "El número mayor entre 1 y 2 es 2\n"
          ]
        }
      ]
    },
    {
      "cell_type": "code",
      "source": [
        "'''Programa que solicita el porcentaje de crecimiento de producción de una empresa e informe\n",
        "si hubo un crecimiento (porcentaje positivo) o una disminución (porcentaje negativo).'''\n",
        "\n",
        "while True:\n",
        "  try:\n",
        "    variacion = float(input('Proporciona el porcentaje de crecimiento de producción: '))\n",
        "    break\n",
        "  except ValueError:\n",
        "    print('Error: Debe escribir un número.')\n",
        "\n",
        "if variacion > 0:\n",
        "  print(f'Hubo un crecimiento del {variacion}%')\n",
        "elif variacion < 0:\n",
        "  print(f'Hubo una disminución del {variacion}%')\n",
        "else:\n",
        "  print('El porcentaje se mantuvo igual')"
      ],
      "metadata": {
        "colab": {
          "base_uri": "https://localhost:8080/"
        },
        "id": "fnbmyVg9fOmH",
        "outputId": "4e3ebfa4-76de-436a-d1f1-c00264e518fe"
      },
      "execution_count": 59,
      "outputs": [
        {
          "output_type": "stream",
          "name": "stdout",
          "text": [
            "Proporciona el porcentaje de crecimiento de producción: -7\n",
            "Hubo una disminución del -7.0%\n"
          ]
        }
      ]
    },
    {
      "cell_type": "code",
      "source": [
        "'''Programa que determine si una letra proporcionada por la persona usuaria es una vocal o una consonante.'''\n",
        "\n",
        "while True:\n",
        "  letra = input('Proporciona una letra: ').lower()\n",
        "  if letra.isalpha() and len(letra) == 1:\n",
        "    break\n",
        "  else:\n",
        "    print('Error: Ingresa solo una letra.')\n",
        "\n",
        "vocales = 'aeiou'\n",
        "\n",
        "if letra in vocales:\n",
        "  print(f'{letra} es una vocal')\n",
        "else:\n",
        "  print(f'{letra} es una consonante')"
      ],
      "metadata": {
        "colab": {
          "base_uri": "https://localhost:8080/"
        },
        "id": "ZOH_WTDyfbZZ",
        "outputId": "7c4f69b6-b412-43ef-a60e-f03d724e78ff"
      },
      "execution_count": 75,
      "outputs": [
        {
          "output_type": "stream",
          "name": "stdout",
          "text": [
            "Proporciona una letra: ab\n",
            "Error: Ingresa solo una letra.\n",
            "Proporciona una letra: 1\n",
            "Error: Ingresa solo una letra.\n",
            "Proporciona una letra: ?\n",
            "Error: Ingresa solo una letra.\n",
            "Proporciona una letra: a\n",
            "a es una vocal\n"
          ]
        }
      ]
    },
    {
      "cell_type": "code",
      "source": [
        "'''Programa que lee valores promedio de precios de un modelo de automóvil durante\n",
        "3 años consecutivos y muestra el valor más alto y más bajo entre esos tres años.'''\n",
        "\n",
        "precios = []\n",
        "\n",
        "for i in range(3):\n",
        "  while True:\n",
        "    try:\n",
        "      precios.append(float(input(f'Proporciona el precio del automóvil en el {i + 1}° año: ')))\n",
        "      break\n",
        "    except ValueError:\n",
        "      print('Error: Debe escribir un número.')\n",
        "\n",
        "print(f'El precio más alto fue de ${max(precios)}.')\n",
        "print(f'El precio más bajo fue de ${min(precios)}.')"
      ],
      "metadata": {
        "colab": {
          "base_uri": "https://localhost:8080/"
        },
        "id": "e19sFx0RgDve",
        "outputId": "28b4d2e7-dbbb-4575-bfbd-21e902c0fe12"
      },
      "execution_count": 77,
      "outputs": [
        {
          "output_type": "stream",
          "name": "stdout",
          "text": [
            "Proporciona el precio del automóvil en el 1° año: Hola\n",
            "Error: Debe escribir un número.\n",
            "Proporciona el precio del automóvil en el 1° año: 130\n",
            "Proporciona el precio del automóvil en el 2° año: 150\n",
            "Proporciona el precio del automóvil en el 3° año: 120\n",
            "El precio más alto fue de $150.0.\n",
            "El precio más bajo fue de $120.0.\n"
          ]
        }
      ]
    },
    {
      "cell_type": "code",
      "source": [
        "'''Programa que pregunte sobre el precio de tres productos e indique cuál es el producto más barato para comprar.'''\n",
        "\n",
        "productos = []\n",
        "\n",
        "for i in range(3):\n",
        "  while True:\n",
        "    try:\n",
        "      productos.append(float(input(f'Proporciona el precio del {i + 1}° producto: ')))\n",
        "      break\n",
        "    except ValueError:\n",
        "      print('Error: Debe escribir un número.')\n",
        "\n",
        "print(f'El producto más caro es el {productos.index(max(productos)) + 1}°.')\n",
        "print(f'El producto más barato es el {productos.index(min(productos)) + 1}°.')"
      ],
      "metadata": {
        "colab": {
          "base_uri": "https://localhost:8080/"
        },
        "id": "manLcS-FhURO",
        "outputId": "0530d078-4a54-4b4f-8b58-3489cbf9e6dc"
      },
      "execution_count": 85,
      "outputs": [
        {
          "output_type": "stream",
          "name": "stdout",
          "text": [
            "Proporciona el precio del 1° producto: a\n",
            "Error: Debe escribir un número.\n",
            "Proporciona el precio del 1° producto: 150\n",
            "Proporciona el precio del 2° producto: 135\n",
            "Proporciona el precio del 3° producto: 175\n",
            "El producto más caro es el 3°.\n",
            "El producto más barato es el 2°.\n"
          ]
        }
      ]
    },
    {
      "cell_type": "code",
      "source": [
        "'''Programa que lea tres números y los muestre en orden descendente.'''\n",
        "\n",
        "numeros = []\n",
        "\n",
        "for i in range(3):\n",
        "  while True:\n",
        "    try:\n",
        "      numeros.append(float(input(f'Proporciona el número {i + 1}: ')))\n",
        "      break\n",
        "    except ValueError:\n",
        "      print('Error: Debe escribir un número.')\n",
        "\n",
        "numeros.sort(reverse=True)\n",
        "\n",
        "for numero in numeros:\n",
        "  print(numero)"
      ],
      "metadata": {
        "colab": {
          "base_uri": "https://localhost:8080/"
        },
        "id": "T-GLgh1NhvOQ",
        "outputId": "5dd33ae6-42f1-4940-97d5-64d0f652cc62"
      },
      "execution_count": 91,
      "outputs": [
        {
          "output_type": "stream",
          "name": "stdout",
          "text": [
            "Proporciona el número 1: a\n",
            "Error: Debe escribir un número.\n",
            "Proporciona el número 1: 8\n",
            "Proporciona el número 2: 2\n",
            "Proporciona el número 3: 5\n",
            "8.0\n",
            "5.0\n",
            "2.0\n"
          ]
        }
      ]
    },
    {
      "cell_type": "code",
      "source": [
        "'''Programa que pregunte en qué turno estudia la persona usuaria (\"mañana\", \"tarde\" o \"noche\") y muestre\n",
        "el mensaje \"¡Buenos Días!\", \"¡Buenas Tardes!\", \"¡Buenas Noches!\" o \"Valor Inválido!\", según el caso.'''\n",
        "\n",
        "while True:\n",
        "  turno = input('¿En qué turno estudias? (mañana, tarde o noche): ').lower()\n",
        "  if turno == 'mañana':\n",
        "    print('¡Buenos días!')\n",
        "    break\n",
        "  elif turno == 'tarde':\n",
        "    print('¡Buenas tardes!')\n",
        "    break\n",
        "  elif turno == 'noche':\n",
        "    print('¡Buenas noches!')\n",
        "    break\n",
        "  else:\n",
        "    print('Valor inválido')"
      ],
      "metadata": {
        "colab": {
          "base_uri": "https://localhost:8080/"
        },
        "id": "rjwiUen_iTwV",
        "outputId": "183a98f6-4305-4613-9727-b39d5288c3d6"
      },
      "execution_count": 94,
      "outputs": [
        {
          "output_type": "stream",
          "name": "stdout",
          "text": [
            "¿En qué turno estudias? (mañana, tarde o noche): hola\n",
            "Valor inválido\n",
            "¿En qué turno estudias? (mañana, tarde o noche): mañana\n",
            "¡Buenos días!\n"
          ]
        }
      ]
    },
    {
      "cell_type": "code",
      "source": [
        "'''Programa que solicita al usuario un número entero y determina si es par o impar.'''\n",
        "\n",
        "while True:\n",
        "  try:\n",
        "    num = int(input('Proporciona un número: '))\n",
        "    break\n",
        "  except ValueError:\n",
        "    print('Error: Debe escribir un número.')\n",
        "\n",
        "if num % 2 == 0:\n",
        "  print(f'{num} es par')\n",
        "else:\n",
        "  print(f'{num} es impar')"
      ],
      "metadata": {
        "colab": {
          "base_uri": "https://localhost:8080/"
        },
        "id": "nzNqF_l5iXne",
        "outputId": "c2371f52-adf5-428d-a4e6-f7bdab160715"
      },
      "execution_count": 95,
      "outputs": [
        {
          "output_type": "stream",
          "name": "stdout",
          "text": [
            "Proporciona un número: a\n",
            "Error: Debe escribir un número.\n",
            "Proporciona un número: 2\n",
            "2 es par\n"
          ]
        }
      ]
    },
    {
      "cell_type": "code",
      "source": [
        "'''Programa que solicita al usuario un número y le informe si es entero o decimal.'''\n",
        "\n",
        "while True:\n",
        "  try:\n",
        "    num = float(input('Proporciona un número: '))\n",
        "    break\n",
        "  except ValueError:\n",
        "    print('Error: Debe escribir un número.')\n",
        "\n",
        "if num % 1 == 0:\n",
        "  print(f'{num} es entero')1\n",
        "else:\n",
        "  print(f'{num} es decimal')"
      ],
      "metadata": {
        "colab": {
          "base_uri": "https://localhost:8080/"
        },
        "id": "ciqq_GmPieaH",
        "outputId": "6d64648b-b101-4e2c-8996-c342c7143189"
      },
      "execution_count": 97,
      "outputs": [
        {
          "output_type": "stream",
          "name": "stdout",
          "text": [
            "Proporciona un número: a\n",
            "Error: Debe escribir un número.\n",
            "Proporciona un número: 0.5\n",
            "0.5 es decimal\n"
          ]
        }
      ]
    },
    {
      "cell_type": "markdown",
      "source": [
        "### Momento de los proyectos"
      ],
      "metadata": {
        "id": "euvGo2D5i_09"
      }
    },
    {
      "cell_type": "code",
      "source": [
        "'''Programa que solicita al usuario dos números y la operación a realizar. El resultado de la operación\n",
        "debe incluir información sobre el número, si es par o impar, positivo o negativo y, entero o decimal.'''\n",
        "\n",
        "while True:\n",
        "  try:\n",
        "    num1 = float(input('Proporciona un número: '))\n",
        "    break\n",
        "  except ValueError:\n",
        "    print('Error: Debe escribir un número.')\n",
        "\n",
        "while True:\n",
        "  try:\n",
        "    operacion = int(input('1. Par o Impar\\n2. Positivo o Negativo\\n3. Entero o Decimal\\n¿Qué operación deseas realizar?: '))\n",
        "    if operacion < 1 or operacion > 3:\n",
        "      print('Error: Ingresa una opción válida.')\n",
        "      continue\n",
        "    break\n",
        "  except ValueError:\n",
        "    print('Error: Debe escribir un número entero.')\n",
        "\n",
        "if operacion == 1:\n",
        "  if num1 % 2 == 0:\n",
        "    print(f'{num1} es par')\n",
        "  else:\n",
        "    print(f'{num1} es impar')\n",
        "elif operacion == 2:\n",
        "  if num1 > 0:\n",
        "    print(f'{num1} es positivo')\n",
        "  elif num1 < 0:\n",
        "    print(f'{num1} es negativo')\n",
        "  else:\n",
        "    print(f'{num1} es cero')\n",
        "elif operacion == 3:\n",
        "  if num1 % 1 == 0:\n",
        "    print(f'{num1} es entero')\n",
        "  else:\n",
        "    print(f'{num1} es decimal')"
      ],
      "metadata": {
        "colab": {
          "base_uri": "https://localhost:8080/"
        },
        "id": "S6yCHBQDjQlo",
        "outputId": "d8ad0295-cd81-44bb-d14d-1fcaeca26bb0"
      },
      "execution_count": 105,
      "outputs": [
        {
          "output_type": "stream",
          "name": "stdout",
          "text": [
            "Proporciona un número: a\n",
            "Error: Debe escribir un número.\n",
            "Proporciona un número: 1\n",
            "1. Par o Impar\n",
            "2. Positivo o Negativo\n",
            "3. Entero o Decimal\n",
            "¿Qué operación deseas realizar?: 0\n",
            "Error: Ingresa una opción válida.\n",
            "1. Par o Impar\n",
            "2. Positivo o Negativo\n",
            "3. Entero o Decimal\n",
            "¿Qué operación deseas realizar?: 4\n",
            "Error: Ingresa una opción válida.\n",
            "1. Par o Impar\n",
            "2. Positivo o Negativo\n",
            "3. Entero o Decimal\n",
            "¿Qué operación deseas realizar?: 1\n",
            "1.0 es impar\n"
          ]
        }
      ]
    },
    {
      "cell_type": "code",
      "source": [
        "'''Programa que solicita al usuario tres números que representan los lados de un triángulo.\n",
        "El programa informa si los valores son válidos para formar un triángulo y,\n",
        "en caso afirmativo, si es equilátero, isósceles o escaleno.\n",
        "'''\n",
        "\n",
        "from typing import List, Any\n",
        "\n",
        "def son_todos_distintos(lista: List[Any]) -> bool:\n",
        "  '''\n",
        "  Verifica si todos los elementos de una lista son distintos.\n",
        "\n",
        "  Parameters\n",
        "  ----------\n",
        "  lista : List[Any]\n",
        "      Lista de elementos de cualquier tipo.\n",
        "\n",
        "  Returns\n",
        "  -------\n",
        "  bool\n",
        "      True si todos los elementos de la lista son únicos, False en caso contrario.\n",
        "\n",
        "  Examples\n",
        "  --------\n",
        "  >>> son_todos_distintos([1, 2, 3, 4, 5])\n",
        "  True\n",
        "  >>> son_todos_distintos([1, 2, 3, 4, 1])\n",
        "  False\n",
        "  '''\n",
        "  return len(lista) == len(set(lista))\n",
        "\n",
        "def son_todos_iguales(lista: List[Any]) -> bool:\n",
        "  '''\n",
        "  Verifica si todos los elementos de una lista son iguales.\n",
        "\n",
        "  Parameters\n",
        "  ----------\n",
        "  lista : List[Any]\n",
        "      Lista de elementos de cualquier tipo.\n",
        "\n",
        "  Returns\n",
        "  -------\n",
        "  bool\n",
        "      True si todos los elementos de la lista son iguales, False en caso contrario.\n",
        "      Devuelve True para listas vacías.\n",
        "\n",
        "  Examples\n",
        "  --------\n",
        "  >>> son_todos_iguales([5, 5, 5, 5])\n",
        "  True\n",
        "  >>> son_todos_iguales([5, 5, 6, 5])\n",
        "  False\n",
        "  >>> son_todos_iguales([])\n",
        "  True\n",
        "  '''\n",
        "  if not lista:\n",
        "    return True\n",
        "  return all(elemento == lista[0] for elemento in lista)\n",
        "\n",
        "lados = []\n",
        "\n",
        "for i in range(3):\n",
        "  while True:\n",
        "    try:\n",
        "      lados.append(float(input(f'Proporciona el {i + 1}° lado del triángulo: ')))\n",
        "      break\n",
        "    except ValueError:\n",
        "      print('Error: Debe escribir un número.')\n",
        "\n",
        "lado1, lado2, lado3 = lados\n",
        "\n",
        "if lado1 + lado2 > lado3 and lado1 + lado3 > lado2 and lado2 + lado3 > lado1:\n",
        "  print('Se puede formar un triángulo')\n",
        "  if son_todos_iguales(lados):\n",
        "    print('Es un triángulo equilátero')\n",
        "  elif not son_todos_distintos(lados):\n",
        "    print('Es un triángulo isósceles')\n",
        "  else:\n",
        "    print('Es un triángulo escaleno')\n",
        "else:\n",
        "  print('No se puede formar un triángulo')"
      ],
      "metadata": {
        "colab": {
          "base_uri": "https://localhost:8080/"
        },
        "id": "mhEvGpQpldU2",
        "outputId": "3476761b-f8f3-4443-bf6c-1be9aa597867"
      },
      "execution_count": 42,
      "outputs": [
        {
          "output_type": "stream",
          "name": "stdout",
          "text": [
            "Proporciona el 1° lado del triángulo: 5\n",
            "Proporciona el 2° lado del triángulo: 4\n",
            "Proporciona el 3° lado del triángulo: 3\n",
            "Se puede formar un triángulo\n",
            "Es un triángulo escaleno\n"
          ]
        }
      ]
    },
    {
      "cell_type": "code",
      "source": [
        "'''\n",
        "Un establecimiento está vendiendo combustibles con descuentos variables. Para el etanol, si la cantidad comprada es de\n",
        "hasta 15 litros, el descuento será del 2% por litro. En caso contrario, será del 4% por litro. Para el diésel, si la\n",
        "cantidad comprada es de hasta 15 litros, el descuento será del 3% por litro. En caso contrario, será del 5% por litro.\n",
        "El precio por litro de diésel es de R$ 2.0 y el precio por litro de etanol es de R$ 1.7. Este programa solicita al usuario\n",
        "la cantidad de litros vendidos y el tipo de combustible (E para etanol y D para diésel) y calcula el valor a pagar por el cliente.\n",
        "'''\n",
        "\n",
        "while True:\n",
        "  try:\n",
        "    litros = int(input('Proporciona la cantidad de litros vendidos: '))\n",
        "    if litros <= 0:\n",
        "      print('Error: Ingresa una cantidad válida.')\n",
        "      continue\n",
        "    break\n",
        "  except ValueError:\n",
        "    print('Error: Debe escribir un número entero.')\n",
        "\n",
        "while True:\n",
        "  tipo = input('Proporciona el tipo de combustible (E para etanol y D para diésel): ').upper()\n",
        "  if tipo == 'E' or tipo == 'D':\n",
        "    break\n",
        "  else:\n",
        "    print('Error: Ingresa una opción válida.')\n",
        "\n",
        "if tipo == 'E':\n",
        "  if litros <= 15:\n",
        "    descuento = 0.02\n",
        "  else:\n",
        "    descuento = 0.04\n",
        "  precio = 1.7\n",
        "elif tipo == 'D':\n",
        "  if litros <= 15:\n",
        "    descuento = 0.03\n",
        "  else:\n",
        "    descuento = 0.05\n",
        "  precio = 2.0\n",
        "\n",
        "valor_a_pagar = litros * precio * (1 - descuento)\n",
        "\n",
        "print(f'El valor a pagar por el cliente es: ${valor_a_pagar:.2f}')"
      ],
      "metadata": {
        "colab": {
          "base_uri": "https://localhost:8080/"
        },
        "id": "9f6vLj7nmGFP",
        "outputId": "f302ffb9-aac5-4bed-c1dc-6b8b38b5e421"
      },
      "execution_count": 126,
      "outputs": [
        {
          "output_type": "stream",
          "name": "stdout",
          "text": [
            "Proporciona la cantidad de litros vendidos: a\n",
            "Error: Debe escribir un número entero.\n",
            "Proporciona la cantidad de litros vendidos: 0\n",
            "Error: Ingresa una cantidad válida.\n",
            "Proporciona la cantidad de litros vendidos: 1\n",
            "Proporciona el tipo de combustible (E para etanol y D para diésel): a\n",
            "Error: Ingresa una opción válida.\n",
            "Proporciona el tipo de combustible (E para etanol y D para diésel): 0\n",
            "Error: Ingresa una opción válida.\n",
            "Proporciona el tipo de combustible (E para etanol y D para diésel): e\n",
            "El valor a pagar por el cliente es: $1.67\n"
          ]
        }
      ]
    },
    {
      "cell_type": "code",
      "source": [
        "'''\n",
        "En una empresa de venta de bienes raíces, se requiere un programa que analice los datos de ventas\n",
        "anuales para ayudar a la dirección en la toma de decisiones. El código debe recopilar los datos\n",
        "de cantidad de ventas durante los años 2022 y 2023 y calcular la variación porcentual. A partir\n",
        "del valor de la variación, se deben proporcionar las siguientes sugerencias:\n",
        "\n",
        "- Para una variación superior al 20%: bonificación para el equipo de ventas.\n",
        "- Para una variación entre el 2% y el 20%: pequeña bonificación para el equipo de ventas.\n",
        "- Para una variación entre el 2% y el -10%: planificación de políticas de incentivo a las ventas.\n",
        "- Para bonificaciones inferiores al -10%: recorte de gastos.\n",
        "'''\n",
        "\n",
        "ventas_2022 = float(input('Proporciona la cantidad de ventas del año 2022: '))\n",
        "ventas_2023 = float(input('Proporciona la cantidad de ventas del año 2023: '))\n",
        "variacion = ((ventas_2023 - ventas_2022) / ventas_2022) * 100\n",
        "\n",
        "if variacion > 20:\n",
        "  print('Bonificación para el equipo de ventas')\n",
        "elif 2 <= variacion <= 20:\n",
        "  print('Pequeña bonificación para el equipo de ventas')\n",
        "elif -10 <= variacion < 2:\n",
        "  print('Planificación de políticas de incentivo a las ventas')\n",
        "else:\n",
        "  print('Recorte de gastos')"
      ],
      "metadata": {
        "colab": {
          "base_uri": "https://localhost:8080/"
        },
        "id": "BqNR_yVzoFa4",
        "outputId": "ae845751-f1d5-4c40-a554-16a712cbb421"
      },
      "execution_count": null,
      "outputs": [
        {
          "output_type": "stream",
          "name": "stdout",
          "text": [
            "Proporciona la cantidad de ventas del año 2022: 365\n",
            "Proporciona la cantidad de ventas del año 2023: 360\n",
            "Planificación de políticas de incentivo a las ventas\n"
          ]
        }
      ]
    },
    {
      "cell_type": "markdown",
      "source": [
        "# Estructuras de repetición"
      ],
      "metadata": {
        "id": "aL1vJPewvwvz"
      }
    },
    {
      "cell_type": "markdown",
      "source": [
        "Cuando tenemos que ejecutar un mismo bloque de comandos durante varias ocasiones no es nada práctico hacerlo a mano.\n",
        "\n",
        "**Situación**: Nos fue solicitado obtener e imprimir el promedio de 2 notas de **3 estudantes**:"
      ],
      "metadata": {
        "id": "VcPfCa8d-84t"
      }
    },
    {
      "cell_type": "code",
      "source": [
        "nota1 = float(input('Digita la primera nota: '))\n",
        "nota2 = float(input('Digita la segunda nota: '))\n",
        "print(f'El promedio del primer estudiante es: {(nota1 + nota2) / 2}')\n",
        "\n",
        "nota1 = float(input('Digita la primera nota: '))\n",
        "nota2 = float(input('Digita la segunda nota: '))\n",
        "print(f'El promedio del segundo estudiante es: {(nota1 + nota2) / 2}')\n",
        "\n",
        "nota1 = float(input('Digita la primera nota: '))\n",
        "nota2 = float(input('Digita la segunda nota: '))\n",
        "print(f'El promedio del tercer estudiante es: {(nota1 + nota2) / 2}')"
      ],
      "metadata": {
        "id": "xcx21IGT9qA0",
        "colab": {
          "base_uri": "https://localhost:8080/"
        },
        "outputId": "c42d8490-c9a9-48f2-bbd9-6cc6f169b1c4"
      },
      "execution_count": null,
      "outputs": [
        {
          "output_type": "stream",
          "name": "stdout",
          "text": [
            "Digita la primera nota: 3\n",
            "Digita la segunda nota: 3\n",
            "El promedio del primer estudiante es: 3.0\n",
            "Digita la primera nota: 3\n",
            "Digita la segunda nota: 4\n",
            "El promedio del segundo estudiante es: 3.5\n",
            "Digita la primera nota: 4\n",
            "Digita la segunda nota: 5\n",
            "El promedio del tercer estudiante es: 4.5\n"
          ]
        }
      ]
    },
    {
      "cell_type": "markdown",
      "source": [
        "Ahora imaginemos una situación en que no son tan solo 3 estudiantes, sino 100 estudiantes. No sería nada interesante repetir el mismo código 100 veces, sino **ejecutar el mismo código 100 veces**.\n",
        "\n",
        "¡Esta estructura la logramos construir con lazos de repetición!"
      ],
      "metadata": {
        "id": "9puIuvUbFSFX"
      }
    },
    {
      "cell_type": "markdown",
      "source": [
        "## `WHILE`"
      ],
      "metadata": {
        "id": "uLO9-aE4-wx8"
      }
    },
    {
      "cell_type": "markdown",
      "source": [
        "El lazo `while` es una estructura de control de repetición en Python que permite ejecutar un bloque de código repetidamente mientras que una determinada condición sea verdadera. Su estructura es:\n",
        "\n",
        "\n",
        "\n",
        "```\n",
        "while condicion:\n",
        "    # bloque de codigo\n",
        "```\n",
        "\n",
        "Vamos a construir un ejemplo con un contador de 1 hasta 10.\n"
      ],
      "metadata": {
        "id": "rXZxDMiqHxm9"
      }
    },
    {
      "cell_type": "code",
      "source": [
        "contador = 1\n",
        "while contador <= 10:\n",
        "  print(contador)\n",
        "  contador += 1"
      ],
      "metadata": {
        "id": "Hd0ZSWxD9wCD",
        "colab": {
          "base_uri": "https://localhost:8080/"
        },
        "outputId": "8d8d682d-922e-446c-aab7-2d6b90384cfb"
      },
      "execution_count": null,
      "outputs": [
        {
          "output_type": "stream",
          "name": "stdout",
          "text": [
            "1\n",
            "2\n",
            "3\n",
            "4\n",
            "5\n",
            "6\n",
            "7\n",
            "8\n",
            "9\n",
            "10\n"
          ]
        }
      ]
    },
    {
      "cell_type": "markdown",
      "source": [
        "Ahora vamos a colectar las notas y promedios de cada alumno dentro del lazo `while`. Haremos un ejemplo con 3 promedios."
      ],
      "metadata": {
        "id": "W4KZPBJuIrut"
      }
    },
    {
      "cell_type": "code",
      "source": [
        "contador = 1\n",
        "while contador <= 3:\n",
        "  nota1 = float(input('Digita la primera nota: '))\n",
        "  nota2 = float(input('Digita la segunda nota: '))\n",
        "  print(f'El promedio del estudiante es: {(nota1 + nota2) / 2}')\n",
        "  contador += 1"
      ],
      "metadata": {
        "id": "9T5eCLFx9wk6",
        "colab": {
          "base_uri": "https://localhost:8080/"
        },
        "outputId": "3567b96a-4537-4a88-f1ed-42f1ace3e077"
      },
      "execution_count": null,
      "outputs": [
        {
          "output_type": "stream",
          "name": "stdout",
          "text": [
            "Digita la primera nota: 8.5\n",
            "Digita la segunda nota: 7.7\n",
            "El promedio del estudiante es: 8.1\n",
            "Digita la primera nota: 5.5\n",
            "Digita la segunda nota: 9.1\n",
            "El promedio del estudiante es: 7.3\n",
            "Digita la primera nota: 6.9\n",
            "Digita la segunda nota: 9.4\n",
            "El promedio del estudiante es: 8.15\n"
          ]
        }
      ]
    },
    {
      "cell_type": "markdown",
      "source": [
        "## `FOR`"
      ],
      "metadata": {
        "id": "WgAIaENMMfCP"
      }
    },
    {
      "cell_type": "markdown",
      "source": [
        "El lazo `for` es un tipo de estructura de control de flujo en Python que permite iterar sobre un conjunto de elementos. Su estructura es:\n",
        "\n",
        "\n",
        "\n",
        "```\n",
        "for elemento in conjunto:\n",
        "    # codigo a ser ejecutado para cada elemento\n",
        "```\n",
        "\n",
        "El lazo `for` itera sobre cada elemento del conjunto especificado y ejecuta el bloque de código dentro del lazo para cada elemento. Cuando el lazo llega al final del conjunto, este se interrumpe y el programa continúa la ejecución después del lazo.\n",
        "\n"
      ],
      "metadata": {
        "id": "HxrSZoRAMh-x"
      }
    },
    {
      "cell_type": "markdown",
      "source": [
        "El conjunto lo podemos generar con la función incorporada [`range()`](https://docs.python.org/3/library/functions.html#func-range). Se trata de una función capaz de generar una secuencia de números enteros. La estructura de esta función es:\n",
        "\n",
        "```\n",
        "range(inicio, fin, paso)\n",
        "```\n",
        "\n",
        "Según la documentación, `range()` genera una secuencia de números enteros a partir del valor del parámetro `inicio` hasta el valor del parámetro `fin`, de acuerdo con el valor del parámetro `paso`. Si `inicio` no es especificado, el valor por defecto es `0`. Si `paso` no es especificado, el valor por defecto es `1`.\n",
        "\n",
        "\n"
      ],
      "metadata": {
        "id": "6VgjyoQtPHBM"
      }
    },
    {
      "cell_type": "markdown",
      "source": [
        "Vamos a recrear el mismo contador `while` con el lazo `for`."
      ],
      "metadata": {
        "id": "ryn0hfdlUwC8"
      }
    },
    {
      "cell_type": "code",
      "source": [
        "for n in range(1, 11):\n",
        "  print(n)"
      ],
      "metadata": {
        "id": "KkL1wUIj9jL4",
        "colab": {
          "base_uri": "https://localhost:8080/"
        },
        "outputId": "91734d19-2187-416f-c07b-2cdaa01df674"
      },
      "execution_count": null,
      "outputs": [
        {
          "output_type": "stream",
          "name": "stdout",
          "text": [
            "1\n",
            "2\n",
            "3\n",
            "4\n",
            "5\n",
            "6\n",
            "7\n",
            "8\n",
            "9\n",
            "10\n"
          ]
        }
      ]
    },
    {
      "cell_type": "code",
      "source": [
        "for e in range(1, 4):\n",
        "  nota1 = float(input('Digita la primera nota: '))\n",
        "  nota2 = float(input('Digita la segunda nota: '))\n",
        "  print(f'El promedio del estudiante es: {(nota1 + nota2) / 2}')"
      ],
      "metadata": {
        "id": "uXIZnLSr9jOu",
        "colab": {
          "base_uri": "https://localhost:8080/"
        },
        "outputId": "fdc4428b-1390-4270-9a79-36183c1d304f"
      },
      "execution_count": null,
      "outputs": [
        {
          "output_type": "stream",
          "name": "stdout",
          "text": [
            "Digita la primera nota: 8.3\n",
            "Digita la segunda nota: 5.9\n",
            "El promedio del estudiante es: 7.1000000000000005\n",
            "Digita la primera nota: 6.7\n",
            "Digita la segunda nota: 7.6\n",
            "El promedio del estudiante es: 7.15\n",
            "Digita la primera nota: 9.2\n",
            "Digita la segunda nota: 8.7\n",
            "El promedio del estudiante es: 8.95\n"
          ]
        }
      ]
    },
    {
      "cell_type": "code",
      "source": [
        "# Continue: Interrumpe la iteración actual del bucle y salta a la siguiente, es decir, regresa al inicio del código.\n",
        "for i in range(1, 6):\n",
        "    if i == 4:\n",
        "        continue\n",
        "    print(i)"
      ],
      "metadata": {
        "id": "6xq9A6IVsZpn",
        "outputId": "fbd1a3e6-dc81-48b9-c024-7117c2e82c6f",
        "colab": {
          "base_uri": "https://localhost:8080/"
        }
      },
      "execution_count": null,
      "outputs": [
        {
          "output_type": "stream",
          "name": "stdout",
          "text": [
            "1\n",
            "2\n",
            "3\n",
            "5\n"
          ]
        }
      ]
    },
    {
      "cell_type": "code",
      "source": [
        "# Break: Detiene por completo la ejecución del bucle, saliendo del bloque de código.\n",
        "for i in range(1, 6):\n",
        "    if i == 4:\n",
        "        break\n",
        "    print(i)"
      ],
      "metadata": {
        "id": "HdNVPECAserw",
        "outputId": "2d962f62-ca0f-44a7-bbcb-339d3bdd8d35",
        "colab": {
          "base_uri": "https://localhost:8080/"
        }
      },
      "execution_count": null,
      "outputs": [
        {
          "output_type": "stream",
          "name": "stdout",
          "text": [
            "1\n",
            "2\n",
            "3\n"
          ]
        }
      ]
    },
    {
      "cell_type": "markdown",
      "source": [
        "# Estructuras de datos"
      ],
      "metadata": {
        "id": "8noP8OJ0Vhux"
      }
    },
    {
      "cell_type": "markdown",
      "source": [
        "### Entrenando la programación"
      ],
      "metadata": {
        "id": "PaFBc17Hs4Np"
      }
    },
    {
      "cell_type": "code",
      "source": [
        "'''Programa que solicita dos números enteros e imprime todos los números enteros entre ellos.'''\n",
        "\n",
        "numeros = []\n",
        "\n",
        "for i in range(2):\n",
        "  while True:\n",
        "    try:\n",
        "      numero = int(input(f'Ingresa el número {i+1}: '))\n",
        "      numeros.append(numero)\n",
        "      break\n",
        "    except ValueError:\n",
        "      print('Error: Debe escribir un número.')\n",
        "\n",
        "for numero in range(min(numeros), max(numeros) + 1):\n",
        "  print(numero)"
      ],
      "metadata": {
        "id": "fNSd_QnGs5uQ",
        "outputId": "868f39fa-acd7-4bcb-d714-f25a3376aa9b",
        "colab": {
          "base_uri": "https://localhost:8080/"
        }
      },
      "execution_count": 129,
      "outputs": [
        {
          "output_type": "stream",
          "name": "stdout",
          "text": [
            "Ingresa el número 1: a\n",
            "Error: Debe escribir un número.\n",
            "Ingresa el número 1: 1\n",
            "Ingresa el número 2: 2\n",
            "1\n",
            "2\n"
          ]
        }
      ]
    },
    {
      "cell_type": "code",
      "source": [
        "'''\n",
        "Programa que calcula cuántos días tomará que la colonia de una bacteria A supere\n",
        "o iguale a la colonia de una bacteria B, basado en tasas de crecimiento del 3% y 1.5%,\n",
        "respectivamente. Supón que la colonia A comienza con 4 elementos y B con 10.\n",
        "'''\n",
        "\n",
        "colonia_a, colonia_b, dias = 4, 10, 0\n",
        "while colonia_a <= colonia_b:\n",
        "  colonia_a *= 1.03\n",
        "  colonia_b *= 1.015\n",
        "  dias += 1\n",
        "print(f'Necesitara {dias} días para que la colonia A supere a la colonia B.')"
      ],
      "metadata": {
        "id": "Q4Ar6PACtJN8",
        "outputId": "9aa48ae0-8f9d-4134-da1a-bdd3f528ff9b",
        "colab": {
          "base_uri": "https://localhost:8080/"
        }
      },
      "execution_count": 131,
      "outputs": [
        {
          "output_type": "stream",
          "name": "stdout",
          "text": [
            "Necesitara 63 días para que la colonia A supere a la colonia B.\n"
          ]
        }
      ]
    },
    {
      "cell_type": "code",
      "source": [
        "'''Programa que recibe calificaciones del 0 al 5 y verifica si son valores válidos. Si se ingresa una\n",
        "calificación superior a 5 o inferior a 0, se repetirá hasta que el usuario ingrese un valor válido.'''\n",
        "\n",
        "calificaciones = []\n",
        "\n",
        "for i in range(1, 16):\n",
        "  while True:\n",
        "    try:\n",
        "      calificacion = float(input(f'Ingrese la calificación del usuario {i}: '))\n",
        "      while calificacion < 0 or calificacion > 5:\n",
        "        calificacion = int(input(f'Calificación no válida. Ingrese de nuevo la calificación del usuario {i}: '))\n",
        "      calificaciones.append(calificacion)\n",
        "      break\n",
        "    except ValueError:\n",
        "      print('Error: Debe escribir un número.')\n",
        "\n",
        "print('Todas las notas son válidas.')"
      ],
      "metadata": {
        "id": "80jNGzfPuZu6",
        "outputId": "6fbf1caf-4178-4346-a0b8-f60e7a1a8b06",
        "colab": {
          "base_uri": "https://localhost:8080/"
        }
      },
      "execution_count": 3,
      "outputs": [
        {
          "output_type": "stream",
          "name": "stdout",
          "text": [
            "Ingrese la calificación del usuario 1: 0\n",
            "Ingrese la calificación del usuario 2: a\n",
            "Error: Debe escribir un número.\n",
            "Ingrese la calificación del usuario 2: 6\n",
            "Calificación no válida. Ingrese de nuevo la calificación del usuario 2: 1\n",
            "Ingrese la calificación del usuario 3: 2\n",
            "Ingrese la calificación del usuario 4: 3\n",
            "Ingrese la calificación del usuario 5: 4\n",
            "Ingrese la calificación del usuario 6: 5\n",
            "Ingrese la calificación del usuario 7: 4\n",
            "Ingrese la calificación del usuario 8: 3\n",
            "Ingrese la calificación del usuario 9: 2\n",
            "Ingrese la calificación del usuario 10: 1\n",
            "Ingrese la calificación del usuario 11: 0\n",
            "Ingrese la calificación del usuario 12: 2\n",
            "Ingrese la calificación del usuario 13: 3\n",
            "Ingrese la calificación del usuario 14: 4\n",
            "Ingrese la calificación del usuario 15: 5\n",
            "Todas las notas son válidas.\n"
          ]
        }
      ]
    },
    {
      "cell_type": "code",
      "source": [
        "'''Programa que lee un conjunto indefinido de temperaturas en grados Celsius y calcula su promedio.\n",
        "La lectura se detiene al ingresar el valor -273°C, utilizando una lista y las funciones sum() y len().'''\n",
        "\n",
        "temperaturas = []\n",
        "\n",
        "while True:\n",
        "  try:\n",
        "    temperatura = float(input('Ingrese la temperatura en grados Celsius (ingrese -273 para detener): '))\n",
        "    if temperatura == -273:\n",
        "      break\n",
        "    temperaturas.append(temperatura)\n",
        "  except ValueError:\n",
        "    print('Error: Debe escribir un número.')\n",
        "\n",
        "if temperaturas:\n",
        "  promedio = sum(temperaturas) / len(temperaturas)\n",
        "  print(f'El promedio de las temperaturas es: {promedio:.2f}')\n",
        "else:\n",
        "  print('No se ingresaron temperaturas para calcular el promedio.')"
      ],
      "metadata": {
        "id": "e6Je0xcAv74S",
        "outputId": "be638bfc-40b5-426a-a7e6-68f5b2ea3d07",
        "colab": {
          "base_uri": "https://localhost:8080/"
        }
      },
      "execution_count": 8,
      "outputs": [
        {
          "output_type": "stream",
          "name": "stdout",
          "text": [
            "Ingrese la temperatura en grados Celsius (ingrese -273 para detener): a\n",
            "Error: Debe escribir un número.\n",
            "Ingrese la temperatura en grados Celsius (ingrese -273 para detener): 15\n",
            "Ingrese la temperatura en grados Celsius (ingrese -273 para detener): 20\n",
            "Ingrese la temperatura en grados Celsius (ingrese -273 para detener): 30\n",
            "Ingrese la temperatura en grados Celsius (ingrese -273 para detener): 25\n",
            "Ingrese la temperatura en grados Celsius (ingrese -273 para detener): 10\n",
            "Ingrese la temperatura en grados Celsius (ingrese -273 para detener): 40\n",
            "Ingrese la temperatura en grados Celsius (ingrese -273 para detener): -273\n",
            "El promedio de las temperaturas es: 23.33\n"
          ]
        }
      ]
    },
    {
      "cell_type": "code",
      "source": [
        "'''Programa que calcula el factorial de un número entero proporcionado por el usuario.'''\n",
        "\n",
        "while True:\n",
        "  try:\n",
        "    num = int(input('Ingrese un número entero: '))\n",
        "    break\n",
        "  except ValueError:\n",
        "    print('Error: Debe escribir un número.')\n",
        "\n",
        "factorial = 1\n",
        "for i in range(1, num + 1):\n",
        "  factorial *= i\n",
        "print(f'El factorial de {num} es: {factorial}')"
      ],
      "metadata": {
        "id": "FKHds6nFxZ65",
        "outputId": "f61b8a3c-7dec-49d2-92d7-c8d567877a14",
        "colab": {
          "base_uri": "https://localhost:8080/"
        }
      },
      "execution_count": 5,
      "outputs": [
        {
          "output_type": "stream",
          "name": "stdout",
          "text": [
            "Ingrese un número entero: a\n",
            "Error: Debe escribir un número.\n",
            "Ingrese un número entero: 7\n",
            "El factorial de 7 es: 5040\n"
          ]
        }
      ]
    },
    {
      "cell_type": "markdown",
      "source": [
        "### Momento de los proyectos"
      ],
      "metadata": {
        "id": "F2Vjen98xo2Y"
      }
    },
    {
      "cell_type": "code",
      "source": [
        "'''Programa que genera la tabla de multiplicar de un número entero del 1 al 10, según la elección del usuario.'''\n",
        "\n",
        "while True:\n",
        "  try:\n",
        "    num = int(input('Proporciona un número: '))\n",
        "    break\n",
        "  except ValueError:\n",
        "    print('Error: Debe escribir un número.')\n",
        "\n",
        "print(f'Tabla de multiplicar del {num}:')\n",
        "for i in range(1, 11):\n",
        "  print(f'{num} x {i} = {num * i}')"
      ],
      "metadata": {
        "id": "IzsGE6sDxvCO",
        "outputId": "82435f5d-776a-40ec-eb25-29e19fd14c97",
        "colab": {
          "base_uri": "https://localhost:8080/"
        }
      },
      "execution_count": 11,
      "outputs": [
        {
          "output_type": "stream",
          "name": "stdout",
          "text": [
            "Proporciona un número: a\n",
            "Error: Debe escribir un número.\n",
            "Proporciona un número: 2\n",
            "Tabla de multiplicar del 2:\n",
            "2 x 1 = 2\n",
            "2 x 2 = 4\n",
            "2 x 3 = 6\n",
            "2 x 4 = 8\n",
            "2 x 5 = 10\n",
            "2 x 6 = 12\n",
            "2 x 7 = 14\n",
            "2 x 8 = 16\n",
            "2 x 9 = 18\n",
            "2 x 10 = 20\n"
          ]
        }
      ]
    },
    {
      "cell_type": "code",
      "source": [
        "'''Programa que solicita al usuario un número entero y determina si es un número primo o no.'''\n",
        "\n",
        "while True:\n",
        "  try:\n",
        "    num = int(input('Proporciona un número: '))\n",
        "    break\n",
        "  except ValueError:\n",
        "    print('Error: Debe escribir un número.')\n",
        "\n",
        "es_primo = True\n",
        "\n",
        "if num > 1:\n",
        "  for i in range(2, num):\n",
        "    if num % i == 0:\n",
        "      print(f'{num} no es un número primo')\n",
        "      break\n",
        "  else:\n",
        "      print(f'{num} es un número primo')\n",
        "else:\n",
        "  print(f'{num} no es un número primo')"
      ],
      "metadata": {
        "id": "KIy-uAF0yJrN",
        "outputId": "1f547097-c6ed-4425-bf96-a44e5587d422",
        "colab": {
          "base_uri": "https://localhost:8080/"
        }
      },
      "execution_count": 12,
      "outputs": [
        {
          "output_type": "stream",
          "name": "stdout",
          "text": [
            "Proporciona un número: a\n",
            "Error: Debe escribir un número.\n",
            "Proporciona un número: 5\n",
            "5 es un número primo\n"
          ]
        }
      ]
    },
    {
      "cell_type": "code",
      "source": [
        "'''\n",
        "Programa que lee las edades de una cantidad no informada de clientes y muestra la distribución en los\n",
        "intervalos [0-25], [26-50], [51-75] y [76-100]. La entrada de datos se detendrá al ingresar un número negativo.\n",
        "'''\n",
        "\n",
        "edades = []\n",
        "\n",
        "while True:\n",
        "    try:\n",
        "        edad = int(input('Ingresa la edad (o un número negativo para finalizar): '))\n",
        "        if edad < 0:\n",
        "            break\n",
        "        edades.append(edad)\n",
        "    except ValueError:\n",
        "        print('Error: Debe escribir un número entero.')\n",
        "\n",
        "distribucion_0_25 = sum(1 for edad in edades if 0 <= edad <= 25)\n",
        "distribucion_26_50 = sum(1 for edad in edades if 26 <= edad <= 50)\n",
        "distribucion_51_75 = sum(1 for edad in edades if 51 <= edad <= 75)\n",
        "distribucion_76_100 = sum(1 for edad in edades if 76 <= edad <= 100)\n",
        "\n",
        "print('Distribución de edades:', f'[0-25]: {distribucion_0_25}', f'[26-50]: {distribucion_26_50}', f'[51-75]: {distribucion_51_75}', f'[76-100]: {distribucion_76_100}', sep='\\n')"
      ],
      "metadata": {
        "id": "xcMjC6rezrda",
        "outputId": "369608bd-fccb-4f4f-cf64-9d7a3b195adb",
        "colab": {
          "base_uri": "https://localhost:8080/"
        }
      },
      "execution_count": 18,
      "outputs": [
        {
          "output_type": "stream",
          "name": "stdout",
          "text": [
            "Ingresa la edad (o un número negativo para finalizar): 5\n",
            "Ingresa la edad (o un número negativo para finalizar): 10\n",
            "Ingresa la edad (o un número negativo para finalizar): 30\n",
            "Ingresa la edad (o un número negativo para finalizar): 55\n",
            "Ingresa la edad (o un número negativo para finalizar): 56\n",
            "Ingresa la edad (o un número negativo para finalizar): 57\n",
            "Ingresa la edad (o un número negativo para finalizar): 78\n",
            "Ingresa la edad (o un número negativo para finalizar): -1\n",
            "Distribución de edades:\n",
            "[0-25]: 2\n",
            "[26-50]: 1\n",
            "[51-75]: 3\n",
            "[76-100]: 1\n"
          ]
        }
      ]
    },
    {
      "cell_type": "code",
      "source": [
        "'''\n",
        "En una elección para la gerencia de una empresa con 20 empleados, hay cuatro candidatos.\n",
        "Este programa calcula al ganador de la elección. La votación se realizó de la siguiente manera:\n",
        "\n",
        "- Cada empleado votó por uno de los cuatro candidatos (representados por los números 1, 2, 3 y 4).\n",
        "- También se contaron los votos nulos (representados por el número 5) y los votos en blanco\n",
        "  (representados por el número 6).\n",
        "- Al final de la votación, el programa debe mostrar el número total de votos para cada candidato,\n",
        "  los votos nulos y los votos en blanco. Además, debe calcular y mostrar el porcentaje de votos nulos\n",
        "  con respecto al total de votos y el porcentaje de votos en blanco con respecto al total de votos.\n",
        "'''\n",
        "\n",
        "num_votantes, votos = 20, []\n",
        "\n",
        "for i in range(num_votantes):\n",
        "    while True:\n",
        "        try:\n",
        "            voto = int(input(f'Ingresa tu voto (1-4 para candidatos, 5 para nulo, 6 para blanco): '))\n",
        "            if 1 <= voto <= 6:\n",
        "                votos.append(voto)\n",
        "                break\n",
        "            else:\n",
        "                print(\"Voto inválido. Ingresa un número entre 1 y 6.\")\n",
        "        except ValueError:\n",
        "            print(\"Error: Debes ingresar un número entero.\")\n",
        "\n",
        "votos_candidato1 = sum(1 for voto in votos if voto == 1)\n",
        "votos_candidato2 = sum(1 for voto in votos if voto == 2)\n",
        "votos_candidato3 = sum(1 for voto in votos if voto == 3)\n",
        "votos_candidato4 = sum(1 for voto in votos if voto == 4)\n",
        "votos_nulos = sum(1 for voto in votos if voto == 5)\n",
        "votos_blanco = sum(1 for voto in votos if voto == 6)\n",
        "\n",
        "ganador = \"No hay ganador claro\"\n",
        "max_votos = max(votos_candidato1, votos_candidato2, votos_candidato3, votos_candidato4)\n",
        "\n",
        "if votos_candidato1 == max_votos and votos_candidato1 > votos_candidato2 and votos_candidato1 > votos_candidato3 and votos_candidato1 > votos_candidato4:\n",
        "    ganador = \"Candidato 1\"\n",
        "elif votos_candidato2 == max_votos and votos_candidato2 > votos_candidato1 and votos_candidato2 > votos_candidato3 and votos_candidato2 > votos_candidato4:\n",
        "    ganador = \"Candidato 2\"\n",
        "elif votos_candidato3 == max_votos and votos_candidato3 > votos_candidato1 and votos_candidato3 > votos_candidato2 and votos_candidato3 > votos_candidato4:\n",
        "    ganador = \"Candidato 3\"\n",
        "elif votos_candidato4 == max_votos and votos_candidato4 > votos_candidato1 and votos_candidato4 > votos_candidato2 and votos_candidato4 > votos_candidato3:\n",
        "    ganador = \"Candidato 4\"\n",
        "elif max_votos == 0:\n",
        "    ganador = \"No hubo votos válidos\"\n",
        "elif list(filter(lambda x: sum(1 for v in votos if v == x) == max_votos and x <= 4, range(1, 5))).__len__() > 1:\n",
        "    ganador = \"Hay un empate\"\n",
        "\n",
        "print(f'Votos candidato 1: {votos_candidato1}', f'Votos candidato 2: {votos_candidato2}', f'Votos candidato 3: {votos_candidato3}', f'Votos candidato 4: {votos_candidato4}',\n",
        "      f'Votos nulos: {votos_nulos}', f'Votos en blanco: {votos_blanco}', f'Porcentaje de votos nulos: {(votos_nulos / num_votantes * 100):.2f}%',\n",
        "      f'Porcentaje de votos en blanco: {(votos_blanco / num_votantes * 100):.2f}%', f'Candidato ganador: {ganador}', sep='\\n')"
      ],
      "metadata": {
        "id": "baXOwqiI0ZMC",
        "outputId": "4daeeebf-2140-4fab-887d-6522d5443f53",
        "colab": {
          "base_uri": "https://localhost:8080/"
        }
      },
      "execution_count": 19,
      "outputs": [
        {
          "output_type": "stream",
          "name": "stdout",
          "text": [
            "Ingresa tu voto (1-4 para candidatos, 5 para nulo, 6 para blanco): 1\n",
            "Ingresa tu voto (1-4 para candidatos, 5 para nulo, 6 para blanco): 2\n",
            "Ingresa tu voto (1-4 para candidatos, 5 para nulo, 6 para blanco): 3\n",
            "Ingresa tu voto (1-4 para candidatos, 5 para nulo, 6 para blanco): 4\n",
            "Ingresa tu voto (1-4 para candidatos, 5 para nulo, 6 para blanco): 5\n",
            "Ingresa tu voto (1-4 para candidatos, 5 para nulo, 6 para blanco): 6\n",
            "Ingresa tu voto (1-4 para candidatos, 5 para nulo, 6 para blanco): 0\n",
            "Voto inválido. Ingresa un número entre 1 y 6.\n",
            "Ingresa tu voto (1-4 para candidatos, 5 para nulo, 6 para blanco): a\n",
            "Error: Debes ingresar un número entero.\n",
            "Ingresa tu voto (1-4 para candidatos, 5 para nulo, 6 para blanco): 5\n",
            "Ingresa tu voto (1-4 para candidatos, 5 para nulo, 6 para blanco): 4\n",
            "Ingresa tu voto (1-4 para candidatos, 5 para nulo, 6 para blanco): 3\n",
            "Ingresa tu voto (1-4 para candidatos, 5 para nulo, 6 para blanco): 2\n",
            "Ingresa tu voto (1-4 para candidatos, 5 para nulo, 6 para blanco): 1\n",
            "Ingresa tu voto (1-4 para candidatos, 5 para nulo, 6 para blanco): 0\n",
            "Voto inválido. Ingresa un número entre 1 y 6.\n",
            "Ingresa tu voto (1-4 para candidatos, 5 para nulo, 6 para blanco): 4\n",
            "Ingresa tu voto (1-4 para candidatos, 5 para nulo, 6 para blanco): 3\n",
            "Ingresa tu voto (1-4 para candidatos, 5 para nulo, 6 para blanco): 6\n",
            "Ingresa tu voto (1-4 para candidatos, 5 para nulo, 6 para blanco): 1\n",
            "Ingresa tu voto (1-4 para candidatos, 5 para nulo, 6 para blanco): 2\n",
            "Ingresa tu voto (1-4 para candidatos, 5 para nulo, 6 para blanco): 3\n",
            "Ingresa tu voto (1-4 para candidatos, 5 para nulo, 6 para blanco): 4\n",
            "Ingresa tu voto (1-4 para candidatos, 5 para nulo, 6 para blanco): 5\n",
            "Ingresa tu voto (1-4 para candidatos, 5 para nulo, 6 para blanco): 4\n",
            "Votos candidato 1: 3\n",
            "Votos candidato 2: 3\n",
            "Votos candidato 3: 4\n",
            "Votos candidato 4: 5\n",
            "Votos nulos: 3\n",
            "Votos en blanco: 2\n",
            "Porcentaje de votos nulos: 15.00%\n",
            "Porcentaje de votos en blanco: 10.00%\n",
            "Candidato ganador: Candidato 4\n"
          ]
        }
      ]
    },
    {
      "cell_type": "markdown",
      "source": [
        "Un conjunto de elementos es una colección de items, que son almacenados juntos de manera organizada. Algunos ejemplos de conjuntos de elementos en Python son las listas, los strings y los diccionarios."
      ],
      "metadata": {
        "id": "xpEUkefTu8fY"
      }
    },
    {
      "cell_type": "markdown",
      "source": [
        "## Listas"
      ],
      "metadata": {
        "id": "THSg4KYLwxIb"
      }
    },
    {
      "cell_type": "markdown",
      "source": [
        "Las listas pueden almacenar una colección de items en orden. Ellas son delimitadas por corchetes `[]` y sus elementos son separados por comas.\n",
        "\n",
        "Estas pueden almacenar cualquier tipo de items, incluyendo números, strings, objetos, otras listas, entre otros. También nos permiten almacenar items de tipos de datos diferentes juntos en una única lista."
      ],
      "metadata": {
        "id": "dzpsiqrOyJcK"
      }
    },
    {
      "cell_type": "code",
      "source": [
        "lista = ['Penélope Camacho',9.5,9.0,9.7,True]\n",
        "lista"
      ],
      "metadata": {
        "id": "DO3TBj7nAYeG",
        "colab": {
          "base_uri": "https://localhost:8080/"
        },
        "outputId": "5e06c81d-0b19-49be-ce1c-4b0a70520509"
      },
      "execution_count": null,
      "outputs": [
        {
          "output_type": "execute_result",
          "data": {
            "text/plain": [
              "['Penélope Camacho', 9.5, 9.0, 9.7, True]"
            ]
          },
          "metadata": {},
          "execution_count": 1
        }
      ]
    },
    {
      "cell_type": "markdown",
      "source": [
        "Las listas son organizadas en Python porque **cada elemento de la lista tiene un índice que indica su posición al interior de la lista**. Los índices comienzan en 0 van hasta el tamaño de la lista menos 1."
      ],
      "metadata": {
        "id": "qUz3sJNl6LgK"
      }
    },
    {
      "cell_type": "markdown",
      "source": [
        "Tenemos entonces 5 elementos con índices que varían de 0 a 4, ordenadamente:\n",
        "\n",
        "```\n",
        "#             [0]           [1]   [2]   [3]    [4]\n",
        "lista = ['Penélope Camacho', 9.5 , 9.0 , 9.7 , True]\n",
        "```\n",
        "\n",
        "En Python tenemos también los índices **negativos** que se inician en el último elemento con el valor de `-1` y avanzan en el universo de los negativos hasta llegar al 1° elemento:\n",
        "\n",
        "```\n",
        "#             [-5]         [-4]  [-3]  [-2]   [-1]\n",
        "lista = ['Penélope Camacho', 9.5 , 9.0 , 9.7 , True]\n",
        "```\n",
        "\n",
        "Logramos seleccionar separadamente cada elemento a través de sus respectivos índices. Colocando el nombre de la lista y en seguida el índice que será seleccionado."
      ],
      "metadata": {
        "id": "rLf-Qg526hFD"
      }
    },
    {
      "cell_type": "code",
      "source": [
        "print(f'{lista[0]}: {type(lista[0])}')\n",
        "print(f'{lista[1]}: {type(lista[1])}')\n",
        "print(f'{lista[-1]}: {type(lista[-1])}')"
      ],
      "metadata": {
        "id": "4hco1Zqy88Kw",
        "colab": {
          "base_uri": "https://localhost:8080/"
        },
        "outputId": "a398d3b0-7455-4e62-f338-863092be2a6e"
      },
      "execution_count": null,
      "outputs": [
        {
          "output_type": "stream",
          "name": "stdout",
          "text": [
            "Penélope Camacho: <class 'str'>\n",
            "9.5: <class 'float'>\n",
            "True: <class 'bool'>\n"
          ]
        }
      ]
    },
    {
      "cell_type": "markdown",
      "source": [
        "Una forma más dinámica de trabajar item a item en una lista es utilizando un lazo `for` para leer un elemento a la vez."
      ],
      "metadata": {
        "id": "6TaE1ijmBTCd"
      }
    },
    {
      "cell_type": "code",
      "source": [
        "for elemento in lista:\n",
        "  print(elemento)"
      ],
      "metadata": {
        "id": "rBx4Yu1786Sy",
        "colab": {
          "base_uri": "https://localhost:8080/"
        },
        "outputId": "bfda0762-8286-4c3a-b6bc-c6323a808c10"
      },
      "execution_count": null,
      "outputs": [
        {
          "output_type": "stream",
          "name": "stdout",
          "text": [
            "Penélope Camacho\n",
            "9.5\n",
            "9.0\n",
            "9.7\n",
            "True\n"
          ]
        }
      ]
    },
    {
      "cell_type": "markdown",
      "source": [
        "**Situación**: La nota `9.0` de Penélope necesita ser ajustada pues ganó 1 punto en su última nota por participación en clase. Entonces es necesario realizar un cambio en el índice `2` de `9.0` a `10.0`."
      ],
      "metadata": {
        "id": "Dh1_HnIVvucY"
      }
    },
    {
      "cell_type": "code",
      "source": [
        "lista[2] = 10.0"
      ],
      "metadata": {
        "id": "bVPoZg668z3T"
      },
      "execution_count": null,
      "outputs": []
    },
    {
      "cell_type": "markdown",
      "source": [
        "También podemos calcular el promedio del estudiante a partir de los datos que tenemos."
      ],
      "metadata": {
        "id": "53XduzXkycAf"
      }
    },
    {
      "cell_type": "code",
      "source": [
        "promedio = (lista[1] + lista[2] + lista[3]) / 3\n",
        "print(f'El promedio del estudiante {lista[0]} es: {promedio}')"
      ],
      "metadata": {
        "colab": {
          "base_uri": "https://localhost:8080/"
        },
        "id": "bhruqEM-7QpJ",
        "outputId": "eb91de41-7ccc-433a-e718-589fe8a24a1d"
      },
      "execution_count": null,
      "outputs": [
        {
          "output_type": "stream",
          "name": "stdout",
          "text": [
            "El promedio del estudiante Penélope Camacho es: 9.733333333333333\n"
          ]
        }
      ]
    },
    {
      "cell_type": "markdown",
      "source": [
        "## Manipulación de listas\n",
        "\n",
        "Las listas son muy útiles en Python porque nos permiten almacenar y acceder a una colección de items de manera organizada y rápida. Estas también ofrecen muchos métodos útiles para manipular los itens almacenados, como adicionar, remover, clasificar y buscar elementos."
      ],
      "metadata": {
        "id": "d-iYr10-y4qw"
      }
    },
    {
      "cell_type": "markdown",
      "source": [
        "#### Cantidad de elementos\n",
        "\n",
        "Usamos la función [`len()`](https://docs.python.org/3/library/functions.html#len) para descubrir la cantidad de elementos de un conjunto."
      ],
      "metadata": {
        "id": "ZLqx9A97XVB_"
      }
    },
    {
      "cell_type": "code",
      "source": [
        "len(lista)"
      ],
      "metadata": {
        "id": "6q1Tmm7P8wQf",
        "colab": {
          "base_uri": "https://localhost:8080/"
        },
        "outputId": "5c96ed32-d019-4192-b01d-5c9301a52bf5"
      },
      "execution_count": null,
      "outputs": [
        {
          "output_type": "execute_result",
          "data": {
            "text/plain": [
              "5"
            ]
          },
          "metadata": {},
          "execution_count": 9
        }
      ]
    },
    {
      "cell_type": "markdown",
      "source": [
        "#### Partición\n",
        "\n",
        "La partición de listas por indexación en Python es una técnica muy útil para seleccionar un subconjunto de elementos de una lista. Esta se realiza usando la sintaxis `lista[inicio:fin]`, donde `inicio` es el índice del primer elemento que será incluído en la partición `fin` es el índice del primer elemento que será excluído de la partición."
      ],
      "metadata": {
        "id": "Z5tpstlHJss3"
      }
    },
    {
      "cell_type": "code",
      "source": [
        "lista[0:2]"
      ],
      "metadata": {
        "id": "NctvJTTU8uV9",
        "colab": {
          "base_uri": "https://localhost:8080/"
        },
        "outputId": "b5e14ec2-f81c-41cf-9612-ca2edb471630"
      },
      "execution_count": null,
      "outputs": [
        {
          "output_type": "execute_result",
          "data": {
            "text/plain": [
              "['Penélope Camacho', 9.5]"
            ]
          },
          "metadata": {},
          "execution_count": 10
        }
      ]
    },
    {
      "cell_type": "code",
      "source": [
        "lista[:3]"
      ],
      "metadata": {
        "colab": {
          "base_uri": "https://localhost:8080/"
        },
        "id": "-1C8TmjDHR1M",
        "outputId": "d7260d50-060f-48ae-8201-dcb83afcca0e"
      },
      "execution_count": null,
      "outputs": [
        {
          "output_type": "execute_result",
          "data": {
            "text/plain": [
              "['Penélope Camacho', 9.5, 10.0]"
            ]
          },
          "metadata": {},
          "execution_count": 11
        }
      ]
    },
    {
      "cell_type": "code",
      "source": [
        "lista[3:]"
      ],
      "metadata": {
        "colab": {
          "base_uri": "https://localhost:8080/"
        },
        "id": "75NfogIgHU89",
        "outputId": "092b663d-0349-4c3e-9513-bbfe870819df"
      },
      "execution_count": null,
      "outputs": [
        {
          "output_type": "execute_result",
          "data": {
            "text/plain": [
              "[9.7, True]"
            ]
          },
          "metadata": {},
          "execution_count": 12
        }
      ]
    },
    {
      "cell_type": "markdown",
      "source": [
        "#### [`append()`](https://docs.python.org/3/tutorial/datastructures.html#:~:text=of%20list%20objects%3A-,list.append(x),-Add%20an%20item)\n",
        "\n",
        "Añade un elemento al final de la lista."
      ],
      "metadata": {
        "id": "O0RRyabkRzZC"
      }
    },
    {
      "cell_type": "code",
      "source": [
        "lista.append(promedio)"
      ],
      "metadata": {
        "id": "_Q0oODwa8spC"
      },
      "execution_count": null,
      "outputs": []
    },
    {
      "cell_type": "code",
      "source": [
        "lista"
      ],
      "metadata": {
        "id": "RM894r2M8sse",
        "colab": {
          "base_uri": "https://localhost:8080/"
        },
        "outputId": "0cf83b7c-64eb-4748-ec4d-8ae5b6cb202f"
      },
      "execution_count": null,
      "outputs": [
        {
          "output_type": "execute_result",
          "data": {
            "text/plain": [
              "['Penélope Camacho', 9.5, 10.0, 9.7, True, 9.733333333333333]"
            ]
          },
          "metadata": {},
          "execution_count": 14
        }
      ]
    },
    {
      "cell_type": "markdown",
      "source": [
        "#### [`extend()`](https://docs.python.org/3/tutorial/datastructures.html#:~:text=list.extend(iterable))\n",
        "\n",
        "Añade varios elementos al final de la lista.\n",
        "\n",
        "Añadiremos las notas `[10.0,8.0,9.0]` En la lista de Penélope Camacho."
      ],
      "metadata": {
        "id": "uQV91XMsUOJD"
      }
    },
    {
      "cell_type": "code",
      "source": [
        "lista.extend([10.0,8.0,9.0])"
      ],
      "metadata": {
        "id": "6Zk2MpMw8rQc"
      },
      "execution_count": null,
      "outputs": []
    },
    {
      "cell_type": "code",
      "source": [
        "lista"
      ],
      "metadata": {
        "id": "NnoKkoWb8rTQ",
        "colab": {
          "base_uri": "https://localhost:8080/"
        },
        "outputId": "2a690373-ba7a-4c81-afe5-f567c9007177"
      },
      "execution_count": null,
      "outputs": [
        {
          "output_type": "execute_result",
          "data": {
            "text/plain": [
              "['Penélope Camacho', 9.5, 10.0, 9.7, True, 9.733333333333333, 10.0, 8.0, 9.0]"
            ]
          },
          "metadata": {},
          "execution_count": 16
        }
      ]
    },
    {
      "cell_type": "markdown",
      "source": [
        "*A continuación te mostraremos lo que no puede realizarse con* `append`."
      ],
      "metadata": {
        "id": "IVJvkTwNUk6M"
      }
    },
    {
      "cell_type": "code",
      "source": [
        "lista.append([10.0,8.0,9.0])"
      ],
      "metadata": {
        "id": "u3Eub2ZL8pp3"
      },
      "execution_count": null,
      "outputs": []
    },
    {
      "cell_type": "code",
      "source": [
        "lista"
      ],
      "metadata": {
        "id": "tsKK5Ne58pvN",
        "colab": {
          "base_uri": "https://localhost:8080/"
        },
        "outputId": "43bedde0-30f5-4278-e4c9-93c1a4e9d407"
      },
      "execution_count": null,
      "outputs": [
        {
          "output_type": "execute_result",
          "data": {
            "text/plain": [
              "['Penélope Camacho',\n",
              " 9.5,\n",
              " 10.0,\n",
              " 9.7,\n",
              " True,\n",
              " 9.733333333333333,\n",
              " 10.0,\n",
              " 8.0,\n",
              " 9.0,\n",
              " [10.0, 8.0, 9.0]]"
            ]
          },
          "metadata": {},
          "execution_count": 18
        }
      ]
    },
    {
      "cell_type": "markdown",
      "source": [
        "#### [`remove()`](https://docs.python.org/3/tutorial/datastructures.html#:~:text=append(x).-,list.remove(x),-Remove%20the%20first)\n",
        "\n",
        "Remueve un elemento específico de la lista."
      ],
      "metadata": {
        "id": "dPGM5gpyUX1z"
      }
    },
    {
      "cell_type": "code",
      "source": [
        "lista.remove([10.0,8.0,9.0])"
      ],
      "metadata": {
        "id": "mmboODPc8nd5"
      },
      "execution_count": null,
      "outputs": []
    },
    {
      "cell_type": "code",
      "source": [
        "lista"
      ],
      "metadata": {
        "id": "T_w6vVgV8nh_",
        "colab": {
          "base_uri": "https://localhost:8080/"
        },
        "outputId": "0266516c-47ba-4fe1-bf31-07a28826289c"
      },
      "execution_count": null,
      "outputs": [
        {
          "output_type": "execute_result",
          "data": {
            "text/plain": [
              "['Penélope Camacho', 9.5, 10.0, 9.7, True, 9.733333333333333, 10.0, 8.0, 9.0]"
            ]
          },
          "metadata": {},
          "execution_count": 20
        }
      ]
    },
    {
      "cell_type": "markdown",
      "source": [
        "## Diccionario"
      ],
      "metadata": {
        "id": "Rc22Vc08YDZ2"
      }
    },
    {
      "cell_type": "markdown",
      "source": [
        "Los diccionarios son un tipo de estructura de datos que almacenan pares de *llave-valor*. Estos son delimitados por llaves `{}` y los pares *llave-valor* son separados por comas.\n",
        "\n",
        "```\n",
        "diccionario = {llave: valor}\n",
        "```\n",
        "\n",
        "La **llave** es un elemento único que identifica a un valor en el diccionario, mientras que el **valor** es el item que será almacenado para la llave. Las llaves y sus respectivos valores se pueden emplear para **cualquier tipo de dato**.\n",
        "\n",
        "Los diccionarios son útiles para almacenar y acceder a los datos de manera organizada y rápida. Se trata de un tipo de conjunto de elementos en Python, pues almacenan una colección de items."
      ],
      "metadata": {
        "id": "PJ-cCKPjeWxL"
      }
    },
    {
      "cell_type": "markdown",
      "source": [
        "---\n",
        "**Situación:**\n",
        "\n",
        "Vamos a crear un conjunto de datos con las informaciones de matrícula de un estudiante. Los datos son los siguientes:\n",
        "\n",
        "- matrícula: 2000168933\n",
        "- día de registro: 25\n",
        "- mes de registro: 10\n",
        "- grupo: 2E"
      ],
      "metadata": {
        "id": "_JbQ3KMKfkXU"
      }
    },
    {
      "cell_type": "code",
      "source": [
        "estudiante = {\n",
        "    'matricula': 2000168933,\n",
        "    'dia': 25,\n",
        "    'mes': 10,\n",
        "    'grupo': '2E'\n",
        "}\n",
        "estudiante"
      ],
      "metadata": {
        "id": "0lfOu_c38jED",
        "colab": {
          "base_uri": "https://localhost:8080/"
        },
        "outputId": "e63c00a9-fb68-46cf-993e-eca79bebc081"
      },
      "execution_count": null,
      "outputs": [
        {
          "output_type": "execute_result",
          "data": {
            "text/plain": [
              "{'matricula': 2000168933, 'dia': 25, 'mes': 10, 'grupo': '2E'}"
            ]
          },
          "metadata": {},
          "execution_count": 22
        }
      ]
    },
    {
      "cell_type": "code",
      "source": [
        "estudiante['matricula']"
      ],
      "metadata": {
        "id": "XIuqpTTy8jHV",
        "colab": {
          "base_uri": "https://localhost:8080/"
        },
        "outputId": "791c2d97-227c-4a95-fac2-6d7753856b5e"
      },
      "execution_count": null,
      "outputs": [
        {
          "output_type": "execute_result",
          "data": {
            "text/plain": [
              "2000168933"
            ]
          },
          "metadata": {},
          "execution_count": 24
        }
      ]
    },
    {
      "cell_type": "markdown",
      "source": [
        "Es posible sustituir los valores dentro de una llave. Por ejemplo, recibimos la información de que el grupo del estudiante que registramos cambio a `'2G'` y ahora necesitamos cambiar el valor de la llave `'grupo'`."
      ],
      "metadata": {
        "id": "8ex5pt2ykDd2"
      }
    },
    {
      "cell_type": "code",
      "source": [
        "estudiante['grupo'] = '2G'"
      ],
      "metadata": {
        "id": "kQGlp36b8fyP"
      },
      "execution_count": null,
      "outputs": []
    },
    {
      "cell_type": "code",
      "source": [
        "estudiante"
      ],
      "metadata": {
        "id": "DnfH_qHi8f17",
        "colab": {
          "base_uri": "https://localhost:8080/"
        },
        "outputId": "1cf3c84f-895f-42ef-f9a4-7dd91ce25e64"
      },
      "execution_count": null,
      "outputs": [
        {
          "output_type": "execute_result",
          "data": {
            "text/plain": [
              "{'matricula': 2000168933, 'dia': 25, 'mes': 10, 'grupo': '2G'}"
            ]
          },
          "metadata": {},
          "execution_count": 26
        }
      ]
    },
    {
      "cell_type": "markdown",
      "source": [
        "También podemos añadir otros datos al diccionario. Vamos a añadir la información sobre la modalidad de estudio, nuestro estudiante estudiará inicialemente en la modalidad EAD.\n",
        "\n",
        "Definiremos una llave llamada `'modalidad'` con el valor `'EAD'`."
      ],
      "metadata": {
        "id": "wB0qRb56mQvv"
      }
    },
    {
      "cell_type": "code",
      "source": [
        "estudiante['modalidad'] = 'EAD'"
      ],
      "metadata": {
        "id": "EeLYdlIm8d8a"
      },
      "execution_count": null,
      "outputs": []
    },
    {
      "cell_type": "code",
      "source": [
        "estudiante"
      ],
      "metadata": {
        "id": "olDIavsm8d_o",
        "colab": {
          "base_uri": "https://localhost:8080/"
        },
        "outputId": "f5c25d5c-3767-4c57-efa2-99bae588b27d"
      },
      "execution_count": null,
      "outputs": [
        {
          "output_type": "execute_result",
          "data": {
            "text/plain": [
              "{'matricula': 2000168933,\n",
              " 'dia': 25,\n",
              " 'mes': 10,\n",
              " 'grupo': '2G',\n",
              " 'modalidad': 'EAD'}"
            ]
          },
          "metadata": {},
          "execution_count": 28
        }
      ]
    },
    {
      "cell_type": "code",
      "source": [
        "len(estudiante)"
      ],
      "metadata": {
        "colab": {
          "base_uri": "https://localhost:8080/"
        },
        "id": "kmaeqnunJheM",
        "outputId": "8c3f84ac-de7e-48c8-a2c2-5b6c3291b9a0"
      },
      "execution_count": null,
      "outputs": [
        {
          "output_type": "execute_result",
          "data": {
            "text/plain": [
              "5"
            ]
          },
          "metadata": {},
          "execution_count": 29
        }
      ]
    },
    {
      "cell_type": "markdown",
      "source": [
        "## Profundizando en diccionarios"
      ],
      "metadata": {
        "id": "LJ3o_inroxg_"
      }
    },
    {
      "cell_type": "markdown",
      "source": [
        "#### [`pop()`](https://python-reference.readthedocs.io/en/latest/docs/dict/pop.html)\n",
        "Remueve un item de un diccionario y lo representa en la salida."
      ],
      "metadata": {
        "id": "2N3GLlkSpBiu"
      }
    },
    {
      "cell_type": "code",
      "source": [
        "estudiante.pop('grupo')"
      ],
      "metadata": {
        "id": "ZsSCZx6G8b-T",
        "colab": {
          "base_uri": "https://localhost:8080/",
          "height": 35
        },
        "outputId": "62ab58ca-53a1-485a-8086-d4dbd5dd6675"
      },
      "execution_count": null,
      "outputs": [
        {
          "output_type": "execute_result",
          "data": {
            "text/plain": [
              "'2G'"
            ],
            "application/vnd.google.colaboratory.intrinsic+json": {
              "type": "string"
            }
          },
          "metadata": {},
          "execution_count": 30
        }
      ]
    },
    {
      "cell_type": "code",
      "source": [
        "estudiante"
      ],
      "metadata": {
        "id": "7lQ8_jpi8cBR",
        "colab": {
          "base_uri": "https://localhost:8080/"
        },
        "outputId": "b1028d15-99b9-4df1-ee1b-abee686abcd0"
      },
      "execution_count": null,
      "outputs": [
        {
          "output_type": "execute_result",
          "data": {
            "text/plain": [
              "{'matricula': 2000168933, 'dia': 25, 'mes': 10, 'modalidad': 'EAD'}"
            ]
          },
          "metadata": {},
          "execution_count": 31
        }
      ]
    },
    {
      "cell_type": "markdown",
      "source": [
        "#### [`items()`](https://python-reference.readthedocs.io/en/latest/docs/dict/items.html)\n",
        "Retorna una lista de pares `llave-valor` del diccionario."
      ],
      "metadata": {
        "id": "sYZGvJJYrW_y"
      }
    },
    {
      "cell_type": "code",
      "source": [
        "estudiante.items()"
      ],
      "metadata": {
        "id": "ncdycLV08an7",
        "colab": {
          "base_uri": "https://localhost:8080/"
        },
        "outputId": "3a00b484-4a46-49c5-f17e-57f6d1d1debf"
      },
      "execution_count": null,
      "outputs": [
        {
          "output_type": "execute_result",
          "data": {
            "text/plain": [
              "dict_items([('matricula', 2000168933), ('dia', 25), ('mes', 10), ('modalidad', 'EAD')])"
            ]
          },
          "metadata": {},
          "execution_count": 32
        }
      ]
    },
    {
      "cell_type": "markdown",
      "source": [
        "#### [`keys()`](https://python-reference.readthedocs.io/en/latest/docs/dict/keys.html)\n",
        "Retorna una lista de las llaves del diccionario."
      ],
      "metadata": {
        "id": "Lb0utNFGrZBY"
      }
    },
    {
      "cell_type": "code",
      "source": [
        "estudiante.keys()"
      ],
      "metadata": {
        "id": "eZo0biaM8ZVs",
        "colab": {
          "base_uri": "https://localhost:8080/"
        },
        "outputId": "fdefcf2d-dc14-4316-9c13-6490c141acde"
      },
      "execution_count": null,
      "outputs": [
        {
          "output_type": "execute_result",
          "data": {
            "text/plain": [
              "dict_keys(['matricula', 'dia', 'mes', 'modalidad'])"
            ]
          },
          "metadata": {},
          "execution_count": 33
        }
      ]
    },
    {
      "cell_type": "markdown",
      "source": [
        "#### [`values()`](https://python-reference.readthedocs.io/en/latest/docs/dict/values.html)\n",
        "Retorna una lista de los valores del diccionario."
      ],
      "metadata": {
        "id": "qKyu3bf9rbtX"
      }
    },
    {
      "cell_type": "code",
      "source": [
        "estudiante.values()"
      ],
      "metadata": {
        "id": "-NxRT9C18Yvo",
        "colab": {
          "base_uri": "https://localhost:8080/"
        },
        "outputId": "a9b99983-ec66-45cf-c6b5-29bf26e18582"
      },
      "execution_count": null,
      "outputs": [
        {
          "output_type": "execute_result",
          "data": {
            "text/plain": [
              "dict_values([2000168933, 25, 10, 'EAD'])"
            ]
          },
          "metadata": {},
          "execution_count": 34
        }
      ]
    },
    {
      "cell_type": "markdown",
      "source": [
        "### Lectura de valores con el lazo `for`"
      ],
      "metadata": {
        "id": "e3XVjR8Frp75"
      }
    },
    {
      "cell_type": "code",
      "source": [
        "for llave in estudiante.keys():\n",
        "  print(llave)"
      ],
      "metadata": {
        "id": "NYcjU-Ip8Xan",
        "colab": {
          "base_uri": "https://localhost:8080/"
        },
        "outputId": "6470cf1c-4857-4f8d-e992-6ac4bde380d1"
      },
      "execution_count": null,
      "outputs": [
        {
          "output_type": "stream",
          "name": "stdout",
          "text": [
            "matricula\n",
            "dia\n",
            "mes\n",
            "modalidad\n"
          ]
        }
      ]
    },
    {
      "cell_type": "code",
      "source": [
        "for llave, valor in estudiante.items():\n",
        "  print(f'{llave}: {valor}')"
      ],
      "metadata": {
        "id": "aAnpP1Wv8XfJ",
        "colab": {
          "base_uri": "https://localhost:8080/"
        },
        "outputId": "9ff907e2-8877-48ba-bdbd-722187caa6ec"
      },
      "execution_count": null,
      "outputs": [
        {
          "output_type": "stream",
          "name": "stdout",
          "text": [
            "matricula: 2000168933\n",
            "dia: 25\n",
            "mes: 10\n",
            "modalidad: EAD\n"
          ]
        }
      ]
    },
    {
      "cell_type": "code",
      "source": [
        "tienda = {'nombres': ['televisión', 'celular', 'notebook', 'geladeira', 'estufa'],\n",
        "          'precios': [2000, 1500, 3500, 4000, 1500]}\n",
        "tienda"
      ],
      "metadata": {
        "colab": {
          "base_uri": "https://localhost:8080/"
        },
        "id": "NngJpPF2Kg77",
        "outputId": "79cd0997-559d-4211-814e-182cae8b052f"
      },
      "execution_count": null,
      "outputs": [
        {
          "output_type": "execute_result",
          "data": {
            "text/plain": [
              "{'nombres': ['televisión', 'celular', 'notebook', 'geladeira', 'estufa'],\n",
              " 'precios': [2000, 1500, 3500, 4000, 1500]}"
            ]
          },
          "metadata": {},
          "execution_count": 37
        }
      ]
    },
    {
      "cell_type": "code",
      "source": [
        "for clave, elementos in tienda.items():\n",
        "  print(f'Clave: {clave}\\nElementos:')\n",
        "  for dato in elementos:\n",
        "    print(dato)"
      ],
      "metadata": {
        "colab": {
          "base_uri": "https://localhost:8080/"
        },
        "id": "T40smJYlKjl-",
        "outputId": "0c433838-f80e-4c0a-da95-0abb39ef9f66"
      },
      "execution_count": null,
      "outputs": [
        {
          "output_type": "stream",
          "name": "stdout",
          "text": [
            "Clave: nombres\n",
            "Elementos:\n",
            "televisión\n",
            "celular\n",
            "notebook\n",
            "geladeira\n",
            "estufa\n",
            "Clave: precios\n",
            "Elementos:\n",
            "2000\n",
            "1500\n",
            "3500\n",
            "4000\n",
            "1500\n"
          ]
        }
      ]
    },
    {
      "cell_type": "markdown",
      "source": [
        "### Entrenando la programación"
      ],
      "metadata": {
        "id": "cd4DekbHLHbP"
      }
    },
    {
      "cell_type": "code",
      "source": [
        "'''Programa que calcula el promedio de gastos de una lista.'''\n",
        "gastos = [2172.54, 3701.35, 3518.09, 3456.61, 3249.38, 2840.82, 3891.45, 3075.26, 2317.64, 3219.08]\n",
        "promedio = sum(gastos) / len(gastos)\n",
        "print(f'El promedio de gastos es: {promedio}')"
      ],
      "metadata": {
        "id": "MjngHv5RLOMd",
        "outputId": "f02f9282-f247-46c0-c4b5-6befe034b897",
        "colab": {
          "base_uri": "https://localhost:8080/"
        }
      },
      "execution_count": null,
      "outputs": [
        {
          "output_type": "stream",
          "name": "stdout",
          "text": [
            "El promedio de gastos es: 3144.222\n"
          ]
        }
      ]
    },
    {
      "cell_type": "code",
      "source": [
        "'''Programa que determina cuántas compras se realizaron por encima de 3000 reales y calcula el porcentaje con respecto al total de compras.'''\n",
        "gastos = [2172.54, 3701.35, 3518.09, 3456.61, 3249.38, 2840.82, 3891.45, 3075.26, 2317.64, 3219.08]\n",
        "compras_mayor_3000 = sum(1 for gasto in gastos if gasto > 3000)\n",
        "print(f'{compras_mayor_3000} compras se realizaron por encima de 3000 reales')\n",
        "print(f'Equivale al {(contador / len(gastos) * 100):.2f}% del total de compras')"
      ],
      "metadata": {
        "id": "6S6cTxIfLZWO",
        "outputId": "78f63b22-199a-453c-9bb3-b9135ba16657",
        "colab": {
          "base_uri": "https://localhost:8080/"
        }
      },
      "execution_count": 22,
      "outputs": [
        {
          "output_type": "stream",
          "name": "stdout",
          "text": [
            "7 compras se realizaron por encima de 3000 reales\n",
            "Equivale al 70.00% del total de compras\n"
          ]
        }
      ]
    },
    {
      "cell_type": "code",
      "source": [
        "'''Programa que recoge en una lista 5 números enteros aleatorios e imprime la lista.'''\n",
        "import random\n",
        "lista = [random.randint(1, 10) for i in range(5)]\n",
        "print(lista)"
      ],
      "metadata": {
        "id": "4zbyfsELMrD9",
        "outputId": "c291a87a-704a-45b8-a428-d6f897987cb1",
        "colab": {
          "base_uri": "https://localhost:8080/"
        }
      },
      "execution_count": 23,
      "outputs": [
        {
          "output_type": "stream",
          "name": "stdout",
          "text": [
            "[6, 2, 2, 5, 8]\n"
          ]
        }
      ]
    },
    {
      "cell_type": "code",
      "source": [
        "'''Programa que imprime la lista en orden inverso al enviado.'''\n",
        "lista.reverse()\n",
        "print(lista)"
      ],
      "metadata": {
        "id": "U0lmztqdMzAc",
        "outputId": "aa848a51-152e-4bc3-a7a2-4965a4cef43c",
        "colab": {
          "base_uri": "https://localhost:8080/"
        }
      },
      "execution_count": 24,
      "outputs": [
        {
          "output_type": "stream",
          "name": "stdout",
          "text": [
            "[8, 5, 2, 2, 6]\n"
          ]
        }
      ]
    },
    {
      "cell_type": "code",
      "source": [
        "'''Programa que solicita al usuario ingresar un número cualquiera, genere una lista que contenga todos los números primos entre 1 y el número ingresado.'''\n",
        "\n",
        "while True:\n",
        "  try:\n",
        "    num = int(input('Ingrese un número: '))\n",
        "    break\n",
        "  except ValueError:\n",
        "    print('Error: Debe escribir un número.')\n",
        "\n",
        "primos = []\n",
        "\n",
        "for i in range(2, num + 1):\n",
        "  es_primo = True\n",
        "  for j in range(2, i):\n",
        "    if i % j == 0:\n",
        "      es_primo = False\n",
        "      break\n",
        "  if es_primo:\n",
        "    primos.append(i)\n",
        "\n",
        "print(f'Lista de números primos: {primos}')"
      ],
      "metadata": {
        "id": "yfWf_ElbM_LP",
        "outputId": "e6ff9e09-475d-445a-b854-8adf97ecbe06",
        "colab": {
          "base_uri": "https://localhost:8080/"
        }
      },
      "execution_count": 25,
      "outputs": [
        {
          "output_type": "stream",
          "name": "stdout",
          "text": [
            "Ingrese un número: 39\n",
            "Lista de números primos: [2, 3, 5, 7, 11, 13, 17, 19, 23, 29, 31, 37]\n"
          ]
        }
      ]
    },
    {
      "cell_type": "code",
      "source": [
        "'''Programa que solicita al usuario una fecha, especificando el día, mes y año, y determina si es válida para su análisis.'''\n",
        "\n",
        "while True:\n",
        "  try:\n",
        "    dia = int(input('Ingrese el día: '))\n",
        "    break\n",
        "  except ValueError:\n",
        "    print('Error: Debe escribir un número.')\n",
        "\n",
        "while True:\n",
        "  try:\n",
        "    mes = int(input('Ingrese el mes: '))\n",
        "    break\n",
        "  except ValueError:\n",
        "    print('Error: Debe escribir un número.')\n",
        "\n",
        "while True:\n",
        "  try:\n",
        "    año = int(input('Ingrese el año: '))\n",
        "    break\n",
        "  except ValueError:\n",
        "    print('Error: Debe escribir un número.')\n",
        "\n",
        "if not 1 <= mes <= 12:\n",
        "    print('Fecha inválida: El mes debe estar entre 1 y 12.')\n",
        "else:\n",
        "    dias_por_mes = [0, 31, 28, 31, 30, 31, 30, 31, 31, 30, 31, 30, 31]\n",
        "    if mes == 2:\n",
        "        if año % 4 == 0 and (año % 400 == 0 or año % 100 != 0):\n",
        "            max_dias = 29\n",
        "        else:\n",
        "            max_dias = 28\n",
        "    else:\n",
        "        max_dias = dias_por_mes[mes]\n",
        "\n",
        "    if 1 <= dia <= max_dias:\n",
        "        print('Fecha válida')\n",
        "    else:\n",
        "        print('Fecha inválida: El día no es válido para el mes y año ingresados.')"
      ],
      "metadata": {
        "id": "OadBr7tvNM0j",
        "outputId": "70e23c9a-37bb-498f-c301-1aa859740845",
        "colab": {
          "base_uri": "https://localhost:8080/"
        }
      },
      "execution_count": 32,
      "outputs": [
        {
          "output_type": "stream",
          "name": "stdout",
          "text": [
            "Ingrese el día: 1\n",
            "Ingrese el mes: 1\n",
            "Ingrese el año: -1\n",
            "Fecha válida\n"
          ]
        }
      ]
    },
    {
      "cell_type": "markdown",
      "source": [
        "### Momento para los proyectos"
      ],
      "metadata": {
        "id": "N_icE8WnLObB"
      }
    },
    {
      "cell_type": "code",
      "source": [
        "'''\n",
        "Para un estudio sobre la multiplicación de bacterias en una colonia, se recopiló el número de bacterias\n",
        "multiplicadas por día. Con estos valores, se genera una lista que contenga el porcentaje de crecimiento\n",
        "de bacterias por día, comparando el número de bacterias en cada día con el número de bacterias del día anterior.\n",
        "'''\n",
        "\n",
        "bacterias, crecimiento = [1.2, 2.1, 3.3, 5.0, 7.8, 11.3, 16.6, 25.1, 37.8, 56.9], []\n",
        "\n",
        "for i in range(1, len(bacterias)):\n",
        "  porcentaje = 100 * (bacterias[i] - bacterias[i - 1]) / bacterias[i - 1]\n",
        "  crecimiento.append(porcentaje)\n",
        "\n",
        "crecimiento = [\"{:.2f}\".format(x) for x in crecimiento]\n",
        "print(f'Porcentaje de crecimiento: {crecimiento}')"
      ],
      "metadata": {
        "id": "T2jHU2y9N5fq",
        "outputId": "a1f57752-e631-4182-9480-406cc360f7d4",
        "colab": {
          "base_uri": "https://localhost:8080/"
        }
      },
      "execution_count": 34,
      "outputs": [
        {
          "output_type": "stream",
          "name": "stdout",
          "text": [
            "Porcentaje de crecimiento: ['75.00', '57.14', '51.52', '56.00', '44.87', '46.90', '51.20', '50.60', '50.53']\n"
          ]
        }
      ]
    },
    {
      "cell_type": "code",
      "source": [
        "'''\n",
        "Para una selección de productos alimenticios, se separa el conjunto de IDs proporcionados por números enteros,\n",
        "sabiendo que los productos con ID par son dulces y los que tienen ID impar son amargos. El programa recoge 10 IDs.\n",
        "Luego, se calcula y muestra la cantidad de productos dulces y amargos.\n",
        "'''\n",
        "\n",
        "ids = []\n",
        "\n",
        "for i in range(10):\n",
        "  while True:\n",
        "    try:\n",
        "      ids.append(int(input(f'Ingrese el ID {i+1}°: ')))\n",
        "      break\n",
        "    except ValueError:\n",
        "      print('Error: Debe escribir un número.')\n",
        "\n",
        "dulces = sum(1 for id in ids if id % 2 == 0)\n",
        "amargos = sum(1 for id in ids if id % 2 != 0)\n",
        "\n",
        "print(f'Cantidad de dulces: {dulces}', f'Cantidad de amargos: {amargos}', sep='\\n')"
      ],
      "metadata": {
        "id": "wCj7QMeDRA2Q",
        "outputId": "ed129381-ae90-4411-abdd-b4b71d505c80",
        "colab": {
          "base_uri": "https://localhost:8080/"
        }
      },
      "execution_count": 36,
      "outputs": [
        {
          "output_type": "stream",
          "name": "stdout",
          "text": [
            "Ingrese el ID 1°: 1\n",
            "Ingrese el ID 2°: 2\n",
            "Ingrese el ID 3°: 3\n",
            "Ingrese el ID 4°: 4\n",
            "Ingrese el ID 5°: 5\n",
            "Ingrese el ID 6°: 6\n",
            "Ingrese el ID 7°: 7\n",
            "Ingrese el ID 8°: 8\n",
            "Ingrese el ID 9°: 9\n",
            "Ingrese el ID 10°: 10\n",
            "Cantidad de dulces: 5\n",
            "Cantidad de amargos: 5\n"
          ]
        }
      ]
    },
    {
      "cell_type": "code",
      "source": [
        "'''Programa que informa la puntuación de un estudiante de acuerdo con sus respuestas.\n",
        "Se solicita la respuesta del estudiante para cada pregunta y verifica si la respuesta\n",
        "coincide con el resultado. Cada pregunta vale un punto y hay opciones A, B, C o D.'''\n",
        "\n",
        "respuestas, resultados = [], ['D', 'A', 'C', 'B', 'A', 'D', 'C', 'C', 'A', 'B']\n",
        "\n",
        "for i in range(10):\n",
        "  while True:\n",
        "    respuesta = input(f'Ingrese la respuesta de la pregunta {i+1}: ').upper()\n",
        "    if not respuesta in ['A', 'B', 'C', 'D']:\n",
        "      print('Error: Debe escribir una letra de la A a la D.')\n",
        "      continue\n",
        "    respuestas.append(respuesta)\n",
        "    break\n",
        "\n",
        "nota = sum(1 for i in range(10) if respuestas[i] == resultados[i])\n",
        "\n",
        "print(f'Nota final: {nota}')"
      ],
      "metadata": {
        "id": "kHVinHCtSBU7",
        "outputId": "1e3c3d66-1ab4-416c-ef3c-e54de271071d",
        "colab": {
          "base_uri": "https://localhost:8080/"
        }
      },
      "execution_count": 46,
      "outputs": [
        {
          "output_type": "stream",
          "name": "stdout",
          "text": [
            "Ingrese la respuesta de la pregunta 1: 0\n",
            "Error: Debe escribir una letra de la A a la D.\n",
            "Ingrese la respuesta de la pregunta 1: e\n",
            "Error: Debe escribir una letra de la A a la D.\n",
            "Ingrese la respuesta de la pregunta 1: d\n",
            "Ingrese la respuesta de la pregunta 2: a\n",
            "Ingrese la respuesta de la pregunta 3: c\n",
            "Ingrese la respuesta de la pregunta 4: b\n",
            "Ingrese la respuesta de la pregunta 5: a\n",
            "Ingrese la respuesta de la pregunta 6: d\n",
            "Ingrese la respuesta de la pregunta 7: c\n",
            "Ingrese la respuesta de la pregunta 8: c\n",
            "Ingrese la respuesta de la pregunta 9: a\n",
            "Ingrese la respuesta de la pregunta 10: b\n",
            "Nota final: 10\n"
          ]
        }
      ]
    },
    {
      "cell_type": "code",
      "source": [
        "'''Un instituto de meteorología desea realizar un estudio de la temperatura media de cada mes del año. Para ello, el programa\n",
        "recoge y almacena esas temperaturas medias en una lista. Luego, calcula el promedio anual de las temperaturas y muestra todas\n",
        "las temperaturas por encima del promedio anual y en qué mes ocurrieron, mostrando los meses por su nombre.'''\n",
        "\n",
        "import random\n",
        "\n",
        "temperaturas = [random.randint(20, 40) for i in range(12)]\n",
        "meses = ['Enero', 'Febrero', 'Marzo', 'Abril', 'Mayo', 'Junio', 'Julio', 'Agosto', 'Septiembre', 'Octubre', 'Noviembre', 'Diciembre']\n",
        "promedio = sum(temperaturas) / len(temperaturas)\n",
        "print(temperaturas, f'Promedio anual: {promedio}', sep='\\n')\n",
        "\n",
        "for i in range(len(temperaturas)):\n",
        "  if temperaturas[i] > promedio:\n",
        "    print(f'{meses[i]}: {temperaturas[i]}')"
      ],
      "metadata": {
        "id": "EzEJhgymS6zt",
        "outputId": "517cbeb0-f4c2-4724-bf70-9ca4d500fad9",
        "colab": {
          "base_uri": "https://localhost:8080/"
        }
      },
      "execution_count": 54,
      "outputs": [
        {
          "output_type": "stream",
          "name": "stdout",
          "text": [
            "[20, 40, 29, 26, 30, 21, 35, 24, 34, 30, 37, 31]\n",
            "Promedio anual: 29.75\n",
            "Febrero: 40\n",
            "Mayo: 30\n",
            "Julio: 35\n",
            "Septiembre: 34\n",
            "Octubre: 30\n",
            "Noviembre: 37\n",
            "Diciembre: 31\n"
          ]
        }
      ]
    },
    {
      "cell_type": "code",
      "source": [
        "'''Programa que calcula el total de ventas y el producto más vendido de un diccionario.'''\n",
        "\n",
        "ventas = {'Producto A': 300, 'Producto B': 80, 'Producto C': 60, 'Producto D': 200, 'Producto E': 250, 'Producto F': 30}\n",
        "total = sum(ventas.values())\n",
        "producto_mas_vendido = max(ventas, key=ventas.get)\n",
        "print(f'Total de ventas: {total}', f'Producto más vendido: {producto_mas_vendido}', sep='\\n')"
      ],
      "metadata": {
        "id": "Be9KFgCPYEjs",
        "outputId": "a06d47f0-57b1-4625-f79a-2497df5cfd82",
        "colab": {
          "base_uri": "https://localhost:8080/"
        }
      },
      "execution_count": 55,
      "outputs": [
        {
          "output_type": "stream",
          "name": "stdout",
          "text": [
            "Total de ventas: 920\n",
            "Producto más vendido: Producto A\n"
          ]
        }
      ]
    },
    {
      "cell_type": "code",
      "source": [
        "'''Programa que informa el diseño ganador y el porcentaje de votos recibidos de una encuesta de mercado.'''\n",
        "\n",
        "votos = {'Diseño 1': 1334, 'Diseño 2': 982, 'Diseño 3': 1751, 'Diseño 4': 210, 'Diseño 5': 1811}\n",
        "diseño_ganador = max(votos, key=votos.get)\n",
        "total_votos = sum(votos.values())\n",
        "porcentaje_ganador = (votos[diseño_ganador] / total_votos) * 100\n",
        "print(f'Diseño ganador: {diseño_ganador}', f'Porcentaje de votos recibidos: {porcentaje_ganador}', sep='\\n')"
      ],
      "metadata": {
        "id": "4UkgmQCIYhzK",
        "outputId": "aef8ef91-7de5-4f50-ed27-d7c29ee49afe",
        "colab": {
          "base_uri": "https://localhost:8080/"
        }
      },
      "execution_count": 56,
      "outputs": [
        {
          "output_type": "stream",
          "name": "stdout",
          "text": [
            "Diseño ganador: Diseño 5\n",
            "Porcentaje de votos recibidos: 29.747043363994745\n"
          ]
        }
      ]
    },
    {
      "cell_type": "code",
      "source": [
        "'''Los empleados de un departamento de una empresa recibirán una bonificación del 10% de su salario debido a un\n",
        "excelente rendimiento del equipo. La bonificación de cada empleado no puede ser inferior a 200. Los salarios son\n",
        "claves de un diccionario y la bonificación de cada salario en el valor correspondiente. Se informa el gasto total\n",
        "en bonificaciones, cuántos empleados recibieron la bonificación mínima y cuál fue el valor más alto de la bonificación proporcionada.'''\n",
        "\n",
        "salarios = [1172, 1644, 2617, 5130, 5532, 6341, 6650, 7238, 7685, 7782, 7903]\n",
        "diccionario_abonos = {}\n",
        "\n",
        "for salario in salarios:\n",
        "    abono = salario * 0.1\n",
        "    if abono < 200:\n",
        "        abono = 200\n",
        "    diccionario_abonos[salario] = abono\n",
        "\n",
        "bono_minimo = sum(1 for abono in diccionario_abonos.values() if abono == 200)\n",
        "total_abono = sum(diccionario_abonos.values())\n",
        "mayor_abono = max(diccionario_abonos.values())\n",
        "\n",
        "print(f'Abonos: {diccionario_abonos}', f'Total de gastos en abonos: {total_abono}',\n",
        "      f'Número de empleados que recibieron el abono mínimo: {bono_minimo}', f'Mayor valor de abono: {mayor_abono}', sep='\\n')"
      ],
      "metadata": {
        "id": "sksS_0hjY4tR",
        "outputId": "2ea9f8da-380f-4577-aedf-c3730de4068b",
        "colab": {
          "base_uri": "https://localhost:8080/"
        }
      },
      "execution_count": 58,
      "outputs": [
        {
          "output_type": "stream",
          "name": "stdout",
          "text": [
            "Abonos: {1172: 200, 1644: 200, 2617: 261.7, 5130: 513.0, 5532: 553.2, 6341: 634.1, 6650: 665.0, 7238: 723.8000000000001, 7685: 768.5, 7782: 778.2, 7903: 790.3000000000001}\n",
            "Total de gastos en abonos: 6087.8\n",
            "Número de empleados que recibieron el abono mínimo: 2\n",
            "Mayor valor de abono: 790.3000000000001\n"
          ]
        }
      ]
    },
    {
      "cell_type": "code",
      "source": [
        "'''Programa que calcula el promedio de especies por área e identifica el área con la mayor diversidad biológica en un bosque.'''\n",
        "\n",
        "bosque = {'Área Norte': [2819, 7236], 'Área Este': [1440, 9492], 'Área Sur': [5969, 7496], 'Área Oeste': [14446, 49688], 'Área Centro': [22558, 45148]}\n",
        "\n",
        "for area, especies in bosque.items():\n",
        "  promedio_area = sum(especies) / len(especies)\n",
        "  print(f'{area}: {promedio_area:.0f} especies')\n",
        "mayor_diversidad = max(bosque, key=bosque.get)\n",
        "\n",
        "print(f'Área con mayor diversidad biológica: {mayor_diversidad}')"
      ],
      "metadata": {
        "id": "-C3aSVvZb7Sg",
        "outputId": "a9dbe99a-484b-4317-c6c2-2824d0bb459a",
        "colab": {
          "base_uri": "https://localhost:8080/"
        }
      },
      "execution_count": null,
      "outputs": [
        {
          "output_type": "stream",
          "name": "stdout",
          "text": [
            "Área Norte: 5028 especies\n",
            "Área Este: 5466 especies\n",
            "Área Sur: 6732 especies\n",
            "Área Oeste: 32067 especies\n",
            "Área Centro: 33853 especies\n",
            "Área con mayor diversidad biológica: Área Centro\n"
          ]
        }
      ]
    },
    {
      "cell_type": "code",
      "source": [
        "'''Programa que calcula la media de edad de cada sector, la edad media general entre todos los sectores y cuántas personas están por encima de la edad media general.'''\n",
        "\n",
        "datos = {'Setor A': [22, 26, 30, 30, 35, 38, 40, 56, 57, 65],\n",
        "         'Setor B': [22, 24, 26, 33, 41, 49, 50, 54, 60, 64],\n",
        "         'Setor C': [23, 26, 26, 29, 34, 35, 36, 41, 52, 56],\n",
        "         'Setor D': [19, 20, 25, 27, 34, 39, 42, 44, 50, 65]\n",
        "}\n",
        "\n",
        "for sector, edades in datos.items():\n",
        "  media = sum(edades) / len(edades)\n",
        "  print(f'{sector}: {media}')\n",
        "\n",
        "media_general = sum([sum(edades) for edades in datos.values()]) / sum([len(edades) for edades in datos.values()])\n",
        "mayores_media_general = sum(1 for edades in datos.values() for edad in edades if edad > media_general)\n",
        "print(f'Media general: {media_general}', f'Mayores al promedio general: {mayores_media_general}', sep='\\n')"
      ],
      "metadata": {
        "id": "CpedKlqXjyUi",
        "outputId": "f7cc7e50-d88a-4baa-ef1a-445a44cdbb79",
        "colab": {
          "base_uri": "https://localhost:8080/"
        }
      },
      "execution_count": 61,
      "outputs": [
        {
          "output_type": "stream",
          "name": "stdout",
          "text": [
            "Setor A: 39.9\n",
            "Setor B: 42.3\n",
            "Setor C: 35.8\n",
            "Setor D: 36.5\n",
            "Media general: 38.625\n",
            "Mayores al promedio general: 18\n"
          ]
        }
      ]
    }
  ]
}